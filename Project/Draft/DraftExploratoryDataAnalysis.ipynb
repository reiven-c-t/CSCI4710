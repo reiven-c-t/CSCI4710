{
 "cells": [
  {
   "cell_type": "markdown",
   "metadata": {
    "collapsed": true
   },
   "source": [
    "# INET 4710 Project\n",
    "\n",
    "Text Analysis of historical interaction data & content from removed facebook pages.\n",
    "\n",
    "Author:"
   ]
  },
  {
   "cell_type": "markdown",
   "metadata": {},
   "source": [
    "## 1. Overview\n",
    "\n",
    "- what is the business problem?\n",
    "- Briefly describe the main objective of the project.\n",
    "- List models created for project\n",
    "- Include relevant references\n",
    "\n",
    "The data is from Facebook's user comment linked to 2016 US election investigation from following facebook pages.\n",
    "\n",
    "- being_patriotic\n",
    "- blacktivist\n",
    "- lgbt_united\n",
    "- secured_borders\n",
    "- united_muslims_of_america\n",
    "\n",
    "\n",
    "Data vizualization example: <https://public.tableau.com/profile/d1gi#!/vizhome/FB4/TotalReachbyPage>"
   ]
  },
  {
   "cell_type": "markdown",
   "metadata": {},
   "source": [
    "----"
   ]
  },
  {
   "cell_type": "markdown",
   "metadata": {},
   "source": [
    "## 2. Exploratory Data Analysis"
   ]
  },
  {
   "cell_type": "code",
   "execution_count": 36,
   "metadata": {},
   "outputs": [],
   "source": [
    "# Loading data\n",
    "from os import path\n",
    "import pandas as pd\n",
    "\n",
    "data_path = '/Users/reiven/Documents/Python/CSCI4710/Project/Data'\n",
    "\n",
    "blacktivist_data = pd.read_csv(path.join(data_path, 'blacktivist.csv'))\n",
    "being_patriotic_data = pd.read_csv(path.join(data_path, 'being_patriotic.csv'))\n",
    "# heart_of_texas_data = pd.read_csv(path.join(data_path, 'heart_of_texas.csv'))\n",
    "lgbt_united_data = pd.read_csv(path.join(data_path, 'lgbt_united.csv'))\n",
    "secured_borders_data = pd.read_csv(path.join(data_path, 'secured_borders.csv'))\n",
    "united_muslims_of_america_data = pd.read_csv(path.join(data_path, 'united_muslims_of_america.csv'))\n",
    "summary_stats = pd.read_csv(path.join(data_path, 'fb_removed_list_stats.csv'))\n",
    "\n",
    "def show_basic_info(data, title):\n",
    "    \"\"\"\n",
    "    Function to show exploratory data analysis \n",
    "    that shows following tooic.\n",
    "    \n",
    "    - shape(# of rows and columns)\n",
    "    - data set column names and it's field definition(data type)\n",
    "    - count of efficient(not Blank) data\n",
    "    \n",
    "    :param data: panda's dataframe\n",
    "    :param title: string\n",
    "    :return: \n",
    "    \"\"\"\n",
    "    sep = \"\\n\" + \"-\" * 10 + \"\\n\"\n",
    "    print(\"Data:\", title)\n",
    "    print(\"Shape(row, column):\", data.shape, sep)\n",
    "    print(\"Column name and it's data type\")\n",
    "    print(data.info(), sep)\n",
    "    print(\"Count of efficient(Not NA) data\")\n",
    "    print(data.count(), sep)\n",
    "    print(\"Basic statistics of the data\")\n",
    "    print(data.describe(include='all'), sep)\n",
    "    print(\"Show first 5 data\")\n",
    "    print(data.head(5))"
   ]
  },
  {
   "cell_type": "markdown",
   "metadata": {},
   "source": [
    "### 2.1. Short summary of all the data"
   ]
  },
  {
   "cell_type": "code",
   "execution_count": 37,
   "metadata": {},
   "outputs": [
    {
     "data": {
      "text/html": [
       "<div>\n",
       "<style>\n",
       "    .dataframe thead tr:only-child th {\n",
       "        text-align: right;\n",
       "    }\n",
       "\n",
       "    .dataframe thead th {\n",
       "        text-align: left;\n",
       "    }\n",
       "\n",
       "    .dataframe tbody tr th {\n",
       "        vertical-align: top;\n",
       "    }\n",
       "</style>\n",
       "<table border=\"1\" class=\"dataframe\">\n",
       "  <thead>\n",
       "    <tr style=\"text-align: right;\">\n",
       "      <th></th>\n",
       "      <th>source</th>\n",
       "      <th>page_url</th>\n",
       "      <th>page_status</th>\n",
       "      <th>total_shares</th>\n",
       "      <th>interactions</th>\n",
       "      <th>number_of_posts</th>\n",
       "      <th>word_count</th>\n",
       "    </tr>\n",
       "  </thead>\n",
       "  <tbody>\n",
       "    <tr>\n",
       "      <th>0</th>\n",
       "      <td>Blacktivists</td>\n",
       "      <td>Facebook.com/Blacktivists</td>\n",
       "      <td>removed</td>\n",
       "      <td>103767792</td>\n",
       "      <td>6182835</td>\n",
       "      <td>500+</td>\n",
       "      <td>15349.0</td>\n",
       "    </tr>\n",
       "    <tr>\n",
       "      <th>1</th>\n",
       "      <td>Heart of Texas</td>\n",
       "      <td>Facebook.com/Txrebels</td>\n",
       "      <td>removed</td>\n",
       "      <td>102950151</td>\n",
       "      <td>3453143</td>\n",
       "      <td>500+</td>\n",
       "      <td>NaN</td>\n",
       "    </tr>\n",
       "    <tr>\n",
       "      <th>2</th>\n",
       "      <td>United Muslims of America</td>\n",
       "      <td>Facebook.Com/MuslimAmerica</td>\n",
       "      <td>removed</td>\n",
       "      <td>71355895</td>\n",
       "      <td>2128875</td>\n",
       "      <td>500+</td>\n",
       "      <td>6892.0</td>\n",
       "    </tr>\n",
       "    <tr>\n",
       "      <th>3</th>\n",
       "      <td>Being Patriotic</td>\n",
       "      <td>Facebook.Com/Patriototus</td>\n",
       "      <td>removed</td>\n",
       "      <td>51139860</td>\n",
       "      <td>4438745</td>\n",
       "      <td>500+</td>\n",
       "      <td>53782.0</td>\n",
       "    </tr>\n",
       "    <tr>\n",
       "      <th>4</th>\n",
       "      <td>Secured Borders</td>\n",
       "      <td>Facebook.Com/Secured.Borders</td>\n",
       "      <td>removed</td>\n",
       "      <td>5600136</td>\n",
       "      <td>1592771</td>\n",
       "      <td>500+</td>\n",
       "      <td>53850.0</td>\n",
       "    </tr>\n",
       "    <tr>\n",
       "      <th>5</th>\n",
       "      <td>LGBT United</td>\n",
       "      <td>Facebook.Com/Lgtbun</td>\n",
       "      <td>removed</td>\n",
       "      <td>5187494</td>\n",
       "      <td>1262386</td>\n",
       "      <td>500+</td>\n",
       "      <td>15020.0</td>\n",
       "    </tr>\n",
       "  </tbody>\n",
       "</table>\n",
       "</div>"
      ],
      "text/plain": [
       "<div>\n",
       "<style>\n",
       "    .dataframe thead tr:only-child th {\n",
       "        text-align: right;\n",
       "    }\n",
       "\n",
       "    .dataframe thead th {\n",
       "        text-align: left;\n",
       "    }\n",
       "\n",
       "    .dataframe tbody tr th {\n",
       "        vertical-align: top;\n",
       "    }\n",
       "</style>\n",
       "<table border=\"1\" class=\"dataframe\">\n",
       "  <thead>\n",
       "    <tr style=\"text-align: right;\">\n",
       "      <th></th>\n",
       "      <th>source</th>\n",
       "      <th>page_url</th>\n",
       "      <th>page_status</th>\n",
       "      <th>total_shares</th>\n",
       "      <th>interactions</th>\n",
       "      <th>number_of_posts</th>\n",
       "      <th>word_count</th>\n",
       "    </tr>\n",
       "  </thead>\n",
       "  <tbody>\n",
       "    <tr>\n",
       "      <th>0</th>\n",
       "      <td>Blacktivists</td>\n",
       "      <td>Facebook.com/Blacktivists</td>\n",
       "      <td>removed</td>\n",
       "      <td>103767792</td>\n",
       "      <td>6182835</td>\n",
       "      <td>500+</td>\n",
       "      <td>15349.0</td>\n",
       "    </tr>\n",
       "    <tr>\n",
       "      <th>1</th>\n",
       "      <td>Heart of Texas</td>\n",
       "      <td>Facebook.com/Txrebels</td>\n",
       "      <td>removed</td>\n",
       "      <td>102950151</td>\n",
       "      <td>3453143</td>\n",
       "      <td>500+</td>\n",
       "      <td>NaN</td>\n",
       "    </tr>\n",
       "    <tr>\n",
       "      <th>2</th>\n",
       "      <td>United Muslims of America</td>\n",
       "      <td>Facebook.Com/MuslimAmerica</td>\n",
       "      <td>removed</td>\n",
       "      <td>71355895</td>\n",
       "      <td>2128875</td>\n",
       "      <td>500+</td>\n",
       "      <td>6892.0</td>\n",
       "    </tr>\n",
       "    <tr>\n",
       "      <th>3</th>\n",
       "      <td>Being Patriotic</td>\n",
       "      <td>Facebook.Com/Patriototus</td>\n",
       "      <td>removed</td>\n",
       "      <td>51139860</td>\n",
       "      <td>4438745</td>\n",
       "      <td>500+</td>\n",
       "      <td>53782.0</td>\n",
       "    </tr>\n",
       "    <tr>\n",
       "      <th>4</th>\n",
       "      <td>Secured Borders</td>\n",
       "      <td>Facebook.Com/Secured.Borders</td>\n",
       "      <td>removed</td>\n",
       "      <td>5600136</td>\n",
       "      <td>1592771</td>\n",
       "      <td>500+</td>\n",
       "      <td>53850.0</td>\n",
       "    </tr>\n",
       "    <tr>\n",
       "      <th>5</th>\n",
       "      <td>LGBT United</td>\n",
       "      <td>Facebook.Com/Lgtbun</td>\n",
       "      <td>removed</td>\n",
       "      <td>5187494</td>\n",
       "      <td>1262386</td>\n",
       "      <td>500+</td>\n",
       "      <td>15020.0</td>\n",
       "    </tr>\n",
       "  </tbody>\n",
       "</table>\n",
       "</div>"
      ]
     },
     "execution_count": 37,
     "metadata": {},
     "output_type": "execute_result"
    }
   ],
   "source": [
    "summary_stats"
   ]
  },
  {
   "cell_type": "markdown",
   "metadata": {},
   "source": [
    "The result above shows that the there are 6 resources from facebook page, and all the page is removed. \n",
    "\n",
    "The top 2 pages(Blacktivists and Heart of Texas) has huge total shares compared to other topics, \n",
    "but the word count(it related to the amount of comment) is not so obviously huge.\n",
    "I assume people have much interesting to these 2 topics or the pages were created much older than the other pages.\n",
    "\n",
    "But, heart of texas data does not have actual comment text, so I omit in this project."
   ]
  },
  {
   "cell_type": "markdown",
   "metadata": {},
   "source": [
    "### 2.2 Basic statistics for each page data"
   ]
  },
  {
   "cell_type": "markdown",
   "metadata": {},
   "source": [
    "#### 2.2.1 Basic statistics about Blactivist page"
   ]
  },
  {
   "cell_type": "code",
   "execution_count": 25,
   "metadata": {},
   "outputs": [
    {
     "name": "stdout",
     "output_type": "stream",
     "text": [
      "Data: Blactivist\nShape(row, column): (500, 10) \n----------\n\nColumn name and it's data type\n<class 'pandas.core.frame.DataFrame'>\nRangeIndex: 500 entries, 0 to 499\nData columns (total 10 columns):\npage_url        500 non-null object\nsource          500 non-null object\nfollowers       500 non-null int64\ndate            500 non-null object\ntime            500 non-null object\ntime_zone       500 non-null object\npost_type       500 non-null object\ninteractions    500 non-null int64\npost_message    498 non-null object\npost_link       500 non-null object\ndtypes: int64(2), object(8)\nmemory usage: 39.1+ KB\nNone \n----------\n\nCount of efficient(Not NA) data\npage_url        500\nsource          500\nfollowers       500\ndate            500\ntime            500\ntime_zone       500\npost_type       500\ninteractions    500\npost_message    498\npost_link       500\ndtype: int64 \n----------\n\nBasic statistics of the data\n                         page_url       source     followers        date  \\\ncount                         500          500  5.000000e+02         500   \nunique                          1            4           NaN         319   \ntop     Facebook.com/Blacktivists  Blacktivist           NaN  2016-07-22   \nfreq                          500          496           NaN           6   \nmean                          NaN          NaN  2.075356e+05         NaN   \nstd                           NaN          NaN  3.478560e+05         NaN   \nmin                           NaN          NaN  0.000000e+00         NaN   \n25%                           NaN          NaN  9.218100e+04         NaN   \n50%                           NaN          NaN  1.714990e+05         NaN   \n75%                           NaN          NaN  2.678510e+05         NaN   \nmax                           NaN          NaN  6.605641e+06         NaN   \n\n            time time_zone post_type   interactions           post_message  \\\ncount        500       500       500     500.000000                    498   \nunique       106         2         1            NaN                    481   \ntop     09:00:00  GMT-0400  Facebook            NaN  repost Blackslayingit   \nfreq          51       372       500            NaN                      4   \nmean         NaN       NaN       NaN   12365.670000                    NaN   \nstd          NaN       NaN       NaN   27094.789618                    NaN   \nmin          NaN       NaN       NaN    2791.000000                    NaN   \n25%          NaN       NaN       NaN    4170.250000                    NaN   \n50%          NaN       NaN       NaN    5826.000000                    NaN   \n75%          NaN       NaN       NaN    9324.750000                    NaN   \nmax          NaN       NaN       NaN  344309.000000                    NaN   \n\n                                                post_link  \ncount                                                 500  \nunique                                                500  \ntop     https://www.facebook.com/blacktivists/posts/37...  \nfreq                                                    1  \nmean                                                  NaN  \nstd                                                   NaN  \nmin                                                   NaN  \n25%                                                   NaN  \n50%                                                   NaN  \n75%                                                   NaN  \nmax                                                   NaN   \n----------\n\nShow first 5 data\n                    page_url       source  followers        date      time  \\\n0  Facebook.com/Blacktivists  Blacktivist     107180  2016-07-22  11:00:00   \n1  Facebook.com/Blacktivists  Blacktivist     186908  2016-10-26  09:00:35   \n2  Facebook.com/Blacktivists  Blacktivist     201136  2016-11-23  10:00:00   \n3  Facebook.com/Blacktivists  Blacktivist     347948  2017-06-22  18:00:00   \n4  Facebook.com/Blacktivists  Blacktivist     228980  2017-01-17  21:00:00   \n\n  time_zone post_type  interactions  \\\n0  GMT-0400  Facebook        344309   \n1  GMT-0400  Facebook        269853   \n2  GMT-0500  Facebook        245516   \n3  GMT-0400  Facebook        138590   \n4  GMT-0500  Facebook        130298   \n\n                                        post_message  \\\n0  A 14-year-old Royce Mann brought hundreds of p...   \n1                       Africa is in your bloodline.   \n2  PLEASE HELP THIS VIDEO GO VIRAL. THESE COPS CA...   \n3                                       [no content]   \n4                          repost @africanstylediary   \n\n                                           post_link  \n0  https://www.facebook.com/blacktivists/posts/30...  \n1  https://www.facebook.com/blacktivists/posts/35...  \n2  https://www.facebook.com/blacktivists/posts/36...  \n3  https://www.facebook.com/blacktivists/posts/47...  \n4  https://www.facebook.com/blacktivists/posts/39...  \n"
     ]
    }
   ],
   "source": [
    "show_basic_info(blacktivist_data, \"Blactivist\")"
   ]
  },
  {
   "cell_type": "markdown",
   "metadata": {},
   "source": [
    "#### 2.2.2 Basic statistics about Being patriotic page"
   ]
  },
  {
   "cell_type": "code",
   "execution_count": 28,
   "metadata": {},
   "outputs": [
    {
     "name": "stdout",
     "output_type": "stream",
     "text": [
      "Data: being_patriotic\nShape(row, column): (500, 10) \n----------\n\nColumn name and it's data type\n<class 'pandas.core.frame.DataFrame'>\nRangeIndex: 500 entries, 0 to 499\nData columns (total 10 columns):\npage_url        500 non-null object\nsource          500 non-null object\nfollowers       500 non-null int64\ndate            500 non-null object\ntime            500 non-null object\npost_type       500 non-null object\ninteractions    500 non-null int64\npost_message    496 non-null object\npost_link       500 non-null object\ntime_zone       500 non-null object\ndtypes: int64(2), object(8)\nmemory usage: 39.1+ KB\nNone \n----------\n\nCount of efficient(Not NA) data\npage_url        500\nsource          500\nfollowers       500\ndate            500\ntime            500\npost_type       500\ninteractions    500\npost_message    496\npost_link       500\ntime_zone       500\ndtype: int64 \n----------\n\nBasic statistics of the data\n                        page_url           source      followers        date  \\\ncount                        500              500     500.000000         500   \nunique                         1                2            NaN         330   \ntop     Facebook.com/Patriototus  Being Patriotic            NaN  2016-01-25   \nfreq                         500              496            NaN           6   \nmean                         NaN              NaN  102339.660000         NaN   \nstd                          NaN              NaN   80867.795715         NaN   \nmin                          NaN              NaN       0.000000         NaN   \n25%                          NaN              NaN       0.000000         NaN   \n50%                          NaN              NaN  128580.500000         NaN   \n75%                          NaN              NaN  182657.000000         NaN   \nmax                          NaN              NaN  219727.000000         NaN   \n\n            time post_type   interactions  \\\ncount        500       500     500.000000   \nunique       164         1            NaN   \ntop     11:30:00  Facebook            NaN   \nfreq          29       500            NaN   \nmean         NaN       NaN    8967.490000   \nstd          NaN       NaN   32417.649674   \nmin          NaN       NaN    3927.000000   \n25%          NaN       NaN    5457.000000   \n50%          NaN       NaN    6365.000000   \n75%          NaN       NaN    8280.250000   \nmax          NaN       NaN  724323.000000   \n\n                                             post_message  \\\ncount                                                 496   \nunique                                                436   \ntop     To all whom our flag offends there is the one ...   \nfreq                                                    4   \nmean                                                  NaN   \nstd                                                   NaN   \nmin                                                   NaN   \n25%                                                   NaN   \n50%                                                   NaN   \n75%                                                   NaN   \nmax                                                   NaN   \n\n                                                post_link   time_zone  \ncount                                                 500         500  \nunique                                                500           2  \ntop     https://www.facebook.com/patriototus/posts/166...   GMT-0400   \nfreq                                                    1         292  \nmean                                                  NaN         NaN  \nstd                                                   NaN         NaN  \nmin                                                   NaN         NaN  \n25%                                                   NaN         NaN  \n50%                                                   NaN         NaN  \n75%                                                   NaN         NaN  \nmax                                                   NaN         NaN   \n----------\n\nShow first 5 data\n                   page_url           source  followers        date      time  \\\n0  Facebook.com/Patriototus  Being Patriotic     145109  2016-09-08  15:30:00   \n1  Facebook.com/Patriototus  Being Patriotic     205550  2017-05-19  15:30:00   \n2  Facebook.com/Patriototus  Being Patriotic          0  2015-08-08  13:15:26   \n3  Facebook.com/Patriototus  Being Patriotic     203212  2017-05-14  09:30:00   \n4  Facebook.com/Patriototus  Being Patriotic     187254  2016-11-27  11:30:00   \n\n  post_type  interactions                                       post_message  \\\n0  Facebook        724323  At least 50,000 homeless veterans are starving...   \n1  Facebook         78245  The city of New Orleans said that it would rem...   \n2  Facebook         39740  A living, breathing page of American history! ...   \n3  Facebook         30506  Nothing can be more treasonous than burning th...   \n4  Facebook         30070  It’s simply unfair that the Government cares m...   \n\n                                           post_link   time_zone  \n0  https://www.facebook.com/patriototus/posts/176...   GMT-0400   \n1  https://www.facebook.com/patriototus/posts/188...   GMT-0400   \n2  https://www.facebook.com/patriototus/posts/161...   GMT-0400   \n3  https://www.facebook.com/patriototus/posts/188...   GMT-0400   \n4  https://www.facebook.com/patriototus/posts/180...   GMT-0500   \n"
     ]
    }
   ],
   "source": [
    "show_basic_info(being_patriotic_data, \"being patriotic\")"
   ]
  },
  {
   "cell_type": "markdown",
   "metadata": {},
   "source": [
    "#### 2.2.3 Basic statistics about LGBT united page"
   ]
  },
  {
   "cell_type": "code",
   "execution_count": 31,
   "metadata": {},
   "outputs": [
    {
     "name": "stdout",
     "output_type": "stream",
     "text": [
      "Data: lgbt united\nShape(row, column): (500, 10) \n----------\n\nColumn name and it's data type\n<class 'pandas.core.frame.DataFrame'>\nRangeIndex: 500 entries, 0 to 499\nData columns (total 10 columns):\npage_url        500 non-null object\nsource          500 non-null object\nfollowers       500 non-null int64\ndate            500 non-null object\ntime            500 non-null object\npost_type       500 non-null object\ninteractions    500 non-null int64\npost_message    500 non-null object\npost_link       500 non-null object\ntime_zone       500 non-null object\ndtypes: int64(2), object(8)\nmemory usage: 39.1+ KB\nNone \n----------\n\nCount of efficient(Not NA) data\npage_url        500\nsource          500\nfollowers       500\ndate            500\ntime            500\npost_type       500\ninteractions    500\npost_message    500\npost_link       500\ntime_zone       500\ndtype: int64 \n----------\n\nBasic statistics of the data\n                   page_url       source      followers        date      time  \\\ncount                   500          500     500.000000         500       500   \nunique                    1            1            NaN         319       441   \ntop     Facebook.Com/Lgtbun  LGBT United            NaN  2016-08-04  10:00:00   \nfreq                    500          500            NaN           7         6   \nmean                    NaN          NaN   10374.988000         NaN       NaN   \nstd                     NaN          NaN   36750.688255         NaN       NaN   \nmin                     NaN          NaN       0.000000         NaN       NaN   \n25%                     NaN          NaN       0.000000         NaN       NaN   \n50%                     NaN          NaN       0.000000         NaN       NaN   \n75%                     NaN          NaN       0.000000         NaN       NaN   \nmax                     NaN          NaN  142874.000000         NaN       NaN   \n\n       post_type  interactions  \\\ncount        500    500.000000   \nunique         1           NaN   \ntop     Facebook           NaN   \nfreq         500           NaN   \nmean         NaN   2524.772000   \nstd          NaN   4958.490841   \nmin          NaN    921.000000   \n25%          NaN   1458.000000   \n50%          NaN   1752.500000   \n75%          NaN   2239.500000   \nmax          NaN  82298.000000   \n\n                                             post_message  \\\ncount                                                 500   \nunique                                                423   \ntop     We live in a world where punching the \"shy guy...   \nfreq                                                    3   \nmean                                                  NaN   \nstd                                                   NaN   \nmin                                                   NaN   \n25%                                                   NaN   \n50%                                                   NaN   \n75%                                                   NaN   \nmax                                                   NaN   \n\n                                                post_link  time_zone  \ncount                                                 500        500  \nunique                                                500          2  \ntop     https://www.facebook.com/lgbtun/posts/92325441...  GMT-0400   \nfreq                                                    1        387  \nmean                                                  NaN        NaN  \nstd                                                   NaN        NaN  \nmin                                                   NaN        NaN  \n25%                                                   NaN        NaN  \n50%                                                   NaN        NaN  \n75%                                                   NaN        NaN  \nmax                                                   NaN        NaN   \n----------\n\nShow first 5 data\n              page_url       source  followers        date      time  \\\n0  Facebook.Com/Lgtbun  LGBT United          0  2015-10-30  16:20:00   \n1  Facebook.Com/Lgtbun  LGBT United          0  2016-08-15  10:38:01   \n2  Facebook.Com/Lgtbun  LGBT United          0  2016-04-26  15:39:00   \n3  Facebook.Com/Lgtbun  LGBT United          0  2016-06-21  21:08:00   \n4  Facebook.Com/Lgtbun  LGBT United          0  2016-08-02  15:52:11   \n\n  post_type  interactions                                       post_message  \\\n0  Facebook         82298  It really doesn't matter! You know who you are...   \n1  Facebook         61819  All of the horrified faces in the background...😄👍   \n2  Facebook         33447  This is why it's important to think before you...   \n3  Facebook         15686                I'm totally saying this next time!😂   \n4  Facebook         14400  This is why it's important to think before you...   \n\n                                           post_link  time_zone  \n0  https://www.facebook.com/lgbtun/posts/90410041...  GMT-0400   \n1  https://www.facebook.com/lgbtun/posts/10663369...  GMT-0400   \n2  https://www.facebook.com/lgbtun/posts/99923272...  GMT-0400   \n3  https://www.facebook.com/lgbtun/posts/10317293...  GMT-0400   \n4  https://www.facebook.com/lgbtun/posts/10581699...  GMT-0400   \n"
     ]
    }
   ],
   "source": [
    "show_basic_info(lgbt_united_data, \"lgbt united\")"
   ]
  },
  {
   "cell_type": "markdown",
   "metadata": {},
   "source": [
    "#### 2.2.4 Basic statistics about Secured Borders page"
   ]
  },
  {
   "cell_type": "code",
   "execution_count": 32,
   "metadata": {},
   "outputs": [
    {
     "name": "stdout",
     "output_type": "stream",
     "text": [
      "Data: secured borders\nShape(row, column): (500, 10) \n----------\n\nColumn name and it's data type\n<class 'pandas.core.frame.DataFrame'>\nRangeIndex: 500 entries, 0 to 499\nData columns (total 10 columns):\npage_url        500 non-null object\nsource          500 non-null object\nfollowers       500 non-null int64\ndate            500 non-null object\ntime            500 non-null object\npost_type       500 non-null object\ninteractions    500 non-null int64\npost_message    500 non-null object\npost_link       500 non-null object\ntime_zone       500 non-null object\ndtypes: int64(2), object(8)\nmemory usage: 39.1+ KB\nNone \n----------\n\nCount of efficient(Not NA) data\npage_url        500\nsource          500\nfollowers       500\ndate            500\ntime            500\npost_type       500\ninteractions    500\npost_message    500\npost_link       500\ntime_zone       500\ndtype: int64 \n----------\n\nBasic statistics of the data\n                            page_url           source      followers  \\\ncount                            500              500     500.000000   \nunique                             1                4            NaN   \ntop     Facebook.Com/Secured.Borders  Secured Borders            NaN   \nfreq                             500              497            NaN   \nmean                             NaN              NaN   11200.272000   \nstd                              NaN              NaN   45480.374095   \nmin                              NaN              NaN       0.000000   \n25%                              NaN              NaN       0.000000   \n50%                              NaN              NaN       0.000000   \n75%                              NaN              NaN       0.000000   \nmax                              NaN              NaN  546007.000000   \n\n              date      time post_type  interactions  \\\ncount          500       500       500     500.00000   \nunique         221       320         1           NaN   \ntop     2016-10-11  18:05:00  Facebook           NaN   \nfreq             6        15       500           NaN   \nmean           NaN       NaN       NaN    3185.54200   \nstd            NaN       NaN       NaN    5027.32195   \nmin            NaN       NaN       NaN    1103.00000   \n25%            NaN       NaN       NaN    1779.75000   \n50%            NaN       NaN       NaN    2464.00000   \n75%            NaN       NaN       NaN    3524.25000   \nmax            NaN       NaN       NaN  100707.00000   \n\n                                             post_message  \\\ncount                                                 500   \nunique                                                491   \ntop     Dems constantly accuse conservatives/Republica...   \nfreq                                                    2   \nmean                                                  NaN   \nstd                                                   NaN   \nmin                                                   NaN   \n25%                                                   NaN   \n50%                                                   NaN   \n75%                                                   NaN   \nmax                                                   NaN   \n\n                                                post_link time_zone  \ncount                                                 500       500  \nunique                                                500         2  \ntop     https://www.facebook.com/Secured.Borders/posts...  GMT-0500  \nfreq                                                    1       289  \nmean                                                  NaN       NaN  \nstd                                                   NaN       NaN  \nmin                                                   NaN       NaN  \n25%                                                   NaN       NaN  \n50%                                                   NaN       NaN  \n75%                                                   NaN       NaN  \nmax                                                   NaN       NaN   \n----------\n\nShow first 5 data\n                       page_url                        source  followers  \\\n0  Facebook.Com/Secured.Borders               Secured Borders          0   \n1  Facebook.Com/Secured.Borders               Secured Borders          0   \n2  Facebook.Com/Secured.Borders               Secured Borders          0   \n3  Facebook.Com/Secured.Borders  Prepare to Take America Back     389504   \n4  Facebook.Com/Secured.Borders  Judge Jeanine Pirro has Fans     546007   \n\n         date      time post_type  interactions  \\\n0  2016-10-07  21:00:00  Facebook        100707   \n1  2017-02-26  20:10:11  Facebook         43668   \n2  2016-09-12  13:00:01  Facebook         16087   \n3  2016-10-22  08:44:23  Facebook         15425   \n4  2017-02-28  11:59:43  Facebook         11876   \n\n                                        post_message  \\\n0  As I've said before, I'm really concerned if v...   \n1  Mexican-American whose parents came into Ameri...   \n2  Our government spends billions of dollars on i...   \n3                     (Prepare to Take America Back)   \n4                     (Judge Jeanine Pirro has Fans)   \n\n                                           post_link time_zone  \n0  https://www.facebook.com/Secured.Borders/posts...  GMT-0400  \n1  https://www.facebook.com/Secured.Borders/posts...  GMT-0500  \n2  https://www.facebook.com/Secured.Borders/posts...  GMT-0400  \n3  https://www.facebook.com/PrepareToTakeAmericaB...  GMT-0400  \n4  https://www.facebook.com/JudgeJeanineFans/post...  GMT-0500  \n"
     ]
    }
   ],
   "source": [
    "show_basic_info(secured_borders_data, \"secured borders\")"
   ]
  },
  {
   "cell_type": "markdown",
   "metadata": {},
   "source": [
    "#### 2.2.5 Basic statistics about United Muslims of America page"
   ]
  },
  {
   "cell_type": "code",
   "execution_count": 33,
   "metadata": {},
   "outputs": [
    {
     "name": "stdout",
     "output_type": "stream",
     "text": [
      "Data: united muslims of america\nShape(row, column): (500, 10) \n----------\n\nColumn name and it's data type\n<class 'pandas.core.frame.DataFrame'>\nRangeIndex: 500 entries, 0 to 499\nData columns (total 10 columns):\npage_url        500 non-null object\nsource          500 non-null object\nfollowers       500 non-null int64\ndate            500 non-null object\ntime            500 non-null object\npost_type       500 non-null object\ninteractions    500 non-null int64\npost_message    500 non-null object\npost_link       500 non-null object\ntime_zone       500 non-null object\ndtypes: int64(2), object(8)\nmemory usage: 39.1+ KB\nNone \n----------\n\nCount of efficient(Not NA) data\npage_url        500\nsource          500\nfollowers       500\ndate            500\ntime            500\npost_type       500\ninteractions    500\npost_message    500\npost_link       500\ntime_zone       500\ndtype: int64 \n----------\n\nBasic statistics of the data\n                          page_url                     source      followers  \\\ncount                          500                        500     500.000000   \nunique                           1                          1            NaN   \ntop     Facebook.com/MuslimAmerica  United Muslims of America            NaN   \nfreq                           500                        500            NaN   \nmean                           NaN                        NaN  142711.790000   \nstd                            NaN                        NaN  136249.685866   \nmin                            NaN                        NaN       0.000000   \n25%                            NaN                        NaN       0.000000   \n50%                            NaN                        NaN  207571.000000   \n75%                            NaN                        NaN  268736.000000   \nmax                            NaN                        NaN  329520.000000   \n\n              date      time post_type   interactions  \\\ncount          500       500       500     500.000000   \nunique         319       358         1            NaN   \ntop     2016-12-10  15:10:00  Facebook            NaN   \nfreq             7         6       500            NaN   \nmean           NaN       NaN       NaN    4257.750000   \nstd            NaN       NaN       NaN   10378.618766   \nmin            NaN       NaN       NaN    1303.000000   \n25%            NaN       NaN       NaN    2215.000000   \n50%            NaN       NaN       NaN    2672.000000   \n75%            NaN       NaN       NaN    3499.500000   \nmax            NaN       NaN       NaN  150246.000000   \n\n                                             post_message  \\\ncount                                                 500   \nunique                                                406   \ntop     Alcohol and pork is against Christian beliefs ...   \nfreq                                                    8   \nmean                                                  NaN   \nstd                                                   NaN   \nmin                                                   NaN   \n25%                                                   NaN   \n50%                                                   NaN   \n75%                                                   NaN   \nmax                                                   NaN   \n\n                                                post_link  time_zone  \ncount                                                 500        500  \nunique                                                500          2  \ntop     https://www.facebook.com/MuslimAmerica/posts/1...  GMT-0400   \nfreq                                                    1        336  \nmean                                                  NaN        NaN  \nstd                                                   NaN        NaN  \nmin                                                   NaN        NaN  \n25%                                                   NaN        NaN  \n50%                                                   NaN        NaN  \n75%                                                   NaN        NaN  \nmax                                                   NaN        NaN   \n----------\n\nShow first 5 data\n                     page_url                     source  followers  \\\n0  Facebook.com/MuslimAmerica  United Muslims of America          0   \n1  Facebook.com/MuslimAmerica  United Muslims of America          0   \n2  Facebook.com/MuslimAmerica  United Muslims of America          0   \n3  Facebook.com/MuslimAmerica  United Muslims of America          0   \n4  Facebook.com/MuslimAmerica  United Muslims of America          0   \n\n         date      time post_type  interactions  \\\n0  2016-06-12  11:06:00  Facebook        150246   \n1  2016-02-07  11:41:00  Facebook        133501   \n2  2016-08-25  16:44:00  Facebook         80066   \n3  2016-06-29  09:45:10  Facebook         79918   \n4  2016-09-11  14:11:00  Facebook         35275   \n\n                                        post_message  \\\n0  New York city Muslim Harassment Social Experim...   \n1  I think God has ordered all mankind with modes...   \n2  What Halal meat or Halal food means? you shoul...   \n3  Because the media wants you to know ONLY when ...   \n4  Share if you believe Muslims have nothing to d...   \n\n                                           post_link  time_zone  \n0  https://www.facebook.com/MuslimAmerica/posts/1...  GMT-0400   \n1  https://www.facebook.com/MuslimAmerica/posts/1...  GMT-0500   \n2  https://www.facebook.com/MuslimAmerica/posts/1...  GMT-0400   \n3  https://www.facebook.com/MuslimAmerica/posts/1...  GMT-0400   \n4  https://www.facebook.com/MuslimAmerica/posts/1...  GMT-0400   \n"
     ]
    }
   ],
   "source": [
    "show_basic_info(united_muslims_of_america_data, \"united muslims of america\")"
   ]
  },
  {
   "cell_type": "markdown",
   "metadata": {},
   "source": [
    "----"
   ]
  },
  {
   "cell_type": "code",
   "execution_count": null,
   "metadata": {},
   "outputs": [],
   "source": []
  }
 ],
 "metadata": {
  "kernelspec": {
   "display_name": "Python 2",
   "language": "python",
   "name": "python2"
  },
  "language_info": {
   "codemirror_mode": {
    "name": "ipython",
    "version": 2
   },
   "file_extension": ".py",
   "mimetype": "text/x-python",
   "name": "python",
   "nbconvert_exporter": "python",
   "pygments_lexer": "ipython2",
   "version": "2.7.6"
  }
 },
 "nbformat": 4,
 "nbformat_minor": 0
}
