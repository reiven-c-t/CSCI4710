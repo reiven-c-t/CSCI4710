{
 "cells": [
  {
   "cell_type": "markdown",
   "metadata": {
    "collapsed": true
   },
   "source": [
    "# Lab 7\n",
    "\n",
    "Akifumi Nakamachi"
   ]
  },
  {
   "cell_type": "markdown",
   "metadata": {},
   "source": [
    "## What I try\n",
    "\n",
    "- \\# of Nodes\n",
    "- \\# of Edges\n",
    "- Average clustering coefficient\n",
    "- Number of triangles\n",
    "- Diameter\n",
    "- Facebook friend with the highest degree centrality"
   ]
  },
  {
   "cell_type": "code",
   "execution_count": 9,
   "metadata": {
    "collapsed": false
   },
   "outputs": [
    {
     "name": "stdout",
     "output_type": "stream",
     "text": [
      "just append all edges: 170174\n"
     ]
    },
    {
     "name": "stdout",
     "output_type": "stream",
     "text": [
      "remove duplicate edges: 84243\n"
     ]
    }
   ],
   "source": [
    "from os import walk\n",
    "from os.path import join\n",
    "import codecs\n",
    "import asyncio\n",
    "\n",
    "data_path = \"/Users/reiven/Documents/Python/CSCI4710/Lab7/facebook\"\n",
    "ego_id_list = list()\n",
    "for root, dirs, files in walk(data_path):\n",
    "    for file in files:\n",
    "        ego_id = file.split(\".\")[0]\n",
    "        if ego_id not in ego_id_list:\n",
    "            ego_id_list.append(ego_id)\n",
    "ego_id_list = [str(j) for j in sorted([int(x) for x in ego_id_list])]\n",
    "print(\"ego id list\", ego_id_list)\n",
    "\n",
    "edge_list = list()\n",
    "vertex_list = list()\n",
    "\n",
    "\n",
    "class Edge:\n",
    "    def __init__(self, x: int, y: int):\n",
    "        if not x < y:\n",
    "            temp = x\n",
    "            x = y\n",
    "            y = temp\n",
    "        self.x = x\n",
    "        self.y = y\n",
    "\n",
    "    def __str__(self):\n",
    "        return self.to_str()\n",
    "\n",
    "    def __eq__(self, other):\n",
    "        return self.x == other.x and self.y == other.y\n",
    "\n",
    "    def to_str(self):\n",
    "        return \"(% 4d, % 4d)\" % (self.x, self.y)\n",
    "\n",
    "    def omit_vertex(self):\n",
    "        return [self.x, self.y]\n",
    "\n",
    "\n",
    "def from_st(str_edge):\n",
    "    x, y = eval(str_edge)\n",
    "    return Edge(x, y)\n",
    "\n",
    "async def load_edges(file_path):\n",
    "    result = list()\n",
    "    with codecs.open(file_path, \"r\", \"utf-8\") as file:\n",
    "        for raw_edge_data in file.readlines():\n",
    "            x, y = raw_edge_data.split(\" \")\n",
    "            e = Edge(int(x), int(y))\n",
    "            result.append(e)\n",
    "        return result\n",
    "\n",
    "threads = [load_edges(join(data_path, ego_id + \".edges\")) for ego_id in ego_id_list]\n",
    "threads = asyncio.gather(*threads)\n",
    "loop = asyncio.get_event_loop()\n",
    "results = loop.run_until_complete(threads)\n",
    "for r in results:\n",
    "    edge_list.extend(r)\n"
   ]
  },
  {
   "cell_type": "code",
   "execution_count": 10,
   "metadata": {
    "collapsed": false
   },
   "outputs": [
    {
     "name": "stdout",
     "output_type": "stream",
     "text": [
      "just append all edges: 170174\n"
     ]
    },
    {
     "name": "stdout",
     "output_type": "stream",
     "text": [
      "remove duplicate edges: 84243\n"
     ]
    }
   ],
   "source": [
    "# number of edge\n",
    "print(\"just append all edges:\", len(edge_list))\n",
    "edge_list = list(set([e.to_str() for e in edge_list]))\n",
    "edge_list = [from_st(e) for e in edge_list]\n",
    "print(\"remove duplicate edges:\", len(edge_list))"
   ]
  },
  {
   "cell_type": "code",
   "execution_count": 16,
   "metadata": {},
   "outputs": [
    {
     "name": "stdout",
     "output_type": "stream",
     "text": [
      "3959\n"
     ]
    }
   ],
   "source": [
    "# number of nodes(users)\n",
    "vertex_list = list()\n",
    "for e in edge_list:\n",
    "    for v in e.omit_vertex():\n",
    "        vertex_list.append(v)\n",
    "vertex_list = list(set(vertex_list))\n",
    "print(\"number of nodes:\", vertex_list)"
   ]
  },
  {
   "cell_type": "code",
   "execution_count": null,
   "metadata": {},
   "outputs": [],
   "source": []
  }
 ],
 "metadata": {
  "kernelspec": {
   "display_name": "Python 2",
   "language": "python",
   "name": "python2"
  },
  "language_info": {
   "codemirror_mode": {
    "name": "ipython",
    "version": 2
   },
   "file_extension": ".py",
   "mimetype": "text/x-python",
   "name": "python",
   "nbconvert_exporter": "python",
   "pygments_lexer": "ipython2",
   "version": "2.7.6"
  }
 },
 "nbformat": 4,
 "nbformat_minor": 0
}
