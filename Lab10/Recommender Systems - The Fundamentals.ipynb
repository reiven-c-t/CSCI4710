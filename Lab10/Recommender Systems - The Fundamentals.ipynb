{
 "cells": [
  {
   "cell_type": "code",
   "execution_count": 27,
   "metadata": {},
   "outputs": [],
   "source": [
    "import pandas as pd\n",
    "import numpy as np\n",
    "import matplotlib.pyplot as plt"
   ]
  },
  {
   "cell_type": "markdown",
   "metadata": {},
   "source": [
    "## The Data\n",
    "\n",
    "The data consists of three tables: ratings, books info, and users info."
   ]
  },
  {
   "cell_type": "code",
   "execution_count": 28,
   "metadata": {},
   "outputs": [
    {
     "name": "stderr",
     "output_type": "stream",
     "text": [
      "b'Skipping line 6452: expected 8 fields, saw 9\\nSkipping line 43667: expected 8 fields, saw 10\\nSkipping line 51751: expected 8 fields, saw 9\\n'\n"
     ]
    },
    {
     "name": "stderr",
     "output_type": "stream",
     "text": [
      "b'Skipping line 92038: expected 8 fields, saw 9\\nSkipping line 104319: expected 8 fields, saw 9\\nSkipping line 121768: expected 8 fields, saw 9\\n'\n"
     ]
    },
    {
     "name": "stderr",
     "output_type": "stream",
     "text": [
      "b'Skipping line 144058: expected 8 fields, saw 9\\nSkipping line 150789: expected 8 fields, saw 9\\nSkipping line 157128: expected 8 fields, saw 9\\nSkipping line 180189: expected 8 fields, saw 9\\nSkipping line 185738: expected 8 fields, saw 9\\n'\n"
     ]
    },
    {
     "name": "stderr",
     "output_type": "stream",
     "text": [
      "b'Skipping line 209388: expected 8 fields, saw 9\\nSkipping line 220626: expected 8 fields, saw 9\\nSkipping line 227933: expected 8 fields, saw 11\\nSkipping line 228957: expected 8 fields, saw 10\\nSkipping line 245933: expected 8 fields, saw 9\\nSkipping line 251296: expected 8 fields, saw 9\\nSkipping line 259941: expected 8 fields, saw 9\\nSkipping line 261529: expected 8 fields, saw 9\\n'\n"
     ]
    },
    {
     "name": "stderr",
     "output_type": "stream",
     "text": [
      "/Users/reiven/anaconda3/lib/python3.6/site-packages/IPython/core/interactiveshell.py:2698: DtypeWarning: Columns (3) have mixed types. Specify dtype option on import or set low_memory=False.\n  interactivity=interactivity, compiler=compiler, result=result)\n"
     ]
    }
   ],
   "source": [
    "book_path = '/Users/reiven/Documents/Python/CSCI4710/Lab10/BX-CSV-Dump/BX-Books.csv'\n",
    "user_path = '/Users/reiven/Documents/Python/CSCI4710/Lab10/BX-CSV-Dump/BX-Users.csv'\n",
    "rating_path = '/Users/reiven/Documents/Python/CSCI4710/Lab10/BX-CSV-Dump/BX-Book-Ratings.csv'\n",
    "books = pd.read_csv(book_path, sep=';', error_bad_lines=False, encoding=\"latin-1\")\n",
    "books.columns = ['ISBN', 'bookTitle', 'bookAuthor', 'yearOfPublication', 'publisher', 'imageUrlS', 'imageUrlM', 'imageUrlL']\n",
    "users = pd.read_csv(user_path, sep=';', error_bad_lines=False, encoding=\"latin-1\")\n",
    "users.columns = ['userID', 'Location', 'Age']\n",
    "ratings = pd.read_csv(rating_path, sep=';', error_bad_lines=False, encoding=\"latin-1\")\n",
    "ratings.columns = ['userID', 'ISBN', 'bookRating']"
   ]
  },
  {
   "cell_type": "markdown",
   "metadata": {},
   "source": [
    "### Ratings Data\n",
    "\n",
    "The ratings data set provides a list of ratings that users have given to books. It includes 1,149,780 records and 3 fields: userID, ISBN, and rating."
   ]
  },
  {
   "cell_type": "code",
   "execution_count": 29,
   "metadata": {},
   "outputs": [
    {
     "name": "stdout",
     "output_type": "stream",
     "text": [
      "(1149780, 3)\n['userID', 'ISBN', 'bookRating']\n"
     ]
    }
   ],
   "source": [
    "print(ratings.shape)\n",
    "print(list(ratings.columns))"
   ]
  },
  {
   "cell_type": "code",
   "execution_count": 30,
   "metadata": {},
   "outputs": [
    {
     "data": {
      "text/html": [
       "<div>\n",
       "<style>\n",
       "    .dataframe thead tr:only-child th {\n",
       "        text-align: right;\n",
       "    }\n",
       "\n",
       "    .dataframe thead th {\n",
       "        text-align: left;\n",
       "    }\n",
       "\n",
       "    .dataframe tbody tr th {\n",
       "        vertical-align: top;\n",
       "    }\n",
       "</style>\n",
       "<table border=\"1\" class=\"dataframe\">\n",
       "  <thead>\n",
       "    <tr style=\"text-align: right;\">\n",
       "      <th></th>\n",
       "      <th>userID</th>\n",
       "      <th>ISBN</th>\n",
       "      <th>bookRating</th>\n",
       "    </tr>\n",
       "  </thead>\n",
       "  <tbody>\n",
       "    <tr>\n",
       "      <th>0</th>\n",
       "      <td>276725</td>\n",
       "      <td>034545104X</td>\n",
       "      <td>0</td>\n",
       "    </tr>\n",
       "    <tr>\n",
       "      <th>1</th>\n",
       "      <td>276726</td>\n",
       "      <td>0155061224</td>\n",
       "      <td>5</td>\n",
       "    </tr>\n",
       "    <tr>\n",
       "      <th>2</th>\n",
       "      <td>276727</td>\n",
       "      <td>0446520802</td>\n",
       "      <td>0</td>\n",
       "    </tr>\n",
       "    <tr>\n",
       "      <th>3</th>\n",
       "      <td>276729</td>\n",
       "      <td>052165615X</td>\n",
       "      <td>3</td>\n",
       "    </tr>\n",
       "    <tr>\n",
       "      <th>4</th>\n",
       "      <td>276729</td>\n",
       "      <td>0521795028</td>\n",
       "      <td>6</td>\n",
       "    </tr>\n",
       "  </tbody>\n",
       "</table>\n",
       "</div>"
      ],
      "text/plain": [
       "<div>\n",
       "<style>\n",
       "    .dataframe thead tr:only-child th {\n",
       "        text-align: right;\n",
       "    }\n",
       "\n",
       "    .dataframe thead th {\n",
       "        text-align: left;\n",
       "    }\n",
       "\n",
       "    .dataframe tbody tr th {\n",
       "        vertical-align: top;\n",
       "    }\n",
       "</style>\n",
       "<table border=\"1\" class=\"dataframe\">\n",
       "  <thead>\n",
       "    <tr style=\"text-align: right;\">\n",
       "      <th></th>\n",
       "      <th>userID</th>\n",
       "      <th>ISBN</th>\n",
       "      <th>bookRating</th>\n",
       "    </tr>\n",
       "  </thead>\n",
       "  <tbody>\n",
       "    <tr>\n",
       "      <th>0</th>\n",
       "      <td>276725</td>\n",
       "      <td>034545104X</td>\n",
       "      <td>0</td>\n",
       "    </tr>\n",
       "    <tr>\n",
       "      <th>1</th>\n",
       "      <td>276726</td>\n",
       "      <td>0155061224</td>\n",
       "      <td>5</td>\n",
       "    </tr>\n",
       "    <tr>\n",
       "      <th>2</th>\n",
       "      <td>276727</td>\n",
       "      <td>0446520802</td>\n",
       "      <td>0</td>\n",
       "    </tr>\n",
       "    <tr>\n",
       "      <th>3</th>\n",
       "      <td>276729</td>\n",
       "      <td>052165615X</td>\n",
       "      <td>3</td>\n",
       "    </tr>\n",
       "    <tr>\n",
       "      <th>4</th>\n",
       "      <td>276729</td>\n",
       "      <td>0521795028</td>\n",
       "      <td>6</td>\n",
       "    </tr>\n",
       "  </tbody>\n",
       "</table>\n",
       "</div>"
      ]
     },
     "execution_count": 30,
     "metadata": {},
     "output_type": "execute_result"
    }
   ],
   "source": [
    "ratings.head()"
   ]
  },
  {
   "cell_type": "markdown",
   "metadata": {},
   "source": [
    "### Ratings Distribution"
   ]
  },
  {
   "cell_type": "code",
   "execution_count": 31,
   "metadata": {},
   "outputs": [
    {
     "data": {
      "image/png": "[encoded data removed]",
      "text/plain": [
       "<matplotlib.figure.Figure at 0x125697898>"
      ]
     },
     "metadata": {},
     "output_type": "display_data"
    }
   ],
   "source": [
    "plt.rc(\"font\", size=15)\n",
    "ratings.bookRating.value_counts(sort=False).plot(kind='bar')\n",
    "plt.title('Rating Distribution\\n')\n",
    "plt.xlabel('Rating')\n",
    "plt.ylabel('Count')\n",
    "plt.savefig('system1.png', bbox_inches='tight')\n",
    "plt.show()"
   ]
  },
  {
   "cell_type": "markdown",
   "metadata": {},
   "source": [
    "### Books dataset\n",
    "\n",
    "This dataset provides books details. It includes 271360 records and 8 fields: ISBN, book title, book author, publisher and so on."
   ]
  },
  {
   "cell_type": "code",
   "execution_count": 32,
   "metadata": {},
   "outputs": [
    {
     "name": "stdout",
     "output_type": "stream",
     "text": [
      "(271360, 8)\n['ISBN', 'bookTitle', 'bookAuthor', 'yearOfPublication', 'publisher', 'imageUrlS', 'imageUrlM', 'imageUrlL']\n"
     ]
    }
   ],
   "source": [
    "print(books.shape)\n",
    "print(list(books.columns))"
   ]
  },
  {
   "cell_type": "code",
   "execution_count": 33,
   "metadata": {},
   "outputs": [
    {
     "data": {
      "text/html": [
       "<div>\n",
       "<style>\n",
       "    .dataframe thead tr:only-child th {\n",
       "        text-align: right;\n",
       "    }\n",
       "\n",
       "    .dataframe thead th {\n",
       "        text-align: left;\n",
       "    }\n",
       "\n",
       "    .dataframe tbody tr th {\n",
       "        vertical-align: top;\n",
       "    }\n",
       "</style>\n",
       "<table border=\"1\" class=\"dataframe\">\n",
       "  <thead>\n",
       "    <tr style=\"text-align: right;\">\n",
       "      <th></th>\n",
       "      <th>ISBN</th>\n",
       "      <th>bookTitle</th>\n",
       "      <th>bookAuthor</th>\n",
       "      <th>yearOfPublication</th>\n",
       "      <th>publisher</th>\n",
       "      <th>imageUrlS</th>\n",
       "      <th>imageUrlM</th>\n",
       "      <th>imageUrlL</th>\n",
       "    </tr>\n",
       "  </thead>\n",
       "  <tbody>\n",
       "    <tr>\n",
       "      <th>0</th>\n",
       "      <td>0195153448</td>\n",
       "      <td>Classical Mythology</td>\n",
       "      <td>Mark P. O. Morford</td>\n",
       "      <td>2002</td>\n",
       "      <td>Oxford University Press</td>\n",
       "      <td>http://images.amazon.com/images/P/0195153448.0...</td>\n",
       "      <td>http://images.amazon.com/images/P/0195153448.0...</td>\n",
       "      <td>http://images.amazon.com/images/P/0195153448.0...</td>\n",
       "    </tr>\n",
       "    <tr>\n",
       "      <th>1</th>\n",
       "      <td>0002005018</td>\n",
       "      <td>Clara Callan</td>\n",
       "      <td>Richard Bruce Wright</td>\n",
       "      <td>2001</td>\n",
       "      <td>HarperFlamingo Canada</td>\n",
       "      <td>http://images.amazon.com/images/P/0002005018.0...</td>\n",
       "      <td>http://images.amazon.com/images/P/0002005018.0...</td>\n",
       "      <td>http://images.amazon.com/images/P/0002005018.0...</td>\n",
       "    </tr>\n",
       "    <tr>\n",
       "      <th>2</th>\n",
       "      <td>0060973129</td>\n",
       "      <td>Decision in Normandy</td>\n",
       "      <td>Carlo D'Este</td>\n",
       "      <td>1991</td>\n",
       "      <td>HarperPerennial</td>\n",
       "      <td>http://images.amazon.com/images/P/0060973129.0...</td>\n",
       "      <td>http://images.amazon.com/images/P/0060973129.0...</td>\n",
       "      <td>http://images.amazon.com/images/P/0060973129.0...</td>\n",
       "    </tr>\n",
       "    <tr>\n",
       "      <th>3</th>\n",
       "      <td>0374157065</td>\n",
       "      <td>Flu: The Story of the Great Influenza Pandemic...</td>\n",
       "      <td>Gina Bari Kolata</td>\n",
       "      <td>1999</td>\n",
       "      <td>Farrar Straus Giroux</td>\n",
       "      <td>http://images.amazon.com/images/P/0374157065.0...</td>\n",
       "      <td>http://images.amazon.com/images/P/0374157065.0...</td>\n",
       "      <td>http://images.amazon.com/images/P/0374157065.0...</td>\n",
       "    </tr>\n",
       "    <tr>\n",
       "      <th>4</th>\n",
       "      <td>0393045218</td>\n",
       "      <td>The Mummies of Urumchi</td>\n",
       "      <td>E. J. W. Barber</td>\n",
       "      <td>1999</td>\n",
       "      <td>W. W. Norton &amp;amp; Company</td>\n",
       "      <td>http://images.amazon.com/images/P/0393045218.0...</td>\n",
       "      <td>http://images.amazon.com/images/P/0393045218.0...</td>\n",
       "      <td>http://images.amazon.com/images/P/0393045218.0...</td>\n",
       "    </tr>\n",
       "  </tbody>\n",
       "</table>\n",
       "</div>"
      ],
      "text/plain": [
       "<div>\n",
       "<style>\n",
       "    .dataframe thead tr:only-child th {\n",
       "        text-align: right;\n",
       "    }\n",
       "\n",
       "    .dataframe thead th {\n",
       "        text-align: left;\n",
       "    }\n",
       "\n",
       "    .dataframe tbody tr th {\n",
       "        vertical-align: top;\n",
       "    }\n",
       "</style>\n",
       "<table border=\"1\" class=\"dataframe\">\n",
       "  <thead>\n",
       "    <tr style=\"text-align: right;\">\n",
       "      <th></th>\n",
       "      <th>ISBN</th>\n",
       "      <th>bookTitle</th>\n",
       "      <th>bookAuthor</th>\n",
       "      <th>yearOfPublication</th>\n",
       "      <th>publisher</th>\n",
       "      <th>imageUrlS</th>\n",
       "      <th>imageUrlM</th>\n",
       "      <th>imageUrlL</th>\n",
       "    </tr>\n",
       "  </thead>\n",
       "  <tbody>\n",
       "    <tr>\n",
       "      <th>0</th>\n",
       "      <td>0195153448</td>\n",
       "      <td>Classical Mythology</td>\n",
       "      <td>Mark P. O. Morford</td>\n",
       "      <td>2002</td>\n",
       "      <td>Oxford University Press</td>\n",
       "      <td>http://images.amazon.com/images/P/0195153448.0...</td>\n",
       "      <td>http://images.amazon.com/images/P/0195153448.0...</td>\n",
       "      <td>http://images.amazon.com/images/P/0195153448.0...</td>\n",
       "    </tr>\n",
       "    <tr>\n",
       "      <th>1</th>\n",
       "      <td>0002005018</td>\n",
       "      <td>Clara Callan</td>\n",
       "      <td>Richard Bruce Wright</td>\n",
       "      <td>2001</td>\n",
       "      <td>HarperFlamingo Canada</td>\n",
       "      <td>http://images.amazon.com/images/P/0002005018.0...</td>\n",
       "      <td>http://images.amazon.com/images/P/0002005018.0...</td>\n",
       "      <td>http://images.amazon.com/images/P/0002005018.0...</td>\n",
       "    </tr>\n",
       "    <tr>\n",
       "      <th>2</th>\n",
       "      <td>0060973129</td>\n",
       "      <td>Decision in Normandy</td>\n",
       "      <td>Carlo D'Este</td>\n",
       "      <td>1991</td>\n",
       "      <td>HarperPerennial</td>\n",
       "      <td>http://images.amazon.com/images/P/0060973129.0...</td>\n",
       "      <td>http://images.amazon.com/images/P/0060973129.0...</td>\n",
       "      <td>http://images.amazon.com/images/P/0060973129.0...</td>\n",
       "    </tr>\n",
       "    <tr>\n",
       "      <th>3</th>\n",
       "      <td>0374157065</td>\n",
       "      <td>Flu: The Story of the Great Influenza Pandemic...</td>\n",
       "      <td>Gina Bari Kolata</td>\n",
       "      <td>1999</td>\n",
       "      <td>Farrar Straus Giroux</td>\n",
       "      <td>http://images.amazon.com/images/P/0374157065.0...</td>\n",
       "      <td>http://images.amazon.com/images/P/0374157065.0...</td>\n",
       "      <td>http://images.amazon.com/images/P/0374157065.0...</td>\n",
       "    </tr>\n",
       "    <tr>\n",
       "      <th>4</th>\n",
       "      <td>0393045218</td>\n",
       "      <td>The Mummies of Urumchi</td>\n",
       "      <td>E. J. W. Barber</td>\n",
       "      <td>1999</td>\n",
       "      <td>W. W. Norton &amp;amp; Company</td>\n",
       "      <td>http://images.amazon.com/images/P/0393045218.0...</td>\n",
       "      <td>http://images.amazon.com/images/P/0393045218.0...</td>\n",
       "      <td>http://images.amazon.com/images/P/0393045218.0...</td>\n",
       "    </tr>\n",
       "  </tbody>\n",
       "</table>\n",
       "</div>"
      ]
     },
     "execution_count": 33,
     "metadata": {},
     "output_type": "execute_result"
    }
   ],
   "source": [
    "books.head()"
   ]
  },
  {
   "cell_type": "markdown",
   "metadata": {},
   "source": [
    "### Users dataset \n",
    "\n",
    "This dataset provides the user demographic information. It includes 278858 records and 3 fields: user id, location and age."
   ]
  },
  {
   "cell_type": "code",
   "execution_count": 34,
   "metadata": {},
   "outputs": [
    {
     "name": "stdout",
     "output_type": "stream",
     "text": [
      "(278858, 3)\n['userID', 'Location', 'Age']\n"
     ]
    }
   ],
   "source": [
    "print(users.shape)\n",
    "print(list(users.columns))"
   ]
  },
  {
   "cell_type": "code",
   "execution_count": 35,
   "metadata": {},
   "outputs": [
    {
     "data": {
      "text/html": [
       "<div>\n",
       "<style>\n",
       "    .dataframe thead tr:only-child th {\n",
       "        text-align: right;\n",
       "    }\n",
       "\n",
       "    .dataframe thead th {\n",
       "        text-align: left;\n",
       "    }\n",
       "\n",
       "    .dataframe tbody tr th {\n",
       "        vertical-align: top;\n",
       "    }\n",
       "</style>\n",
       "<table border=\"1\" class=\"dataframe\">\n",
       "  <thead>\n",
       "    <tr style=\"text-align: right;\">\n",
       "      <th></th>\n",
       "      <th>userID</th>\n",
       "      <th>Location</th>\n",
       "      <th>Age</th>\n",
       "    </tr>\n",
       "  </thead>\n",
       "  <tbody>\n",
       "    <tr>\n",
       "      <th>0</th>\n",
       "      <td>1</td>\n",
       "      <td>nyc, new york, usa</td>\n",
       "      <td>NaN</td>\n",
       "    </tr>\n",
       "    <tr>\n",
       "      <th>1</th>\n",
       "      <td>2</td>\n",
       "      <td>stockton, california, usa</td>\n",
       "      <td>18.0</td>\n",
       "    </tr>\n",
       "    <tr>\n",
       "      <th>2</th>\n",
       "      <td>3</td>\n",
       "      <td>moscow, yukon territory, russia</td>\n",
       "      <td>NaN</td>\n",
       "    </tr>\n",
       "    <tr>\n",
       "      <th>3</th>\n",
       "      <td>4</td>\n",
       "      <td>porto, v.n.gaia, portugal</td>\n",
       "      <td>17.0</td>\n",
       "    </tr>\n",
       "    <tr>\n",
       "      <th>4</th>\n",
       "      <td>5</td>\n",
       "      <td>farnborough, hants, united kingdom</td>\n",
       "      <td>NaN</td>\n",
       "    </tr>\n",
       "  </tbody>\n",
       "</table>\n",
       "</div>"
      ],
      "text/plain": [
       "<div>\n",
       "<style>\n",
       "    .dataframe thead tr:only-child th {\n",
       "        text-align: right;\n",
       "    }\n",
       "\n",
       "    .dataframe thead th {\n",
       "        text-align: left;\n",
       "    }\n",
       "\n",
       "    .dataframe tbody tr th {\n",
       "        vertical-align: top;\n",
       "    }\n",
       "</style>\n",
       "<table border=\"1\" class=\"dataframe\">\n",
       "  <thead>\n",
       "    <tr style=\"text-align: right;\">\n",
       "      <th></th>\n",
       "      <th>userID</th>\n",
       "      <th>Location</th>\n",
       "      <th>Age</th>\n",
       "    </tr>\n",
       "  </thead>\n",
       "  <tbody>\n",
       "    <tr>\n",
       "      <th>0</th>\n",
       "      <td>1</td>\n",
       "      <td>nyc, new york, usa</td>\n",
       "      <td>NaN</td>\n",
       "    </tr>\n",
       "    <tr>\n",
       "      <th>1</th>\n",
       "      <td>2</td>\n",
       "      <td>stockton, california, usa</td>\n",
       "      <td>18.0</td>\n",
       "    </tr>\n",
       "    <tr>\n",
       "      <th>2</th>\n",
       "      <td>3</td>\n",
       "      <td>moscow, yukon territory, russia</td>\n",
       "      <td>NaN</td>\n",
       "    </tr>\n",
       "    <tr>\n",
       "      <th>3</th>\n",
       "      <td>4</td>\n",
       "      <td>porto, v.n.gaia, portugal</td>\n",
       "      <td>17.0</td>\n",
       "    </tr>\n",
       "    <tr>\n",
       "      <th>4</th>\n",
       "      <td>5</td>\n",
       "      <td>farnborough, hants, united kingdom</td>\n",
       "      <td>NaN</td>\n",
       "    </tr>\n",
       "  </tbody>\n",
       "</table>\n",
       "</div>"
      ]
     },
     "execution_count": 35,
     "metadata": {},
     "output_type": "execute_result"
    }
   ],
   "source": [
    "users.head()"
   ]
  },
  {
   "cell_type": "markdown",
   "metadata": {},
   "source": [
    "### Age distribution\n",
    "\n",
    "The most active users are among 20-30s."
   ]
  },
  {
   "cell_type": "code",
   "execution_count": 36,
   "metadata": {},
   "outputs": [
    {
     "data": {
      "image/png": "[encoded data removed]",
      "text/plain": [
       "<matplotlib.figure.Figure at 0x112848c88>"
      ]
     },
     "metadata": {},
     "output_type": "display_data"
    }
   ],
   "source": [
    "users.Age.hist(bins=[0, 10, 20, 30, 40, 50, 100])\n",
    "plt.title('Age Distribution\\n')\n",
    "plt.xlabel('Age')\n",
    "plt.ylabel('Count')\n",
    "plt.savefig('system2.png', bbox_inches='tight')\n",
    "plt.show()"
   ]
  },
  {
   "cell_type": "markdown",
   "metadata": {},
   "source": [
    "## Recommendations based on rating counts"
   ]
  },
  {
   "cell_type": "code",
   "execution_count": 37,
   "metadata": {
    "scrolled": true
   },
   "outputs": [
    {
     "data": {
      "text/html": [
       "<div>\n",
       "<style>\n",
       "    .dataframe thead tr:only-child th {\n",
       "        text-align: right;\n",
       "    }\n",
       "\n",
       "    .dataframe thead th {\n",
       "        text-align: left;\n",
       "    }\n",
       "\n",
       "    .dataframe tbody tr th {\n",
       "        vertical-align: top;\n",
       "    }\n",
       "</style>\n",
       "<table border=\"1\" class=\"dataframe\">\n",
       "  <thead>\n",
       "    <tr style=\"text-align: right;\">\n",
       "      <th></th>\n",
       "      <th>bookRating</th>\n",
       "    </tr>\n",
       "    <tr>\n",
       "      <th>ISBN</th>\n",
       "      <th></th>\n",
       "    </tr>\n",
       "  </thead>\n",
       "  <tbody>\n",
       "    <tr>\n",
       "      <th>0971880107</th>\n",
       "      <td>2502</td>\n",
       "    </tr>\n",
       "    <tr>\n",
       "      <th>0316666343</th>\n",
       "      <td>1295</td>\n",
       "    </tr>\n",
       "    <tr>\n",
       "      <th>0385504209</th>\n",
       "      <td>883</td>\n",
       "    </tr>\n",
       "    <tr>\n",
       "      <th>0060928336</th>\n",
       "      <td>732</td>\n",
       "    </tr>\n",
       "    <tr>\n",
       "      <th>0312195516</th>\n",
       "      <td>723</td>\n",
       "    </tr>\n",
       "  </tbody>\n",
       "</table>\n",
       "</div>"
      ],
      "text/plain": [
       "<div>\n",
       "<style>\n",
       "    .dataframe thead tr:only-child th {\n",
       "        text-align: right;\n",
       "    }\n",
       "\n",
       "    .dataframe thead th {\n",
       "        text-align: left;\n",
       "    }\n",
       "\n",
       "    .dataframe tbody tr th {\n",
       "        vertical-align: top;\n",
       "    }\n",
       "</style>\n",
       "<table border=\"1\" class=\"dataframe\">\n",
       "  <thead>\n",
       "    <tr style=\"text-align: right;\">\n",
       "      <th></th>\n",
       "      <th>bookRating</th>\n",
       "    </tr>\n",
       "    <tr>\n",
       "      <th>ISBN</th>\n",
       "      <th></th>\n",
       "    </tr>\n",
       "  </thead>\n",
       "  <tbody>\n",
       "    <tr>\n",
       "      <th>0971880107</th>\n",
       "      <td>2502</td>\n",
       "    </tr>\n",
       "    <tr>\n",
       "      <th>0316666343</th>\n",
       "      <td>1295</td>\n",
       "    </tr>\n",
       "    <tr>\n",
       "      <th>0385504209</th>\n",
       "      <td>883</td>\n",
       "    </tr>\n",
       "    <tr>\n",
       "      <th>0060928336</th>\n",
       "      <td>732</td>\n",
       "    </tr>\n",
       "    <tr>\n",
       "      <th>0312195516</th>\n",
       "      <td>723</td>\n",
       "    </tr>\n",
       "  </tbody>\n",
       "</table>\n",
       "</div>"
      ]
     },
     "execution_count": 37,
     "metadata": {},
     "output_type": "execute_result"
    }
   ],
   "source": [
    "rating_count = pd.DataFrame(ratings.groupby('ISBN')['bookRating'].count())\n",
    "rating_count.sort_values('bookRating', ascending=False).head()"
   ]
  },
  {
   "cell_type": "markdown",
   "metadata": {},
   "source": [
    "The book with ISBN \"0971880107\" received the most ratings. Let's find out which books are in the top 5."
   ]
  },
  {
   "cell_type": "code",
   "execution_count": 38,
   "metadata": {},
   "outputs": [
    {
     "name": "stdout",
     "output_type": "stream",
     "text": [
      "         ISBN                                        bookTitle     bookAuthor  \\\n0  0971880107                                      Wild Animus   Rich Shapero   \n1  0316666343                        The Lovely Bones: A Novel   Alice Sebold   \n2  0385504209                                The Da Vinci Code      Dan Brown   \n3  0060928336  Divine Secrets of the Ya-Ya Sisterhood: A Novel  Rebecca Wells   \n4  0312195516              The Red Tent (Bestselling Backlist)  Anita Diamant   \n\n  yearOfPublication      publisher  \\\n0              2004        Too Far   \n1              2002  Little, Brown   \n2              2003      Doubleday   \n3              1997      Perennial   \n4              1998    Picador USA   \n\n                                           imageUrlS  \\\n0  http://images.amazon.com/images/P/0971880107.0...   \n1  http://images.amazon.com/images/P/0316666343.0...   \n2  http://images.amazon.com/images/P/0385504209.0...   \n3  http://images.amazon.com/images/P/0060928336.0...   \n4  http://images.amazon.com/images/P/0312195516.0...   \n\n                                           imageUrlM  \\\n0  http://images.amazon.com/images/P/0971880107.0...   \n1  http://images.amazon.com/images/P/0316666343.0...   \n2  http://images.amazon.com/images/P/0385504209.0...   \n3  http://images.amazon.com/images/P/0060928336.0...   \n4  http://images.amazon.com/images/P/0312195516.0...   \n\n                                           imageUrlL  \n0  http://images.amazon.com/images/P/0971880107.0...  \n1  http://images.amazon.com/images/P/0316666343.0...  \n2  http://images.amazon.com/images/P/0385504209.0...  \n3  http://images.amazon.com/images/P/0060928336.0...  \n4  http://images.amazon.com/images/P/0312195516.0...  \n"
     ]
    }
   ],
   "source": [
    "most_rated_books = pd.DataFrame(['0971880107', '0316666343', '0385504209', '0060928336', '0312195516'], index=np.arange(5), columns = ['ISBN'])\n",
    "most_rated_books_summary = pd.merge(most_rated_books, books, on='ISBN')\n",
    "print(most_rated_books_summary)"
   ]
  },
  {
   "cell_type": "markdown",
   "metadata": {},
   "source": [
    "The book that received the most ratings in this data set is Rich Shapero's Wild Animus. Something in common among these five most rated books - they are fictions or novels. The recommender suggests that novels and fictions are popular and likely receive more ratings. And if someone likes \"Wild Animus\", probably we should recommend him(her) \"The Lovely Bones: A Novel\"."
   ]
  },
  {
   "cell_type": "markdown",
   "metadata": {},
   "source": [
    "## Recommendations based on correlations\n",
    "\n",
    "Find out the average rating and the number of ratings each book received."
   ]
  },
  {
   "cell_type": "code",
   "execution_count": 39,
   "metadata": {},
   "outputs": [
    {
     "data": {
      "text/html": [
       "<div>\n",
       "<style>\n",
       "    .dataframe thead tr:only-child th {\n",
       "        text-align: right;\n",
       "    }\n",
       "\n",
       "    .dataframe thead th {\n",
       "        text-align: left;\n",
       "    }\n",
       "\n",
       "    .dataframe tbody tr th {\n",
       "        vertical-align: top;\n",
       "    }\n",
       "</style>\n",
       "<table border=\"1\" class=\"dataframe\">\n",
       "  <thead>\n",
       "    <tr style=\"text-align: right;\">\n",
       "      <th></th>\n",
       "      <th>bookRating</th>\n",
       "      <th>ratingCount</th>\n",
       "    </tr>\n",
       "    <tr>\n",
       "      <th>ISBN</th>\n",
       "      <th></th>\n",
       "      <th></th>\n",
       "    </tr>\n",
       "  </thead>\n",
       "  <tbody>\n",
       "    <tr>\n",
       "      <th>0971880107</th>\n",
       "      <td>1.019584</td>\n",
       "      <td>2502</td>\n",
       "    </tr>\n",
       "    <tr>\n",
       "      <th>0316666343</th>\n",
       "      <td>4.468726</td>\n",
       "      <td>1295</td>\n",
       "    </tr>\n",
       "    <tr>\n",
       "      <th>0385504209</th>\n",
       "      <td>4.652322</td>\n",
       "      <td>883</td>\n",
       "    </tr>\n",
       "    <tr>\n",
       "      <th>0060928336</th>\n",
       "      <td>3.448087</td>\n",
       "      <td>732</td>\n",
       "    </tr>\n",
       "    <tr>\n",
       "      <th>0312195516</th>\n",
       "      <td>4.334716</td>\n",
       "      <td>723</td>\n",
       "    </tr>\n",
       "  </tbody>\n",
       "</table>\n",
       "</div>"
      ],
      "text/plain": [
       "<div>\n",
       "<style>\n",
       "    .dataframe thead tr:only-child th {\n",
       "        text-align: right;\n",
       "    }\n",
       "\n",
       "    .dataframe thead th {\n",
       "        text-align: left;\n",
       "    }\n",
       "\n",
       "    .dataframe tbody tr th {\n",
       "        vertical-align: top;\n",
       "    }\n",
       "</style>\n",
       "<table border=\"1\" class=\"dataframe\">\n",
       "  <thead>\n",
       "    <tr style=\"text-align: right;\">\n",
       "      <th></th>\n",
       "      <th>bookRating</th>\n",
       "      <th>ratingCount</th>\n",
       "    </tr>\n",
       "    <tr>\n",
       "      <th>ISBN</th>\n",
       "      <th></th>\n",
       "      <th></th>\n",
       "    </tr>\n",
       "  </thead>\n",
       "  <tbody>\n",
       "    <tr>\n",
       "      <th>0971880107</th>\n",
       "      <td>1.019584</td>\n",
       "      <td>2502</td>\n",
       "    </tr>\n",
       "    <tr>\n",
       "      <th>0316666343</th>\n",
       "      <td>4.468726</td>\n",
       "      <td>1295</td>\n",
       "    </tr>\n",
       "    <tr>\n",
       "      <th>0385504209</th>\n",
       "      <td>4.652322</td>\n",
       "      <td>883</td>\n",
       "    </tr>\n",
       "    <tr>\n",
       "      <th>0060928336</th>\n",
       "      <td>3.448087</td>\n",
       "      <td>732</td>\n",
       "    </tr>\n",
       "    <tr>\n",
       "      <th>0312195516</th>\n",
       "      <td>4.334716</td>\n",
       "      <td>723</td>\n",
       "    </tr>\n",
       "  </tbody>\n",
       "</table>\n",
       "</div>"
      ]
     },
     "execution_count": 39,
     "metadata": {},
     "output_type": "execute_result"
    }
   ],
   "source": [
    "average_rating = pd.DataFrame(ratings.groupby('ISBN')['bookRating'].mean())\n",
    "average_rating['ratingCount'] = pd.DataFrame(ratings.groupby('ISBN')['bookRating'].count())\n",
    "average_rating.sort_values('ratingCount', ascending=False).head()"
   ]
  },
  {
   "cell_type": "markdown",
   "metadata": {},
   "source": [
    "#### Observation: \n",
    "\n",
    "In this dataet, the book that received the most ratings is not highly rated at all. So if we were set to use recommendations based on rating counts, we would definitely make mistaks here."
   ]
  },
  {
   "cell_type": "markdown",
   "metadata": {},
   "source": [
    "#### To ensure statistical significance, users with less than 200 ratings, and books with less than 100 ratings are excluded."
   ]
  },
  {
   "cell_type": "code",
   "execution_count": 40,
   "metadata": {
    "collapsed": true
   },
   "outputs": [],
   "source": [
    "counts1 = ratings['userID'].value_counts()\n",
    "ratings = ratings[ratings['userID'].isin(counts1[counts1 >= 200].index)]\n",
    "counts = ratings['bookRating'].value_counts()\n",
    "ratings = ratings[ratings['bookRating'].isin(counts[counts >= 100].index)]"
   ]
  },
  {
   "cell_type": "markdown",
   "metadata": {},
   "source": [
    "### Rating matrix\n",
    "\n",
    "Convert the table to a 2D matrix. The matrix will be sparse because not every user rate every book."
   ]
  },
  {
   "cell_type": "code",
   "execution_count": 46,
   "metadata": {},
   "outputs": [
    {
     "name": "stdout",
     "output_type": "stream",
     "text": [
      "(905, 207699)\nISBN     0330299891   0375404120   0586045007   9022906116   9032803328  \\\nuserID                                                                    \n254             NaN          NaN          NaN          NaN          NaN   \n2276            NaN          NaN          NaN          NaN          NaN   \n2766            NaN          NaN          NaN          NaN          NaN   \n2977            NaN          NaN          NaN          NaN          NaN   \n3363            NaN          NaN          NaN          NaN          NaN   \n\nISBN     9044922564   9044922572   9044922718   9044923161   904492401X  \\\nuserID                                                                    \n254             NaN          NaN          NaN          NaN          NaN   \n2276            NaN          NaN          NaN          NaN          NaN   \n2766            NaN          NaN          NaN          NaN          NaN   \n2977            NaN          NaN          NaN          NaN          NaN   \n3363            NaN          NaN          NaN          NaN          NaN   \n\nISBN      ...      UNGRANDHOMMED  X000000000  YOUTELLEM,AND  ZR903CX0003  \\\nuserID    ...                                                              \n254       ...                NaN         NaN            NaN          NaN   \n2276      ...                NaN         NaN            NaN          NaN   \n2766      ...                NaN         NaN            NaN          NaN   \n2977      ...                NaN         NaN            NaN          NaN   \n3363      ...                NaN         NaN            NaN          NaN   \n\nISBN    \\0432534220\\\"\"  \\2842053052\\\"\"  b00005wz75  cn108465  cn113107  \\\nuserID                                                                   \n254                NaN             NaN         NaN       NaN       NaN   \n2276               NaN             NaN         NaN       NaN       NaN   \n2766               NaN             NaN         NaN       NaN       NaN   \n2977               NaN             NaN         NaN       NaN       NaN   \n3363               NaN             NaN         NaN       NaN       NaN   \n\nISBN    Ô½crosoft  \nuserID             \n254           NaN  \n2276          NaN  \n2766          NaN  \n2977          NaN  \n3363          NaN  \n\n[5 rows x 207699 columns]\n"
     ]
    }
   ],
   "source": [
    "ratings_pivot = ratings.pivot(index='userID', columns='ISBN').bookRating\n",
    "userID = ratings_pivot.index\n",
    "ISBN = ratings_pivot.columns\n",
    "print(ratings_pivot.shape)\n",
    "ratings_pivot.head()"
   ]
  },
  {
   "cell_type": "markdown",
   "metadata": {},
   "source": [
    "Let's find out which books are correlated with the 2nd most rated book \"The Lovely Bones: A Novel\". To blatantly quote from the Wikipedia: It is the story of a teenage girl who, after being raped and murdered, watches from her personal Heaven as her family and friends struggle to move on with their lives while she comes to terms with her own death."
   ]
  },
  {
   "cell_type": "code",
   "execution_count": 45,
   "metadata": {},
   "outputs": [
    {
     "name": "stderr",
     "output_type": "stream",
     "text": [
      "/Users/reiven/anaconda3/lib/python3.6/site-packages/numpy/lib/function_base.py:3159: RuntimeWarning: Degrees of freedom <= 0 for slice\n  c = cov(x, y, rowvar)\n/Users/reiven/anaconda3/lib/python3.6/site-packages/numpy/lib/function_base.py:3093: RuntimeWarning: divide by zero encountered in double_scalars\n  c *= 1. / np.float64(fact)\n"
     ]
    },
    {
     "data": {
      "text/html": [
       "<div>\n",
       "<style>\n",
       "    .dataframe thead tr:only-child th {\n",
       "        text-align: right;\n",
       "    }\n",
       "\n",
       "    .dataframe thead th {\n",
       "        text-align: left;\n",
       "    }\n",
       "\n",
       "    .dataframe tbody tr th {\n",
       "        vertical-align: top;\n",
       "    }\n",
       "</style>\n",
       "<table border=\"1\" class=\"dataframe\">\n",
       "  <thead>\n",
       "    <tr style=\"text-align: right;\">\n",
       "      <th></th>\n",
       "      <th>pearsonR</th>\n",
       "      <th>ratingCount</th>\n",
       "    </tr>\n",
       "    <tr>\n",
       "      <th>ISBN</th>\n",
       "      <th></th>\n",
       "      <th></th>\n",
       "    </tr>\n",
       "  </thead>\n",
       "  <tbody>\n",
       "    <tr>\n",
       "      <th>0316666343</th>\n",
       "      <td>1.000000</td>\n",
       "      <td>1295</td>\n",
       "    </tr>\n",
       "    <tr>\n",
       "      <th>0312291639</th>\n",
       "      <td>0.471872</td>\n",
       "      <td>354</td>\n",
       "    </tr>\n",
       "    <tr>\n",
       "      <th>0316601950</th>\n",
       "      <td>0.434248</td>\n",
       "      <td>568</td>\n",
       "    </tr>\n",
       "    <tr>\n",
       "      <th>0446610038</th>\n",
       "      <td>0.429712</td>\n",
       "      <td>391</td>\n",
       "    </tr>\n",
       "    <tr>\n",
       "      <th>0446672211</th>\n",
       "      <td>0.421478</td>\n",
       "      <td>585</td>\n",
       "    </tr>\n",
       "    <tr>\n",
       "      <th>0385265700</th>\n",
       "      <td>0.351635</td>\n",
       "      <td>319</td>\n",
       "    </tr>\n",
       "    <tr>\n",
       "      <th>0345342968</th>\n",
       "      <td>0.316922</td>\n",
       "      <td>321</td>\n",
       "    </tr>\n",
       "    <tr>\n",
       "      <th>0060930535</th>\n",
       "      <td>0.309860</td>\n",
       "      <td>494</td>\n",
       "    </tr>\n",
       "    <tr>\n",
       "      <th>0375707972</th>\n",
       "      <td>0.308145</td>\n",
       "      <td>354</td>\n",
       "    </tr>\n",
       "    <tr>\n",
       "      <th>0684872153</th>\n",
       "      <td>0.272480</td>\n",
       "      <td>326</td>\n",
       "    </tr>\n",
       "  </tbody>\n",
       "</table>\n",
       "</div>"
      ],
      "text/plain": [
       "<div>\n",
       "<style>\n",
       "    .dataframe thead tr:only-child th {\n",
       "        text-align: right;\n",
       "    }\n",
       "\n",
       "    .dataframe thead th {\n",
       "        text-align: left;\n",
       "    }\n",
       "\n",
       "    .dataframe tbody tr th {\n",
       "        vertical-align: top;\n",
       "    }\n",
       "</style>\n",
       "<table border=\"1\" class=\"dataframe\">\n",
       "  <thead>\n",
       "    <tr style=\"text-align: right;\">\n",
       "      <th></th>\n",
       "      <th>pearsonR</th>\n",
       "      <th>ratingCount</th>\n",
       "    </tr>\n",
       "    <tr>\n",
       "      <th>ISBN</th>\n",
       "      <th></th>\n",
       "      <th></th>\n",
       "    </tr>\n",
       "  </thead>\n",
       "  <tbody>\n",
       "    <tr>\n",
       "      <th>0316666343</th>\n",
       "      <td>1.000000</td>\n",
       "      <td>1295</td>\n",
       "    </tr>\n",
       "    <tr>\n",
       "      <th>0312291639</th>\n",
       "      <td>0.471872</td>\n",
       "      <td>354</td>\n",
       "    </tr>\n",
       "    <tr>\n",
       "      <th>0316601950</th>\n",
       "      <td>0.434248</td>\n",
       "      <td>568</td>\n",
       "    </tr>\n",
       "    <tr>\n",
       "      <th>0446610038</th>\n",
       "      <td>0.429712</td>\n",
       "      <td>391</td>\n",
       "    </tr>\n",
       "    <tr>\n",
       "      <th>0446672211</th>\n",
       "      <td>0.421478</td>\n",
       "      <td>585</td>\n",
       "    </tr>\n",
       "    <tr>\n",
       "      <th>0385265700</th>\n",
       "      <td>0.351635</td>\n",
       "      <td>319</td>\n",
       "    </tr>\n",
       "    <tr>\n",
       "      <th>0345342968</th>\n",
       "      <td>0.316922</td>\n",
       "      <td>321</td>\n",
       "    </tr>\n",
       "    <tr>\n",
       "      <th>0060930535</th>\n",
       "      <td>0.309860</td>\n",
       "      <td>494</td>\n",
       "    </tr>\n",
       "    <tr>\n",
       "      <th>0375707972</th>\n",
       "      <td>0.308145</td>\n",
       "      <td>354</td>\n",
       "    </tr>\n",
       "    <tr>\n",
       "      <th>0684872153</th>\n",
       "      <td>0.272480</td>\n",
       "      <td>326</td>\n",
       "    </tr>\n",
       "  </tbody>\n",
       "</table>\n",
       "</div>"
      ]
     },
     "execution_count": 45,
     "metadata": {},
     "output_type": "execute_result"
    }
   ],
   "source": [
    "bones_ratings = ratings_pivot['0316666343']\n",
    "similar_to_bones = ratings_pivot.corrwith(bones_ratings)\n",
    "corr_bones = pd.DataFrame(similar_to_bones, columns=['pearsonR'])\n",
    "corr_bones.dropna(inplace=True)\n",
    "corr_summary = corr_bones.join(average_rating['ratingCount'])\n",
    "corr_summary[corr_summary['ratingCount']>=300].sort_values('pearsonR', ascending=False).head(10)"
   ]
  },
  {
   "cell_type": "markdown",
   "metadata": {},
   "source": [
    "We obtained the books' ISBNs, but we need to find out the names of the books to see whether they make sense."
   ]
  },
  {
   "cell_type": "code",
   "execution_count": 26,
   "metadata": {},
   "outputs": [
    {
     "data": {
      "text/html": [
       "<div>\n",
       "<style>\n",
       "    .dataframe thead tr:only-child th {\n",
       "        text-align: right;\n",
       "    }\n",
       "\n",
       "    .dataframe thead th {\n",
       "        text-align: left;\n",
       "    }\n",
       "\n",
       "    .dataframe tbody tr th {\n",
       "        vertical-align: top;\n",
       "    }\n",
       "</style>\n",
       "<table border=\"1\" class=\"dataframe\">\n",
       "  <thead>\n",
       "    <tr style=\"text-align: right;\">\n",
       "      <th></th>\n",
       "      <th>ISBN</th>\n",
       "      <th>bookTitle</th>\n",
       "      <th>bookAuthor</th>\n",
       "      <th>yearOfPublication</th>\n",
       "      <th>publisher</th>\n",
       "      <th>imageUrlS</th>\n",
       "      <th>imageUrlM</th>\n",
       "      <th>imageUrlL</th>\n",
       "    </tr>\n",
       "  </thead>\n",
       "  <tbody>\n",
       "    <tr>\n",
       "      <th>0</th>\n",
       "      <td>0312291639</td>\n",
       "      <td>The Nanny Diaries: A Novel</td>\n",
       "      <td>Emma McLaughlin</td>\n",
       "      <td>2003</td>\n",
       "      <td>St. Martin's Griffin</td>\n",
       "      <td>http://images.amazon.com/images/P/0312291639.0...</td>\n",
       "      <td>http://images.amazon.com/images/P/0312291639.0...</td>\n",
       "      <td>http://images.amazon.com/images/P/0312291639.0...</td>\n",
       "    </tr>\n",
       "    <tr>\n",
       "      <th>1</th>\n",
       "      <td>0316601950</td>\n",
       "      <td>The Pilot's Wife : A Novel</td>\n",
       "      <td>Anita Shreve</td>\n",
       "      <td>1999</td>\n",
       "      <td>Back Bay Books</td>\n",
       "      <td>http://images.amazon.com/images/P/0316601950.0...</td>\n",
       "      <td>http://images.amazon.com/images/P/0316601950.0...</td>\n",
       "      <td>http://images.amazon.com/images/P/0316601950.0...</td>\n",
       "    </tr>\n",
       "    <tr>\n",
       "      <th>2</th>\n",
       "      <td>0446610038</td>\n",
       "      <td>1st to Die: A Novel</td>\n",
       "      <td>James Patterson</td>\n",
       "      <td>2002</td>\n",
       "      <td>Warner Vision</td>\n",
       "      <td>http://images.amazon.com/images/P/0446610038.0...</td>\n",
       "      <td>http://images.amazon.com/images/P/0446610038.0...</td>\n",
       "      <td>http://images.amazon.com/images/P/0446610038.0...</td>\n",
       "    </tr>\n",
       "    <tr>\n",
       "      <th>3</th>\n",
       "      <td>0446672211</td>\n",
       "      <td>Where the Heart Is (Oprah's Book Club (Paperba...</td>\n",
       "      <td>Billie Letts</td>\n",
       "      <td>1998</td>\n",
       "      <td>Warner Books</td>\n",
       "      <td>http://images.amazon.com/images/P/0446672211.0...</td>\n",
       "      <td>http://images.amazon.com/images/P/0446672211.0...</td>\n",
       "      <td>http://images.amazon.com/images/P/0446672211.0...</td>\n",
       "    </tr>\n",
       "    <tr>\n",
       "      <th>4</th>\n",
       "      <td>0385265700</td>\n",
       "      <td>The Book of Ruth (Oprah's Book Club (Paperback))</td>\n",
       "      <td>Jane Hamilton</td>\n",
       "      <td>1990</td>\n",
       "      <td>Anchor</td>\n",
       "      <td>http://images.amazon.com/images/P/0385265700.0...</td>\n",
       "      <td>http://images.amazon.com/images/P/0385265700.0...</td>\n",
       "      <td>http://images.amazon.com/images/P/0385265700.0...</td>\n",
       "    </tr>\n",
       "    <tr>\n",
       "      <th>5</th>\n",
       "      <td>0345342968</td>\n",
       "      <td>Fahrenheit 451</td>\n",
       "      <td>RAY BRADBURY</td>\n",
       "      <td>1987</td>\n",
       "      <td>Del Rey</td>\n",
       "      <td>http://images.amazon.com/images/P/0345342968.0...</td>\n",
       "      <td>http://images.amazon.com/images/P/0345342968.0...</td>\n",
       "      <td>http://images.amazon.com/images/P/0345342968.0...</td>\n",
       "    </tr>\n",
       "    <tr>\n",
       "      <th>6</th>\n",
       "      <td>0060930535</td>\n",
       "      <td>The Poisonwood Bible: A Novel</td>\n",
       "      <td>Barbara Kingsolver</td>\n",
       "      <td>1999</td>\n",
       "      <td>Perennial</td>\n",
       "      <td>http://images.amazon.com/images/P/0060930535.0...</td>\n",
       "      <td>http://images.amazon.com/images/P/0060930535.0...</td>\n",
       "      <td>http://images.amazon.com/images/P/0060930535.0...</td>\n",
       "    </tr>\n",
       "    <tr>\n",
       "      <th>7</th>\n",
       "      <td>0375707972</td>\n",
       "      <td>The Reader</td>\n",
       "      <td>Bernhard Schlink</td>\n",
       "      <td>1999</td>\n",
       "      <td>Vintage Books USA</td>\n",
       "      <td>http://images.amazon.com/images/P/0375707972.0...</td>\n",
       "      <td>http://images.amazon.com/images/P/0375707972.0...</td>\n",
       "      <td>http://images.amazon.com/images/P/0375707972.0...</td>\n",
       "    </tr>\n",
       "    <tr>\n",
       "      <th>8</th>\n",
       "      <td>0684872153</td>\n",
       "      <td>Angela's Ashes (MMP) : A Memoir</td>\n",
       "      <td>Frank McCourt</td>\n",
       "      <td>1999</td>\n",
       "      <td>Scribner</td>\n",
       "      <td>http://images.amazon.com/images/P/0684872153.0...</td>\n",
       "      <td>http://images.amazon.com/images/P/0684872153.0...</td>\n",
       "      <td>http://images.amazon.com/images/P/0684872153.0...</td>\n",
       "    </tr>\n",
       "  </tbody>\n",
       "</table>\n",
       "</div>"
      ],
      "text/plain": [
       "<div>\n",
       "<style>\n",
       "    .dataframe thead tr:only-child th {\n",
       "        text-align: right;\n",
       "    }\n",
       "\n",
       "    .dataframe thead th {\n",
       "        text-align: left;\n",
       "    }\n",
       "\n",
       "    .dataframe tbody tr th {\n",
       "        vertical-align: top;\n",
       "    }\n",
       "</style>\n",
       "<table border=\"1\" class=\"dataframe\">\n",
       "  <thead>\n",
       "    <tr style=\"text-align: right;\">\n",
       "      <th></th>\n",
       "      <th>ISBN</th>\n",
       "      <th>bookTitle</th>\n",
       "      <th>bookAuthor</th>\n",
       "      <th>yearOfPublication</th>\n",
       "      <th>publisher</th>\n",
       "      <th>imageUrlS</th>\n",
       "      <th>imageUrlM</th>\n",
       "      <th>imageUrlL</th>\n",
       "    </tr>\n",
       "  </thead>\n",
       "  <tbody>\n",
       "    <tr>\n",
       "      <th>0</th>\n",
       "      <td>0312291639</td>\n",
       "      <td>The Nanny Diaries: A Novel</td>\n",
       "      <td>Emma McLaughlin</td>\n",
       "      <td>2003</td>\n",
       "      <td>St. Martin's Griffin</td>\n",
       "      <td>http://images.amazon.com/images/P/0312291639.0...</td>\n",
       "      <td>http://images.amazon.com/images/P/0312291639.0...</td>\n",
       "      <td>http://images.amazon.com/images/P/0312291639.0...</td>\n",
       "    </tr>\n",
       "    <tr>\n",
       "      <th>1</th>\n",
       "      <td>0316601950</td>\n",
       "      <td>The Pilot's Wife : A Novel</td>\n",
       "      <td>Anita Shreve</td>\n",
       "      <td>1999</td>\n",
       "      <td>Back Bay Books</td>\n",
       "      <td>http://images.amazon.com/images/P/0316601950.0...</td>\n",
       "      <td>http://images.amazon.com/images/P/0316601950.0...</td>\n",
       "      <td>http://images.amazon.com/images/P/0316601950.0...</td>\n",
       "    </tr>\n",
       "    <tr>\n",
       "      <th>2</th>\n",
       "      <td>0446610038</td>\n",
       "      <td>1st to Die: A Novel</td>\n",
       "      <td>James Patterson</td>\n",
       "      <td>2002</td>\n",
       "      <td>Warner Vision</td>\n",
       "      <td>http://images.amazon.com/images/P/0446610038.0...</td>\n",
       "      <td>http://images.amazon.com/images/P/0446610038.0...</td>\n",
       "      <td>http://images.amazon.com/images/P/0446610038.0...</td>\n",
       "    </tr>\n",
       "    <tr>\n",
       "      <th>3</th>\n",
       "      <td>0446672211</td>\n",
       "      <td>Where the Heart Is (Oprah's Book Club (Paperba...</td>\n",
       "      <td>Billie Letts</td>\n",
       "      <td>1998</td>\n",
       "      <td>Warner Books</td>\n",
       "      <td>http://images.amazon.com/images/P/0446672211.0...</td>\n",
       "      <td>http://images.amazon.com/images/P/0446672211.0...</td>\n",
       "      <td>http://images.amazon.com/images/P/0446672211.0...</td>\n",
       "    </tr>\n",
       "    <tr>\n",
       "      <th>4</th>\n",
       "      <td>0385265700</td>\n",
       "      <td>The Book of Ruth (Oprah's Book Club (Paperback))</td>\n",
       "      <td>Jane Hamilton</td>\n",
       "      <td>1990</td>\n",
       "      <td>Anchor</td>\n",
       "      <td>http://images.amazon.com/images/P/0385265700.0...</td>\n",
       "      <td>http://images.amazon.com/images/P/0385265700.0...</td>\n",
       "      <td>http://images.amazon.com/images/P/0385265700.0...</td>\n",
       "    </tr>\n",
       "    <tr>\n",
       "      <th>5</th>\n",
       "      <td>0345342968</td>\n",
       "      <td>Fahrenheit 451</td>\n",
       "      <td>RAY BRADBURY</td>\n",
       "      <td>1987</td>\n",
       "      <td>Del Rey</td>\n",
       "      <td>http://images.amazon.com/images/P/0345342968.0...</td>\n",
       "      <td>http://images.amazon.com/images/P/0345342968.0...</td>\n",
       "      <td>http://images.amazon.com/images/P/0345342968.0...</td>\n",
       "    </tr>\n",
       "    <tr>\n",
       "      <th>6</th>\n",
       "      <td>0060930535</td>\n",
       "      <td>The Poisonwood Bible: A Novel</td>\n",
       "      <td>Barbara Kingsolver</td>\n",
       "      <td>1999</td>\n",
       "      <td>Perennial</td>\n",
       "      <td>http://images.amazon.com/images/P/0060930535.0...</td>\n",
       "      <td>http://images.amazon.com/images/P/0060930535.0...</td>\n",
       "      <td>http://images.amazon.com/images/P/0060930535.0...</td>\n",
       "    </tr>\n",
       "    <tr>\n",
       "      <th>7</th>\n",
       "      <td>0375707972</td>\n",
       "      <td>The Reader</td>\n",
       "      <td>Bernhard Schlink</td>\n",
       "      <td>1999</td>\n",
       "      <td>Vintage Books USA</td>\n",
       "      <td>http://images.amazon.com/images/P/0375707972.0...</td>\n",
       "      <td>http://images.amazon.com/images/P/0375707972.0...</td>\n",
       "      <td>http://images.amazon.com/images/P/0375707972.0...</td>\n",
       "    </tr>\n",
       "    <tr>\n",
       "      <th>8</th>\n",
       "      <td>0684872153</td>\n",
       "      <td>Angela's Ashes (MMP) : A Memoir</td>\n",
       "      <td>Frank McCourt</td>\n",
       "      <td>1999</td>\n",
       "      <td>Scribner</td>\n",
       "      <td>http://images.amazon.com/images/P/0684872153.0...</td>\n",
       "      <td>http://images.amazon.com/images/P/0684872153.0...</td>\n",
       "      <td>http://images.amazon.com/images/P/0684872153.0...</td>\n",
       "    </tr>\n",
       "  </tbody>\n",
       "</table>\n",
       "</div>"
      ]
     },
     "execution_count": 26,
     "metadata": {},
     "output_type": "execute_result"
    }
   ],
   "source": [
    "books_corr_to_bones = pd.DataFrame(['0312291639', '0316601950', '0446610038', '0446672211', '0385265700', '0345342968', '0060930535', '0375707972', '0684872153'], \n",
    "                                  index=np.arange(9), columns=['ISBN'])\n",
    "corr_books = pd.merge(books_corr_to_bones, books, on='ISBN')\n",
    "corr_books"
   ]
  },
  {
   "cell_type": "markdown",
   "metadata": {},
   "source": [
    "Let's select three books to examine from the above highly correlated list \"The Nanny Diaries: A Novel\", \"The Pilot's Wife: A Novel\" and \"Where the heart is\". \n",
    "\n",
    "\"The Nanny Diaries\" satirizes upper class Manhattan society as seen through the eyes of their children's caregivers. \n",
    "\n",
    "Written by the same author of \"The Lovely Bones\", \"The Pilot's Wife\" is the third novel in Shreve's informal trilogy to be set in a large beach house on the New Hampshire coast that used to be a conventis.\n",
    "\n",
    "\"Where the Heart Is\" dramatizes in detail the tribulations of lower-income and foster children in the United States.\n",
    "\n",
    "These three books sound right to me to be highly correlated with \"The Lovely Bones\". Seems our correlation recommender system is working."
   ]
  },
  {
   "cell_type": "markdown",
   "metadata": {},
   "source": [
    "----"
   ]
  },
  {
   "cell_type": "markdown",
   "metadata": {
    "collapsed": true
   },
   "source": [
    "## Question 1\n",
    "\n",
    "What is the sparsity of the dataset(% of total that has no rating)\n"
   ]
  },
  {
   "cell_type": "markdown",
   "metadata": {
    "collapsed": true
   },
   "source": [
    "\n",
    "\n",
    "All the possible rating amount(A) is total user \\* total book.\n",
    "\n",
    "So, sparsity of the dataset is (A - {existed rating})/A\n"
   ]
  },
  {
   "cell_type": "code",
   "execution_count": 51,
   "metadata": {},
   "outputs": [
    {
     "name": "stdout",
     "output_type": "stream",
     "text": [
      "278858\n271360\n527556\nSparsity: 0.9999930282849545\n"
     ]
    }
   ],
   "source": [
    "user_amount = users.shape[0]\n",
    "# print(user_amount)\n",
    "book_amount = books.shape[0]\n",
    "# print(book_amount)\n",
    "rating_amount = ratings.shape[0]\n",
    "# print(rating_amount)\n",
    "all_rating = user_amount * book_amount\n",
    "sparsity = (all_rating - rating_amount)/all_rating\n",
    "print(\"Sparsity:\", sparsity)\n"
   ]
  },
  {
   "cell_type": "markdown",
   "metadata": {},
   "source": [
    "Result above means 99.9993% of possible rating data is NaN.\n"
   ]
  },
  {
   "cell_type": "markdown",
   "metadata": {},
   "source": [
    "\n",
    "The other thought, using ratings_pivot(rating matrix).\n",
    "There are following 2 important notices, but I think it still could show sparsity of rating.\n",
    "\n",
    "- To ensure statistical significance, users with less than 200 ratings, and books with less than 100 ratings are excluded.\n",
    "- not every user rate every book\n"
   ]
  },
  {
   "cell_type": "code",
   "execution_count": 54,
   "metadata": {},
   "outputs": [
    {
     "name": "stdout",
     "output_type": "stream",
     "text": [
      "(905, 207699)\n187967595\nSparsity: 0.9971933672929102\n"
     ]
    }
   ],
   "source": [
    "print(ratings_pivot.shape)\n",
    "u = ratings_pivot.shape[0]\n",
    "b = ratings_pivot.shape[1]\n",
    "all_ratings = u * b\n",
    "print(all_ratings)\n",
    "sparsity = (all_ratings - rating_amount)/all_ratings\n",
    "print(\"Sparsity:\", sparsity)"
   ]
  },
  {
   "cell_type": "markdown",
   "metadata": {},
   "source": [
    "Result above shows that sparsity of that calcuration is 99.719%.\n",
    "\n",
    "Anyway, the rating data is sparse(more than 99% of data is NaN)."
   ]
  },
  {
   "cell_type": "markdown",
   "metadata": {},
   "source": [
    "## Question 2\n",
    "\n",
    "What is the percentage of rating counts from each country\n",
    "(only list percentages >= 1%)"
   ]
  },
  {
   "cell_type": "code",
   "execution_count": 84,
   "metadata": {},
   "outputs": [
    {
     "name": "stdout",
     "output_type": "stream",
     "text": [
      "['usa' 'russia' 'portugal' 'united kingdom' 'canada' 'spain' 'australia'\n 'brazil' '' 'germany' 'mexico' 'china' 'italy' 'distrito federal' 'france'\n 'netherlands' 'iraq' 'finland' 'new zealand' 'india' 'ghana' 'switzerland'\n 'slovenia' 'iran' 'peru' 'bosnia and herzegovina' 'vietnam' 'sri lanka'\n 'pakistan' 'denmark' 'belgium' 'malaysia' 'uae' 'turkey' 'philippines'\n 'greece' 'colombia' 'norway' 'kuwait' 'chile' 'quit' 'lj' 'taiwan'\n 'denmark\"' 'españa' 'sweden' 'argentina' 'nigeria' 'london' 'bulgaria'\n 'austria' 'romania' 'singapore' 'albania' 'egypt' 'tunisia' 'uzbekistan'\n 'qatar' 'syria' 'saudi arabia' 'indonesia' 'sudan' 'somewherein space'\n 'poland' 'thailand' 'ireland' 'malaysia\"' 'venezuela' 'paraguay'\n 'mozambique' 'morocco' 'afghanistan' 'estonia' 'clackamas' 'spain\"' '\"'\n 'lesotho' 'yugoslavia' 'slovakia' 'costa rica' 'basque country'\n 'british virgin islands' 'ethiopia' 'croatia' 'united kingdom\"'\n 'portugal\"' 'israel' 'japan' 'israel\"' 'iceland' 'the' 'south africa'\n 'iran\"' 'cuba' 'antigua and barbuda' 'calabria' 'alderney' 'puerto rico'\n 'hong kong' 'nigeria\"' 'latvia' 'jersey' 'germany\"' 'luxembourg' 'belarus'\n 'cape verde\"' 'lithuania' 'guyana' 'scotland' 'n/a' 'jordan'\n 'la argentina' 'angola' 'algeria' 'andorra' 'kyrgyzstan' 'panama' 'csa'\n 'ecuador' 'phils' 'kazakhstan' 'dominican republic' 'turkey\"' 'brunei'\n 'bangladesh' 'monterrey' 'bahrain' 'united arab emirates' 'urugua'\n 'uruguay' 'l`italia' 'finland\"' 'honduras' 'georgia' 'dominica' 'malta'\n 'india\"' 'faroe islands' 'east africa' 'france\"' 'sierra leone'\n 'guatemala' 'mali' 'czech republic' 'space' 'romania\"' 'south korea'\n 'rwanda' 'trinidad and tobago' 'norway\"' 'yemen' 'cyprus'\n 'the philippines' 'öð¹ú' 'la france' 'eritrea' 'bahamas' 'cameroon'\n 'nicaragua' 'zambia' 'bolivia' 'maroc' 'isreal' 'belize'\n 'fernando de la mora' 'namibia' 'macedonia' 'argentina\"' 'botswana'\n 'queenspark' 'monaco' 'samoa' 'brasil' '19104' 'guernsey' 'euskal herria'\n 'bermuda' 'barbados' 'trinidad' 'england' 'armenia' 'hungary'\n 'deutschland' 'netherlands\"' 'austria\"' 'cayman islands' 'ukraine'\n 'sweden\"' 'new zealand\"' 'minnehaha' 'azerbaijan' 'galiza' 'de'\n 'switzerland\"' 'suriname' 'doodedoo' 'jamaica' 'caribbean sea'\n '&#32654;&#22269;' 'us virgin islands' 'us of a' 'afganstand holla !!'\n 'catalunya' 'kosovo' 'serbia & montenegro' 'somalia' 'moldova'\n 'bangladesh\"' '-------' 'trinidad & tobago' 'tanzania' 'burma' 'uk'\n 'ghana\"' 'turkei' 'ksa' 'tajikistan' 'nepal' 'sri lanka\\\\\"n/a\\\\\"\"'\n 'valtesse' 'lebanon' 'cote d`ivoire' 'maldives' 'catalunya(catalonia)'\n 'mã?â©xico' 'nederlands' 'tdzimi' 'peru\"' 'hong kong\"' 'oman'\n 'saint vincent and the grenadines\"' 'lleida' 'antarctica' 'itlay' 'palau'\n 'belgique' 'st vincent and the grenadines' 'deutsches reich' 'catalonia'\n 'micronesia' 'kenya' 'collin' 'zhengjiang' 'grenada' 'bhutan' 'baxter'\n 'guinea-bissau' 'cote d`ivoire\"' 'evil empire' 'wales' 'mongolia'\n 'hennipen' 'equatorial geuinea' 'italy\"' 'italia' 'rice' 'good old usa !'\n 'philippines\"' 'polska' 'missouri' 'goteborg' 'united states' 'senegal'\n 'bbbzzzzz' 'saint lucia' 'zimbabwe' 'cass' 'baltimore' 'hampden'\n 'thailand\"' 'ust' 'ama lurra' 'polk' 'hamilton' 'fiji' 'bernalillo'\n 'effingham' 'lake' 'catalunya spain' '*' 'windham' 'belgium\"' 'ireland\"'\n 'papua new guinea' 'costa rica\"' 'laos' 'slovakia\"' 'united stated'\n 'the great white north' 'brazil\"' 'saint vincent and the grenadines'\n 'burkina faso' 'philippine' 'auckland' '?ú?{' 'c' 'gabon' 'pasco'\n 'united states of america' 'ferrara' 'morgan' 'milano' 'europe' 'slo'\n 'lkjlj' 'north korea' 'marrion' 'commonwealth of northern mariana islands'\n 'mauritius' 'benin' 'colombia\"' 'cnina' 'holy see' 'haiti' 'cn' 'holland'\n 'jackson' 'cherokee' 'espaã?â±a' 'lazio' 'dekalb' 'la belgique' 'maricopa'\n 'n/a - on the road' 'ua' 'chile\"' 'algérie' 'san marino' 'nrw'\n 'nyhamnsläge' 'egypt\"' 'aruba' 'richmond country' 'srilanka' 'el salvador'\n 'slovenia\"' 'republic of korea' 'luxembourg\"' 'côte d' 'saint loius'\n 'croatia\"' 'greece\"' 'framingham' 'monroe' 'hornyonic' 'ouranos'\n 'san bernardino' 'nyc' 'united kindgonm' 'eeuu' 'here and there' 'malawi'\n 'channel islands' 'espaã±a' 'solomon islands' 'washtenaw' 'libya'\n 'universe' 'az' 'suisse' 'uganda' 'la chine éternelle !' 'iceland\"'\n 'macau' 'frome' 'brunei darussalam' 'netherlands antilles' 'niger'\n 'cape town' 'st helena' 'sultanate of oman' 'aroostook'\n 'fredonia - land of the brave and free' 'china\"' 'chad'\n 'la chine éternelle!' 'fifi' 'djibouti' 'america' 'prince william'\n 'bademn würtemberg' 'marshall islands' 'la suisse' 'gb' 'worcester' 'wood'\n 'rmi' 'hongkong' 'heaven' 'serbia' 'méxico' 'poland\"' 'cape verde' 'congo'\n 'osceola' 'van wert' 'deutschland\"' '87510' 'ä¸\\xadå?½' 'lornsenland'\n 'hungary\"' 'saudia arabia' 'dublin' 'pr' 'none' 'prchina' 'liberia'\n 'usa & canada' 'carter' 'myanmar' 'rapides' 'american samoa' 'essex'\n 'sao tome and principe\"' '-' 'vietnam\"' 'aaa' 'can' 'sicilia' 'sri lanka\"'\n 'english' 'singapore/united kingdom' 'nowhere' 'scotland\"' 'alachua'\n 'macedonia\"' 'china öð¹ú' 'czech republic\"' 'lombardia' 'cambodia'\n 'vanuatu' 'turkmenistan' 'mérida' 'antigua & barbuda' 'hillsborough' 'my'\n 'greece (=hellas)' 'isle of man' 'san franicsco' 'us>' 'usa!' '02458'\n '5057chadwick ct' 'the netherlands' 'south korea\"' 'far away' 'us'\n 'travelling' 'togo' 'belgi' 'pinallas' 'sudan\"' 'guatemala\"' 'id' 'k1c7b1'\n 'orense' 'rutherford' 'pa' 'bell' 'country' 'australia\"'\n 'serbia and montenegro' 'mexico\"' 'camden' 'dfg' 'chian' 'strongbadia'\n 'bfe' 'liaoning' 'united statea' 'china people`s republic' 'italien'\n 'clinton' 'ventura county' 'berguedà' 'basilicata' 'diy' 'ysa'\n 'lawrenceville' 'input error' 'bladen' 'sardegna' 'thailoand' 'rosario'\n 'the world tomorrow' 'perãº' 'usa>' 'in your heart' 'aotearoa'\n 'burkinafasu' 'adsgfdr' 'henry' 'kz' 'singapore\"' 'good old usa'\n 'united stated of america' 'unit' 'rosello' 'granville' 'england uk'\n 'trinidad and tobago\"' 'petrolwar nation' 'guam' 'new london' 'harvatija'\n '23232' 'copenhagen' 'burma\"' 'canda' 'prc' 'phippines' 'jamaica\"'\n 'sardinia' 'u' 'oakland' 'lecce' 'u k' 'moçambique' 'andorra\"' 'ventura'\n 'newzealand' 'europa' 'shelby' 'pr china' 'malaysian' 'usa\"' 'fred'\n 'usa (currently living in england)' 'tonga' 'roma' 'indiai' 'cook'\n 'mordor' 'l`algérie' 'z' 'fontana' 'kiribati' 'australii' 'uae\"' 'libya\"'\n 'uganda\"' 'ukrain' 'onondaga nation' '_ brasil' 'mauritius\"'\n 'united kindgdom' 'hungary and usa' 'queensland' 'cananda' 'pakistan\"'\n 'austbritania' 'united state' 'solano' 'unite states' 'vorce' 'ca'\n 'pender' 'la chine eternelle!' 'vicenza' 'xxxxxx' 'espanha / galiza'\n 'maracopa' 'palestine' 'il canada' 'republic of panama' 'phila' 'guinea'\n 'rsa' 'neverland' 'west yorkshire' 'smith' 'pueblo' 'northern ireland'\n 'pippo' 'türkiye' 'california' 'indonesia\"' 'uyo' 'spotsylvania' 'der'\n 'swaziland' 'livingston' 'scorea' 'hug' 'ussurfing' 'phillipines' 'bosnia'\n 'exactly where i am' 'cadd0' 'euskadi' 'canada eh' 'l' 'le canada' 'korea'\n 'nh' 'yanhill' 'wonderful usa' 'burlington' 'uusa' 'madagascar'\n 'rep san marino' 'swazilandia' 'johnson' 'maine' '30064' 'buncombe'\n 'bucks' 'santa barbara' 'trinidad/tobago' 'houston' 'slovak republik'\n 'fortaleza' 'in' 'pistlavakia' 'bavaria' 'safrica' 'sao tome and principe'\n 'saint kitts and nevis' 'palm beach' 'philippinies' 'north carolina'\n 'los estados unidos de norte america' 'russian federation' 'courtenay'\n 'mauritania' 'lee' 'comoros' 'hidalgo' 'morocco\"' 'xinyu' 'lithuania\"'\n 'orange co' 'texas' 'baden-württemberg' '\\\\n/a\\\\\"\"' 'unknown' 'a'\n 'san mateo' 'davidson' 'saint luica' '85021' 'tobago' 'vatican city'\n 'ohio' 'venezuela\"' 'whatcom' 'nz' 'madrid' 'toscana' 'st clair' 'butler'\n 'allen' 'autralia' 'fairyland' 'we`re global!' 'thing' 'ahrensburg' 'kern'\n 'tanzania\"' 'disgruntled states of america' 'cape may' 'the gambia'\n 'españa\"' 'united sates' '\\\\\"n/a\\\\\"\"' 'tyrtyrt' 'mozambique\"' 'liushi'\n 'bih' 'w malaysia' 'stthomasi' 'fort bend' 'geermany' 'fulton'\n 'le madagascar' 'yakima' 'no more' 'dauphin' 'everywhere and anywhere'\n 'p r china' 'citrus' '01776' 'home of the van!!'\n 'people`s republic of china' 'lane' 'x' 'chinaöð¹ú' 'galiza neghra'\n 'united staes' 'asturies' 'nl' '&#20013;&#22269;' 'germay' 'yunling' 'roc'\n 'victoria' 'bkk' 'la svizzera' 'hernando']\n"
     ]
    }
   ],
   "source": [
    "users['Location'].head(20)"
   ]
  },
  {
   "cell_type": "markdown",
   "metadata": {},
   "source": [
    "As we see above, Location data basically separated by comma, and last separated item is contry.\n",
    "So, first, I modify Location to find contry label."
   ]
  },
  {
   "cell_type": "code",
   "execution_count": 85,
   "metadata": {},
   "outputs": [
    {
     "name": "stdout",
     "output_type": "stream",
     "text": [
      "['usa' 'russia' 'portugal' 'united kingdom' 'canada' 'spain' 'australia'\n 'brazil' '' 'germany' 'mexico' 'china' 'italy' 'distrito federal' 'france'\n 'netherlands' 'iraq' 'finland' 'new zealand' 'india' 'ghana' 'switzerland'\n 'slovenia' 'iran' 'peru' 'bosnia and herzegovina' 'vietnam' 'sri lanka'\n 'pakistan' 'denmark' 'belgium' 'malaysia' 'uae' 'turkey' 'philippines'\n 'greece' 'colombia' 'norway' 'kuwait' 'chile' 'quit' 'lj' 'taiwan'\n 'denmark\"' 'españa' 'sweden' 'argentina' 'nigeria' 'london' 'bulgaria'\n 'austria' 'romania' 'singapore' 'albania' 'egypt' 'tunisia' 'uzbekistan'\n 'qatar' 'syria' 'saudi arabia' 'indonesia' 'sudan' 'somewherein space'\n 'poland' 'thailand' 'ireland' 'malaysia\"' 'venezuela' 'paraguay'\n 'mozambique' 'morocco' 'afghanistan' 'estonia' 'clackamas' 'spain\"' '\"'\n 'lesotho' 'yugoslavia' 'slovakia' 'costa rica' 'basque country'\n 'british virgin islands' 'ethiopia' 'croatia' 'united kingdom\"'\n 'portugal\"' 'israel' 'japan' 'israel\"' 'iceland' 'the' 'south africa'\n 'iran\"' 'cuba' 'antigua and barbuda' 'calabria' 'alderney' 'puerto rico'\n 'hong kong' 'nigeria\"' 'latvia' 'jersey' 'germany\"' 'luxembourg' 'belarus'\n 'cape verde\"' 'lithuania' 'guyana' 'scotland' 'n/a' 'jordan'\n 'la argentina' 'angola' 'algeria' 'andorra' 'kyrgyzstan' 'panama' 'csa'\n 'ecuador' 'phils' 'kazakhstan' 'dominican republic' 'turkey\"' 'brunei'\n 'bangladesh' 'monterrey' 'bahrain' 'united arab emirates' 'urugua'\n 'uruguay' 'l`italia' 'finland\"' 'honduras' 'georgia' 'dominica' 'malta'\n 'india\"' 'faroe islands' 'east africa' 'france\"' 'sierra leone'\n 'guatemala' 'mali' 'czech republic' 'space' 'romania\"' 'south korea'\n 'rwanda' 'trinidad and tobago' 'norway\"' 'yemen' 'cyprus'\n 'the philippines' 'öð¹ú' 'la france' 'eritrea' 'bahamas' 'cameroon'\n 'nicaragua' 'zambia' 'bolivia' 'maroc' 'isreal' 'belize'\n 'fernando de la mora' 'namibia' 'macedonia' 'argentina\"' 'botswana'\n 'queenspark' 'monaco' 'samoa' 'brasil' '19104' 'guernsey' 'euskal herria'\n 'bermuda' 'barbados' 'trinidad' 'england' 'armenia' 'hungary'\n 'deutschland' 'netherlands\"' 'austria\"' 'cayman islands' 'ukraine'\n 'sweden\"' 'new zealand\"' 'minnehaha' 'azerbaijan' 'galiza' 'de'\n 'switzerland\"' 'suriname' 'doodedoo' 'jamaica' 'caribbean sea'\n '&#32654;&#22269;' 'us virgin islands' 'us of a' 'afganstand holla !!'\n 'catalunya' 'kosovo' 'serbia & montenegro' 'somalia' 'moldova'\n 'bangladesh\"' '-------' 'trinidad & tobago' 'tanzania' 'burma' 'uk'\n 'ghana\"' 'turkei' 'ksa' 'tajikistan' 'nepal' 'sri lanka\\\\\"n/a\\\\\"\"'\n 'valtesse' 'lebanon' 'cote d`ivoire' 'maldives' 'catalunya(catalonia)'\n 'mã?â©xico' 'nederlands' 'tdzimi' 'peru\"' 'hong kong\"' 'oman'\n 'saint vincent and the grenadines\"' 'lleida' 'antarctica' 'itlay' 'palau'\n 'belgique' 'st vincent and the grenadines' 'deutsches reich' 'catalonia'\n 'micronesia' 'kenya' 'collin' 'zhengjiang' 'grenada' 'bhutan' 'baxter'\n 'guinea-bissau' 'cote d`ivoire\"' 'evil empire' 'wales' 'mongolia'\n 'hennipen' 'equatorial geuinea' 'italy\"' 'italia' 'rice' 'good old usa !'\n 'philippines\"' 'polska' 'missouri' 'goteborg' 'united states' 'senegal'\n 'bbbzzzzz' 'saint lucia' 'zimbabwe' 'cass' 'baltimore' 'hampden'\n 'thailand\"' 'ust' 'ama lurra' 'polk' 'hamilton' 'fiji' 'bernalillo'\n 'effingham' 'lake' 'catalunya spain' '*' 'windham' 'belgium\"' 'ireland\"'\n 'papua new guinea' 'costa rica\"' 'laos' 'slovakia\"' 'united stated'\n 'the great white north' 'brazil\"' 'saint vincent and the grenadines'\n 'burkina faso' 'philippine' 'auckland' '?ú?{' 'c' 'gabon' 'pasco'\n 'united states of america' 'ferrara' 'morgan' 'milano' 'europe' 'slo'\n 'lkjlj' 'north korea' 'marrion' 'commonwealth of northern mariana islands'\n 'mauritius' 'benin' 'colombia\"' 'cnina' 'holy see' 'haiti' 'cn' 'holland'\n 'jackson' 'cherokee' 'espaã?â±a' 'lazio' 'dekalb' 'la belgique' 'maricopa'\n 'n/a - on the road' 'ua' 'chile\"' 'algérie' 'san marino' 'nrw'\n 'nyhamnsläge' 'egypt\"' 'aruba' 'richmond country' 'srilanka' 'el salvador'\n 'slovenia\"' 'republic of korea' 'luxembourg\"' 'côte d' 'saint loius'\n 'croatia\"' 'greece\"' 'framingham' 'monroe' 'hornyonic' 'ouranos'\n 'san bernardino' 'nyc' 'united kindgonm' 'eeuu' 'here and there' 'malawi'\n 'channel islands' 'espaã±a' 'solomon islands' 'washtenaw' 'libya'\n 'universe' 'az' 'suisse' 'uganda' 'la chine éternelle !' 'iceland\"'\n 'macau' 'frome' 'brunei darussalam' 'netherlands antilles' 'niger'\n 'cape town' 'st helena' 'sultanate of oman' 'aroostook'\n 'fredonia - land of the brave and free' 'china\"' 'chad'\n 'la chine éternelle!' 'fifi' 'djibouti' 'america' 'prince william'\n 'bademn würtemberg' 'marshall islands' 'la suisse' 'gb' 'worcester' 'wood'\n 'rmi' 'hongkong' 'heaven' 'serbia' 'méxico' 'poland\"' 'cape verde' 'congo'\n 'osceola' 'van wert' 'deutschland\"' '87510' 'ä¸\\xadå?½' 'lornsenland'\n 'hungary\"' 'saudia arabia' 'dublin' 'pr' 'none' 'prchina' 'liberia'\n 'usa & canada' 'carter' 'myanmar' 'rapides' 'american samoa' 'essex'\n 'sao tome and principe\"' '-' 'vietnam\"' 'aaa' 'can' 'sicilia' 'sri lanka\"'\n 'english' 'singapore/united kingdom' 'nowhere' 'scotland\"' 'alachua'\n 'macedonia\"' 'china öð¹ú' 'czech republic\"' 'lombardia' 'cambodia'\n 'vanuatu' 'turkmenistan' 'mérida' 'antigua & barbuda' 'hillsborough' 'my'\n 'greece (=hellas)' 'isle of man' 'san franicsco' 'us>' 'usa!' '02458'\n '5057chadwick ct' 'the netherlands' 'south korea\"' 'far away' 'us'\n 'travelling' 'togo' 'belgi' 'pinallas' 'sudan\"' 'guatemala\"' 'id' 'k1c7b1'\n 'orense' 'rutherford' 'pa' 'bell' 'country' 'australia\"'\n 'serbia and montenegro' 'mexico\"' 'camden' 'dfg' 'chian' 'strongbadia'\n 'bfe' 'liaoning' 'united statea' 'china people`s republic' 'italien'\n 'clinton' 'ventura county' 'berguedà' 'basilicata' 'diy' 'ysa'\n 'lawrenceville' 'input error' 'bladen' 'sardegna' 'thailoand' 'rosario'\n 'the world tomorrow' 'perãº' 'usa>' 'in your heart' 'aotearoa'\n 'burkinafasu' 'adsgfdr' 'henry' 'kz' 'singapore\"' 'good old usa'\n 'united stated of america' 'unit' 'rosello' 'granville' 'england uk'\n 'trinidad and tobago\"' 'petrolwar nation' 'guam' 'new london' 'harvatija'\n '23232' 'copenhagen' 'burma\"' 'canda' 'prc' 'phippines' 'jamaica\"'\n 'sardinia' 'u' 'oakland' 'lecce' 'u k' 'moçambique' 'andorra\"' 'ventura'\n 'newzealand' 'europa' 'shelby' 'pr china' 'malaysian' 'usa\"' 'fred'\n 'usa (currently living in england)' 'tonga' 'roma' 'indiai' 'cook'\n 'mordor' 'l`algérie' 'z' 'fontana' 'kiribati' 'australii' 'uae\"' 'libya\"'\n 'uganda\"' 'ukrain' 'onondaga nation' '_ brasil' 'mauritius\"'\n 'united kindgdom' 'hungary and usa' 'queensland' 'cananda' 'pakistan\"'\n 'austbritania' 'united state' 'solano' 'unite states' 'vorce' 'ca'\n 'pender' 'la chine eternelle!' 'vicenza' 'xxxxxx' 'espanha / galiza'\n 'maracopa' 'palestine' 'il canada' 'republic of panama' 'phila' 'guinea'\n 'rsa' 'neverland' 'west yorkshire' 'smith' 'pueblo' 'northern ireland'\n 'pippo' 'türkiye' 'california' 'indonesia\"' 'uyo' 'spotsylvania' 'der'\n 'swaziland' 'livingston' 'scorea' 'hug' 'ussurfing' 'phillipines' 'bosnia'\n 'exactly where i am' 'cadd0' 'euskadi' 'canada eh' 'l' 'le canada' 'korea'\n 'nh' 'yanhill' 'wonderful usa' 'burlington' 'uusa' 'madagascar'\n 'rep san marino' 'swazilandia' 'johnson' 'maine' '30064' 'buncombe'\n 'bucks' 'santa barbara' 'trinidad/tobago' 'houston' 'slovak republik'\n 'fortaleza' 'in' 'pistlavakia' 'bavaria' 'safrica' 'sao tome and principe'\n 'saint kitts and nevis' 'palm beach' 'philippinies' 'north carolina'\n 'los estados unidos de norte america' 'russian federation' 'courtenay'\n 'mauritania' 'lee' 'comoros' 'hidalgo' 'morocco\"' 'xinyu' 'lithuania\"'\n 'orange co' 'texas' 'baden-württemberg' '\\\\n/a\\\\\"\"' 'unknown' 'a'\n 'san mateo' 'davidson' 'saint luica' '85021' 'tobago' 'vatican city'\n 'ohio' 'venezuela\"' 'whatcom' 'nz' 'madrid' 'toscana' 'st clair' 'butler'\n 'allen' 'autralia' 'fairyland' 'we`re global!' 'thing' 'ahrensburg' 'kern'\n 'tanzania\"' 'disgruntled states of america' 'cape may' 'the gambia'\n 'españa\"' 'united sates' '\\\\\"n/a\\\\\"\"' 'tyrtyrt' 'mozambique\"' 'liushi'\n 'bih' 'w malaysia' 'stthomasi' 'fort bend' 'geermany' 'fulton'\n 'le madagascar' 'yakima' 'no more' 'dauphin' 'everywhere and anywhere'\n 'p r china' 'citrus' '01776' 'home of the van!!'\n 'people`s republic of china' 'lane' 'x' 'chinaöð¹ú' 'galiza neghra'\n 'united staes' 'asturies' 'nl' '&#20013;&#22269;' 'germay' 'yunling' 'roc'\n 'victoria' 'bkk' 'la svizzera' 'hernando']\n"
     ]
    }
   ],
   "source": [
    "\n",
    "users['country'] = users['Location'].str.split(',')\n",
    "users['country'] = users['country'].str.get(-1)\n",
    "users['country'] = users['country'].str.lower()\n",
    "users['country'] = users['country'].str.strip()\n",
    "users['country'] = users['country'].str.replace('.', '')\n",
    "\n",
    "print(users.country.unique())\n"
   ]
  },
  {
   "cell_type": "markdown",
   "metadata": {},
   "source": [
    "The result above is unique country label. But, as we see, some label is not country(or sometimes not alphabet).\n",
    "Anyway, I use it."
   ]
  },
  {
   "cell_type": "code",
   "execution_count": 102,
   "metadata": {},
   "outputs": [
    {
     "name": "stdout",
     "output_type": "stream",
     "text": [
      "country\nusa               0.755120\ncanada            0.085344\nunited kingdom    0.038830\nn/a               0.025783\naustralia         0.018307\nspain             0.012389\ngermany           0.010333\nName: userID, dtype: float64\n"
     ]
    }
   ],
   "source": [
    "user_rating = pd.merge(users, ratings, on='userID')\n",
    "user_rating_count_by_country = user_rating.groupby('country').count().sort_values('userID',ascending=False)['userID']\n",
    "all_user = user_rating_count_by_country.sum()\n",
    "user_rating_percentage_by_country = user_rating_count_by_country / all_user\n",
    "print(user_rating_percentage_by_country[user_rating_percentage_by_country >= 0.01])"
   ]
  },
  {
   "cell_type": "code",
   "execution_count": null,
   "metadata": {},
   "outputs": [],
   "source": []
  }
 ],
 "metadata": {
  "kernelspec": {
   "display_name": "Python 3",
   "language": "python",
   "name": "python3"
  },
  "language_info": {
   "codemirror_mode": {
    "name": "ipython",
    "version": 3
   },
   "file_extension": ".py",
   "mimetype": "text/x-python",
   "name": "python",
   "nbconvert_exporter": "python",
   "pygments_lexer": "ipython3",
   "version": "3.6.1"
  }
 },
 "nbformat": 4,
 "nbformat_minor": 2
}
