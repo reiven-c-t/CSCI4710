{
 "cells": [
  {
   "cell_type": "markdown",
   "metadata": {},
   "source": [
    "<font color=\"#483D8B\">\n",
    "<h1  align=\"center\">Matrix and Graph Data Types</h1>\n",
    "<h2  align=\"center\">Lab 4</h2>\n",
    "<h4 align=\"center\">\n",
    "INET4710 Spring 2018<br>\n",
    "Submitted by (your name here)</h4>\n",
    "</font>\n",
    "\n",
    "---------------\n",
    "\n",
    "### Lab Objectives\n",
    "\n",
    "* Write scalable operations using the following data types:\n",
    "    - Vector\n",
    "    - Matrix\n",
    "        - Distributed Matrix\n",
    "    - Graph\n",
    "\n",
    "\n",
    "* Code matrix operations, graph operations, and data type conversions in:\n",
    "    - scipy\n",
    "    - pyspark\n",
    "\n",
    "\n",
    "* Learn a few useful basic machine learning techniques\n",
    "    - Matrix\n",
    "        - SVD (Singular Value Decomposition)\n",
    "        - SGD (Stochastic Gradient Descent)\n",
    "    - Graph\n",
    "        - Find Shortest Distance\n",
    "\n",
    "Instructions: <br>\n",
    "** For this lab, please submit the Jupyter notebook and include answers to the 10 questions. **\n",
    "\n",
    "Notes: <br>\n",
    "- ** scipy.linalg vs numpy.linalg ** <br>\n",
    "from https://docs.scipy.org/doc/scipy/reference/tutorial/linalg <br>\n",
    "scipy.linalg contains all the functions in numpy.linalg. plus some other more advanced ones not contained in numpy.linalg. (For this reason, please use scipy.linalg) \n",
    "\n",
    "\n",
    "- ** matrix subclass of ndarray ** <br>\n",
    "from http://currents.soest.hawaii.edu/ocn_data_analysis/numpy_tutorial.html <br>\n",
    "Numpy includes a matrix subclass of the ndarray base class. Please ignore it. It is not commonly used, it provides only small advantages and only under highly restricted circumstances, and elsewhere it can cause hard-to-diagnose problems. (Please use 2D numpy.ndarray objects instead) \n",
    "\n",
    "\n",
    "- ** scipy documentation ** <br>\n",
    "https://s3.amazonaws.com/assets.datacamp.com/blog_assets/Python_SciPy_Cheat_Sheet_Linear_Algebra.pdf <br>\n",
    "https://docs.scipy.org/doc/scipy/reference/\n"
   ]
  },
  {
   "cell_type": "markdown",
   "metadata": {},
   "source": [
    "-------------------------------------\n",
    "\n",
    "###  scipy matrix\n",
    "\n",
    "- sparse \n",
    "- dense \n",
    "\n",
    "from https://scipy.github.io/old-wiki/pages/SciPyPackages/Sparse.html <br>\n",
    "A sparse matrix is a two-dimensional matrix with a large number of zero values. In contrast, a matrix where many or most entries are non-zero is said to be dense. There are no strict rules for what constitutes a sparse matrix, so we'll say that a matrix is sparse if there is some benefit to exploiting its sparsity. Additionally, there are a variety of sparse matrix formats which are designed to exploit different sparsity patterns (the structure of non-zero values in a sparse matrix) and different methods for accessing and manipulating matrix entries.\n",
    "\n",
    "Sparsity Patterns:\n",
    "- Diagonal\n",
    "- Block\n",
    "- Unstructured\n",
    "- Sensitivity of pattern to ordering, and use of reordering for locality (e.g. direct solvers)\n",
    "\n",
    "Each sparse format has certain advantages and disadvantages. For instance, adding new non-zero entries to a lil_matrix is fast, however changing the sparsity pattern of a csr_matrix requires a significant amount of work. On the other hand, operations such as matrix-vector multiplication and matrix-matrix arithmetic are much faster with csr_matrix than lil_matrix. A good strategy is to construct matrices using one format and then convert them to another that is better suited for efficient computation.\n",
    "\n",
    "The scipy.sparse module provides data structures for 2D sparse matrices. There are seven sparse matrix types:\n",
    "\n",
    "- csc_matrix: Compressed Sparse Column format\n",
    "- csr_matrix: Compressed Sparse Row format\n",
    "- bsr_matrix: Block Sparse Row format\n",
    "- lil_matrix: List of Lists format\n",
    "- dok_matrix: Dictionary of Keys format\n",
    "- coo_matrix: COOrdinate format (aka IJV, triplet format)\n",
    "- dia_matrix: DIAgonal format"
   ]
  },
  {
   "cell_type": "code",
   "execution_count": 24,
   "metadata": {},
   "outputs": [
    {
     "name": "stdout",
     "output_type": "stream",
     "text": [
      "<class 'numpy.ndarray'>\n",
      "<1x10 sparse matrix of type '<class 'numpy.float64'>'\n",
      "\twith 1 stored elements in Compressed Sparse Row format>\n"
     ]
    }
   ],
   "source": [
    "# sparse spark vector\n",
    "# demonstrate sample code to create scipy sparse vectors\n",
    "import numpy as np\n",
    "import scipy.sparse# sparse spark vector\n",
    "\n",
    "# code adapted from https://stackoverflow.com/questions/2540059/scipy-sparse-arrays\n",
    "n = 10\n",
    "# create a 50% sparse vector of random numbers\n",
    "x = (np.random.rand(n) * 2).astype(int).astype(float) \n",
    "print( type(x) )\n",
    "\n",
    "# convert numpy vector to csr vector\n",
    "x_csr = scipy.sparse.csr_matrix(x)\n",
    "# convert numpy vector to dok vector\n",
    "x_dok = scipy.sparse.dok_matrix(x.reshape(x_csr.shape))\n",
    "\n",
    "print ( repr(x_csr) )"
   ]
  },
  {
   "cell_type": "code",
   "execution_count": 25,
   "metadata": {},
   "outputs": [
    {
     "name": "stdout",
     "output_type": "stream",
     "text": [
      "matrix multiplication: numpy\n",
      "0.001689404658065996\n",
      "\n",
      "matrix multiplication: dictionary of keys\n",
      "0.3575640170370207\n",
      "\n",
      "matrix multiplication: compressed sparse row multiply sum\n",
      "0.02179768197112253\n",
      "\n",
      "matrix multiplication: compressed sparse row transpose\n",
      "0.02312713970485447\n"
     ]
    }
   ],
   "source": [
    "# sparse spark vector\n",
    "# performance comparison of sparse data structures\n",
    "import scipy.sparse\n",
    "import numpy as np\n",
    "import timeit\n",
    "\n",
    "# create a 50% sparse vector of random numbers\n",
    "def mm_numpy():\n",
    "    n = 1000\n",
    "    x = (np.random.rand(n) * 2).astype(int).astype(float) \n",
    "    np.dot(x, x)\n",
    "\n",
    "def mm_dict():\n",
    "    n = 1000\n",
    "    x = (np.random.rand(n) * 2).astype(int).astype(float) \n",
    "    x_csr = scipy.sparse.csr_matrix(x)\n",
    "    x_dok = scipy.sparse.dok_matrix(x.reshape(x_csr.shape))\n",
    "    x_dok * x_dok.T\n",
    "\n",
    "def mm_csrmult():\n",
    "    n = 1000\n",
    "    x = (np.random.rand(n) * 2).astype(int).astype(float) \n",
    "    x_csr = scipy.sparse.csr_matrix(x)\n",
    "    x_csr.multiply(x_csr).sum()\n",
    "    \n",
    "def mm_csrdot():\n",
    "    n = 1000\n",
    "    x = (np.random.rand(n) * 2).astype(int).astype(float) \n",
    "    x_csr = scipy.sparse.csr_matrix(x)\n",
    "    x_csr * x_csr.T\n",
    "    \n",
    "print (\"matrix multiplication: numpy\")\n",
    "t = timeit.timeit(\"mm_numpy()\", setup='import numpy as np; from __main__ import mm_numpy', number=50)\n",
    "print ( t )\n",
    "\n",
    "print (\"\\nmatrix multiplication: dictionary of keys\")\n",
    "t = timeit.timeit('mm_dict()', setup='import numpy as np; from __main__ import mm_dict', number=50)\n",
    "print ( t )\n",
    "\n",
    "print (\"\\nmatrix multiplication: compressed sparse row multiply sum\")\n",
    "t = timeit.timeit(\"mm_csrmult()\", setup='import numpy as np; from __main__ import mm_csrmult', number=50)\n",
    "print ( t )\n",
    "\n",
    "print (\"\\nmatrix multiplication: compressed sparse row transpose\")\n",
    "t = timeit.timeit(\"mm_csrdot()\", setup='import numpy as np; from __main__ import mm_csrdot', number=50)\n",
    "print ( t )"
   ]
  },
  {
   "cell_type": "markdown",
   "metadata": {},
   "source": [
    "** Question 1. Modify the sparse vector performance code above to create two-dimensional matrices and to loop through a few iterations of different sized matrices. Plot the result (matrix size or iteration number vs. time). **"
   ]
  },
  {
   "cell_type": "code",
   "execution_count": 26,
   "metadata": {
    "collapsed": true
   },
   "outputs": [],
   "source": [
    "# answer to question 1"
   ]
  },
  {
   "cell_type": "markdown",
   "metadata": {},
   "source": [
    "** Question 2. Convert matrix A to CSR format and solve (A A^T) x = b for x.\n",
    "Output the first 10 elements of x. **"
   ]
  },
  {
   "cell_type": "code",
   "execution_count": 27,
   "metadata": {},
   "outputs": [],
   "source": [
    "# from https://scipy.github.io/old-wiki/pages/Additional_Documentation/New_SciPy_Tutorial.html\n",
    "from scipy import sparse\n",
    "import scipy.sparse.linalg.dsolve as linsolve\n",
    "from numpy import random, linalg\n",
    "\n",
    "# answer to question 2"
   ]
  },
  {
   "cell_type": "markdown",
   "metadata": {},
   "source": [
    "** Question 3. matrix conversion of numpy to/from scipy. \n",
    "Write code in the cell below to do what the comments describe. **"
   ]
  },
  {
   "cell_type": "code",
   "execution_count": 28,
   "metadata": {},
   "outputs": [
    {
     "name": "stdout",
     "output_type": "stream",
     "text": [
      "A - coo matrix format\n",
      "<class 'scipy.sparse.coo.coo_matrix'>\n",
      "  (0, 0)\t1\n",
      "  (0, 2)\t2\n",
      "  (1, 1)\t3\n",
      "  (3, 3)\t4\n",
      "  (1, 1)\t5\n",
      "  (0, 0)\t6\n",
      "  (0, 0)\t7\n",
      "\n",
      "A - csr matrix format\n",
      "\n",
      "A - dense matrix format\n",
      "\n",
      "A - ndarray format\n"
     ]
    }
   ],
   "source": [
    "# matrix conversion of numpy to/from scipy \n",
    "# from https://docs.scipy.org/doc/scipy-0.14.0/reference/generated/scipy.sparse.coo_matrix.tocsr.html\n",
    "from numpy import array\n",
    "from scipy.sparse import coo_matrix\n",
    "\n",
    "# construct a coo matrix\n",
    "row  = array([0,0,1,3,1,0,0])\n",
    "col  = array([0,2,1,3,1,0,0])\n",
    "data = array([1,2,3,4,5,6,7])\n",
    "A = coo_matrix( (data,(row,col)), shape=(4,4))\n",
    "\n",
    "# output python type and contents of A\n",
    "print (\"A - coo matrix format\")\n",
    "print (type(A))\n",
    "print (A)\n",
    "\n",
    "# question 3 - write code to answer the following:\n",
    "\n",
    "# 1. write code to convert A from coo to csr\n",
    "\n",
    "# output python type and contents of A in sorted order\n",
    "# note: CSR column indices are not necessarily sorted\n",
    "print (\"\\nA - csr matrix format\")\n",
    "\n",
    "# 2. write code to convert A from csr to dense\n",
    "\n",
    "# output python type and contents of A\n",
    "print (\"\\nA - dense matrix format\")\n",
    "  \n",
    "# 3. write code to convert dense matrix to ndarray\n",
    "# see https://stackoverflow.com/questions/5183533/how-to-make-list-from-numpy-matrix-in-python\n",
    "print (\"\\nA - ndarray format\")\n",
    "\n",
    "# output python type and contents of A\n"
   ]
  },
  {
   "cell_type": "markdown",
   "metadata": {},
   "source": [
    "-------------------------------------\n",
    "\n",
    "###  pyspark local vector and local matrix\n",
    "\n",
    "- sparse vector\n",
    "- dense vector\n",
    "- sparse matrix \n",
    "- dense matrix (use with caution - watch big data sizes and performance)\n",
    "\n",
    "<br>\n",
    "** Local Vector: ** <br>\n",
    "Generally use the following local vector data types in pyspark 2:\n",
    "- Dense vectors (local):\n",
    "    - numpy ndarray, scipy 1D matrix, python list\n",
    "    - pyspark ml DenseVector\n",
    "- Sparse vectors (local):\n",
    "    - scipy 1D sparse matrix\n",
    "    - pyspark ml SparseVector\n",
    "\n",
    "\n",
    "Both dense vector and sparse vector are homogeneous and can only have numeric data\n",
    "\n",
    "pyspark ml machine learning models also use distributed vectors (and matrices). The distributed structures are introduced later in this lab. Distributed matrices are accessed through the pyspark DataFrame data type, built on top of RDDs.\n",
    "\n",
    "\n",
    "adapted from https://apache.googlesource.com/spark/+/branch-1.1/docs/mllib-data-types.md <br>\n",
    "A pyspark local vector has integer-typed and 0-based indices and double-typed values, stored on a single machine. The ml module supports two types of local vectors: dense and sparse. A dense vector is backed by a double array representing its entry values, while a sparse vector is backed by two parallel arrays: indices and values. \n",
    "\n",
    "For example, a vector (1.0, 0.0, 3.0) can be represented in dense format as [1.0, 0.0, 3.0] or in sparse format as (3, [0, 2], [1.0, 3.0]), where 3 is the size of the vector.\n",
    "\n",
    "The base class of local vectors is Vector, and we provide two implementations: DenseVector and SparseVector. We recommend using the factory methods implemented in Vectors to create local vectors.\n",
    "\n",
    "DenseVector behaves similarly to a numpy.ndarray or python list, and generally these structures can be used interchangably in pyspark\n",
    "\n",
    "<br>\n",
    "** Local Matrix ** <br>\n",
    "A local matrix has integer-typed row and column indices and double-typed values, stored on a single machine. pyspark ml module supports dense matrices, in which element values are stored in a single double array in column major.\n",
    "\n",
    "-------------------------------------\n",
    "\n",
    "###  pyspark data frame\n",
    "\n",
    "from https://www.analyticsvidhya.com/blog/2016/10/spark-dataframe-and-operations/ <br>\n",
    "A DataFrame is a distributed collection of rows under named columns. <br>\n",
    "In simple terms, it is similar to a table in relational database or an Excel sheet with Column headers. <br>\n",
    "It also shares some common characteristics with RDD:\n",
    "\n",
    "- Immutable in nature : \n",
    "    - We can create DataFrame / RDD once but can’t change it.\n",
    "    - And we can transform a DataFrame / RDD  after applying transformations.\n",
    "- Lazy Evaluations: Which means that a task is not executed until an action is performed.\n",
    "- Distributed: RDD and DataFrame both are distributed in nature."
   ]
  },
  {
   "cell_type": "code",
   "execution_count": 30,
   "metadata": {},
   "outputs": [
    {
     "data": {
      "text/html": [
       "<div>\n",
       "<style>\n",
       "    .dataframe thead tr:only-child th {\n",
       "        text-align: right;\n",
       "    }\n",
       "\n",
       "    .dataframe thead th {\n",
       "        text-align: left;\n",
       "    }\n",
       "\n",
       "    .dataframe tbody tr th {\n",
       "        vertical-align: top;\n",
       "    }\n",
       "</style>\n",
       "<table border=\"1\" class=\"dataframe\">\n",
       "  <thead>\n",
       "    <tr style=\"text-align: right;\">\n",
       "      <th></th>\n",
       "      <th>0</th>\n",
       "      <th>1</th>\n",
       "      <th>2</th>\n",
       "      <th>3</th>\n",
       "      <th>4</th>\n",
       "    </tr>\n",
       "  </thead>\n",
       "  <tbody>\n",
       "    <tr>\n",
       "      <th>0</th>\n",
       "      <td>NaN</td>\n",
       "      <td>NaN</td>\n",
       "      <td>NaN</td>\n",
       "      <td>NaN</td>\n",
       "      <td>NaN</td>\n",
       "    </tr>\n",
       "    <tr>\n",
       "      <th>1</th>\n",
       "      <td>0.99446</td>\n",
       "      <td>NaN</td>\n",
       "      <td>0.922557</td>\n",
       "      <td>NaN</td>\n",
       "      <td>NaN</td>\n",
       "    </tr>\n",
       "    <tr>\n",
       "      <th>2</th>\n",
       "      <td>NaN</td>\n",
       "      <td>NaN</td>\n",
       "      <td>NaN</td>\n",
       "      <td>NaN</td>\n",
       "      <td>NaN</td>\n",
       "    </tr>\n",
       "    <tr>\n",
       "      <th>3</th>\n",
       "      <td>NaN</td>\n",
       "      <td>0.967342</td>\n",
       "      <td>NaN</td>\n",
       "      <td>NaN</td>\n",
       "      <td>NaN</td>\n",
       "    </tr>\n",
       "    <tr>\n",
       "      <th>4</th>\n",
       "      <td>NaN</td>\n",
       "      <td>NaN</td>\n",
       "      <td>NaN</td>\n",
       "      <td>NaN</td>\n",
       "      <td>NaN</td>\n",
       "    </tr>\n",
       "  </tbody>\n",
       "</table>\n",
       "</div>"
      ],
      "text/plain": [
       "         0         1         2   3   4\n",
       "0      NaN       NaN       NaN NaN NaN\n",
       "1  0.99446       NaN  0.922557 NaN NaN\n",
       "2      NaN       NaN       NaN NaN NaN\n",
       "3      NaN  0.967342       NaN NaN NaN\n",
       "4      NaN       NaN       NaN NaN NaN"
      ]
     },
     "execution_count": 30,
     "metadata": {},
     "output_type": "execute_result"
    }
   ],
   "source": [
    "# scipy sparse csr matrix -> pandas sparse data frame\n",
    "# demonstrate example code\n",
    "import numpy as np\n",
    "import pandas as pd\n",
    "from scipy.sparse import csr_matrix\n",
    "\n",
    "arr = np.random.random(size=(1000, 5))\n",
    "arr[arr < .9] = 0\n",
    "sp_arr = csr_matrix(arr)\n",
    "sdf = pd.SparseDataFrame(sp_arr)\n",
    "sdf.head(5)"
   ]
  },
  {
   "cell_type": "code",
   "execution_count": 31,
   "metadata": {},
   "outputs": [
    {
     "name": "stdout",
     "output_type": "stream",
     "text": [
      "DataFrame[0: double, 1: double, 2: double, 3: double, 4: double]\n",
      "+------------------+------------------+------------------+---+---+\n",
      "|                 0|                 1|                 2|  3|  4|\n",
      "+------------------+------------------+------------------+---+---+\n",
      "|               NaN|               NaN|               NaN|NaN|NaN|\n",
      "|0.9944599232204104|               NaN|0.9225570284627653|NaN|NaN|\n",
      "|               NaN|               NaN|               NaN|NaN|NaN|\n",
      "|               NaN|0.9673418999931037|               NaN|NaN|NaN|\n",
      "|               NaN|               NaN|               NaN|NaN|NaN|\n",
      "+------------------+------------------+------------------+---+---+\n",
      "only showing top 5 rows\n",
      "\n"
     ]
    }
   ],
   "source": [
    "# pandas sparse data frame -> pyspark data frame\n",
    "from pyspark.sql import SQLContext\n",
    "\n",
    "sqlContext = SQLContext(sc)\n",
    "spark_df = sqlContext.createDataFrame(sdf)\n",
    "\n",
    "# output data types in pyspark data frame\n",
    "print( spark_df )\n",
    "spark_df.show(5)"
   ]
  },
  {
   "cell_type": "markdown",
   "metadata": {},
   "source": [
    "** Question 4. Starting with the ndarray below: **\n",
    "1. ** Convert from the numpy ndarray to a pandas data frame **\n",
    "2. ** Label the columns in the pandas data frame \"random_sample1\" and \"random_sample2\" **\n",
    "3. ** Print the pyspark data frame schema **\n",
    "4. ** Output the first 10 lines in the pyspark data frame **"
   ]
  },
  {
   "cell_type": "code",
   "execution_count": 32,
   "metadata": {
    "scrolled": true
   },
   "outputs": [],
   "source": [
    "# lab exercise: convert numpy array to pyspark data frame \n",
    "import pandas as pd\n",
    "import numpy as np\n",
    "\n",
    "nparr = np.random.random(size=(1000, 2))\n",
    "nparr[nparr < .9] = 0\n",
    "\n",
    "# convert the numpy ndarray to a pandas data frame\n",
    "\n",
    "# label the feature (i.e., assign a name to the column) in the pandas data frame\n",
    "\n",
    "# convert the pandas data frame to a pyspark data frame\n",
    "\n",
    "# print the pyspark data frame schema\n",
    "\n",
    "# output the first 10 rows in the pyspark data frame\n"
   ]
  },
  {
   "cell_type": "code",
   "execution_count": 33,
   "metadata": {},
   "outputs": [
    {
     "name": "stdout",
     "output_type": "stream",
     "text": [
      "<class 'numpy.ndarray'>\n"
     ]
    }
   ],
   "source": [
    "# pyspark sparse vector -> numpy dense vector\n",
    "from pyspark.ml.linalg import Vectors\n",
    "sparseVector = Vectors.sparse(10, [1, 3], [3.0, 4.5])\n",
    "denseVector = sparseVector.toArray()\n",
    "print ( type(denseVector))\n",
    "\n",
    "# Why didn't we convert from a pyspark sparse vector -> spark dense vector\n",
    "# https://forums.databricks.com/questions/8895/converting-dataframe-sparse-vector-column-to-dense.html"
   ]
  },
  {
   "cell_type": "code",
   "execution_count": 34,
   "metadata": {},
   "outputs": [
    {
     "name": "stdout",
     "output_type": "stream",
     "text": [
      "Pearson correlation matrix:\n",
      "DenseMatrix([[ 1.        ,  0.05564149,         nan,  0.40047142],\n",
      "             [ 0.05564149,  1.        ,         nan,  0.91359586],\n",
      "             [        nan,         nan,  1.        ,         nan],\n",
      "             [ 0.40047142,  0.91359586,         nan,  1.        ]])\n",
      " \n",
      "Spearman correlation matrix:\n",
      "DenseMatrix([[ 1.        ,  0.10540926,         nan,  0.4       ],\n",
      "             [ 0.10540926,  1.        ,         nan,  0.9486833 ],\n",
      "             [        nan,         nan,  1.        ,         nan],\n",
      "             [ 0.4       ,  0.9486833 ,         nan,  1.        ]])\n"
     ]
    }
   ],
   "source": [
    "# example pyspark data frame contructed from sparse and dense vectors\n",
    "# https://spark.apache.org/docs/2.2.0/ml-statistics.html\n",
    "from pyspark.ml.linalg import Vectors\n",
    "from pyspark.ml.stat import Correlation\n",
    "\n",
    "data = [(Vectors.sparse(4, [(0, 1.0), (3, -2.0)]),),\n",
    "        (Vectors.dense([4.0, 5.0, 0.0, 3.0]),),\n",
    "        (Vectors.dense([6.0, 7.0, 0.0, 8.0]),),\n",
    "        (Vectors.sparse(4, [(0, 9.0), (3, 1.0)]),)]\n",
    "df = spark.createDataFrame(data, [\"features\"])\n",
    "\n",
    "r1 = Correlation.corr(df, \"features\").head()\n",
    "print(\"Pearson correlation matrix:\\n\" + str(r1[0]))\n",
    "\n",
    "print(\" \")\n",
    "r2 = Correlation.corr(df, \"features\", \"spearman\").head()\n",
    "print(\"Spearman correlation matrix:\\n\" + str(r2[0]))"
   ]
  },
  {
   "cell_type": "markdown",
   "metadata": {},
   "source": [
    "-------------------------------------\n",
    "\n",
    "###  pyspark distributed matrix operations\n",
    "\n",
    "In Spark 2.0 you have to use correct local types:\n",
    "-\tpyspark.ml.linalg when working DataFrame based pyspark.ml API.\n",
    "-\tpyspark.mllib.linalg when working RDD based pyspark.mllib API.\n",
    "These two namespaces are no longer compatible and require explicit conversions\n",
    "\n",
    "<br>\n",
    "An aside: <br>\n",
    "https://home.apache.org/~pwendell/spark-nightly/spark-branch-2.0-docs/latest/ml-guide.html <br>\n",
    "The MLlib RDD-based API is now in maintenance mode.\n",
    "\n",
    "As of Spark 2.0, the RDD-based APIs in the spark.mllib package have entered maintenance mode. The primary Machine Learning API for Spark is now the DataFrame-based API in the spark.ml package.\n"
   ]
  },
  {
   "cell_type": "code",
   "execution_count": 35,
   "metadata": {
    "scrolled": true
   },
   "outputs": [
    {
     "name": "stdout",
     "output_type": "stream",
     "text": [
      "<class 'scipy.sparse.csc.csc_matrix'>\n",
      "[[1 0 4]\n",
      " [0 0 5]\n",
      " [2 3 6]]\n",
      "<class 'numpy.ndarray'>\n",
      "<class 'pyspark.rdd.RDD'>\n",
      "[1 0 4]\n",
      "[0 0 5]\n",
      "[2 3 6]\n",
      "For large RDD data sizes, better to output a sample number of rows from RDD\n",
      "[1 0 4]\n",
      "[0 0 5]\n"
     ]
    }
   ],
   "source": [
    "#  scipy sparse matrix to pyspark RDD\n",
    "# https://stackoverflow.com/questions/40645498/create-sparse-rdd-from-scipy-sparse-matrix/40648106#40648106\n",
    "import numpy as np\n",
    "import scipy.sparse as sps\n",
    "\n",
    "# create a sparse matrix\n",
    "row = np.array([0, 2, 2, 0, 1, 2])\n",
    "col = np.array([0, 0, 1, 2, 2, 2])\n",
    "data = np.array([1, 2, 3, 4, 5, 6]) \n",
    "sv = sps.csc_matrix((data, (row, col)), shape=(3, 3))\n",
    "print ( type(sv) )\n",
    "nparray = sv.toarray()\n",
    "print (nparray)\n",
    "\n",
    "print ( type(nparray) )\n",
    "\n",
    "#read sv as RDD\n",
    "sv_rdd = sc.parallelize(sv.toarray())  #convert scipy csc matrix to RDD\n",
    "\n",
    "print( type(sv_rdd) )\n",
    "for x in sv_rdd.collect():\n",
    "    print (x)\n",
    "print (\"For large RDD data sizes, better to output a sample number of rows from RDD\")\n",
    "for x in sv_rdd.take(2):\n",
    "    print (x)"
   ]
  },
  {
   "cell_type": "markdown",
   "metadata": {},
   "source": [
    "** Question 5. Why was it necessary to execute collect() before printing each array element? ** \n"
   ]
  },
  {
   "cell_type": "code",
   "execution_count": 36,
   "metadata": {},
   "outputs": [
    {
     "name": "stdout",
     "output_type": "stream",
     "text": [
      "<class 'list'>\n",
      "[((0, 0), DenseMatrix(3, 3, [17.0, 22.0, 27.0, 22.0, 29.0, 36.0, 27.0, 36.0, 45.0], 0)), ((1, 0), DenseMatrix(3, 3, [47.0, 52.0, 57.0, 64.0, 71.0, 78.0, 81.0, 90.0, 99.0], 0)), ((0, 1), DenseMatrix(3, 3, [47.0, 64.0, 81.0, 52.0, 71.0, 90.0, 57.0, 78.0, 99.0], 0)), ((1, 1), DenseMatrix(3, 3, [149.0, 166.0, 183.0, 166.0, 185.0, 204.0, 183.0, 204.0, 225.0], 0))]\n"
     ]
    }
   ],
   "source": [
    "# pyspark multiplication using RDD BlockMatrix \n",
    "from pyspark.mllib.linalg import Matrices\n",
    "from pyspark.mllib.linalg.distributed import BlockMatrix\n",
    "\n",
    "# Create an RDD of sub-matrix blocks.\n",
    "blocks = sc.parallelize([((0, 0), Matrices.dense(3, 2, [1, 2, 3, 4, 5, 6])), \n",
    "                         ((1, 0), Matrices.dense(3, 2, [7, 8, 9, 10, 11, 12]))])\n",
    "\n",
    "# Create a BlockMatrix from an RDD of sub-matrix blocks.\n",
    "matA = BlockMatrix(blocks, 3, 2)\n",
    "matB = BlockMatrix(blocks, 3, 2).transpose()\n",
    "\n",
    "# colsPerBlock of this matrix must equal the rowsPerBlock of other\n",
    "amultb = matA.multiply(matB)\n",
    "adotb = amultb.blocks.collect()\n",
    "print( type(adotb) )\n",
    "print( adotb )\n",
    "\n",
    "# note: an improvement over this method is given in:\n",
    "# https://labs.yodas.com/large-scale-matrix-multiplication-with-pyspark-or-how-to-match-two-large-datasets-of-company-1be4b1b2871e\n",
    "# which is much more involved than the BlockMatrix matrix multiplication"
   ]
  },
  {
   "cell_type": "markdown",
   "metadata": {},
   "source": [
    "** Question 6. Write code in the cell below to execute a pyspark BlockMatrix transpose operation **"
   ]
  },
  {
   "cell_type": "code",
   "execution_count": 37,
   "metadata": {},
   "outputs": [],
   "source": [
    "from pyspark.mllib.linalg import Matrices\n",
    "from pyspark.mllib.linalg.distributed import BlockMatrix\n",
    "\n",
    "# Create an RDD of sub-matrix blocks.\n",
    "blocks = sc.parallelize([((0, 0), Matrices.dense(3, 2, [1, 2, 3, 4, 5, 6])), \n",
    "                         ((1, 0), Matrices.dense(3, 2, [7, 8, 9, 10, 11, 12]))])\n",
    "\n",
    "# Create a BlockMatrix from an RDD of sub-matrix blocks.\n",
    "matA = BlockMatrix(blocks, 3, 2)\n",
    "\n",
    "# write code to transpose matA\n",
    "\n",
    "# output transposed matrix elements"
   ]
  },
  {
   "cell_type": "markdown",
   "metadata": {},
   "source": [
    "** Question 7. Write code in the cell below to execute a pyspark SVD operation and output the U, s, and V results. **"
   ]
  },
  {
   "cell_type": "code",
   "execution_count": 38,
   "metadata": {},
   "outputs": [],
   "source": [
    "# SVD (Singular Value Decomposition)\n",
    "# from https://spark.apache.org/docs/2.2.0/mllib-dimensionality-reduction.html\n"
   ]
  },
  {
   "cell_type": "markdown",
   "metadata": {},
   "source": [
    "** Question 8. Complete the pyspark sql code below. **"
   ]
  },
  {
   "cell_type": "code",
   "execution_count": 39,
   "metadata": {
    "scrolled": true
   },
   "outputs": [
    {
     "name": "stdout",
     "output_type": "stream",
     "text": [
      "department1\n",
      "Row(id='123456', name='Computer Science')\n",
      "employee2\n",
      "Row(firstName='xiangrui', lastName='meng', email='no-reply@stanford.edu', salary=120000)\n",
      "email\n",
      "no-reply@berkeley.edu\n",
      "df1\n"
     ]
    },
    {
     "data": {
      "text/plain": [
       "DataFrame[department: struct<id:string,name:string>, employees: array<struct<firstName:string,lastName:string,email:string,salary:bigint>>]"
      ]
     },
     "metadata": {},
     "output_type": "display_data"
    },
    {
     "name": "stdout",
     "output_type": "stream",
     "text": [
      "df2\n"
     ]
    },
    {
     "data": {
      "text/plain": [
       "DataFrame[department: struct<id:string,name:string>, employees: array<struct<firstName:string,lastName:string,email:string,salary:bigint>>]"
      ]
     },
     "metadata": {},
     "output_type": "display_data"
    },
    {
     "name": "stdout",
     "output_type": "stream",
     "text": [
      "first\n",
      "union\n",
      "department column\n",
      "orderBy\n",
      "first name\n"
     ]
    }
   ],
   "source": [
    "# pyspark sql\n",
    "# from https://docs.databricks.com/spark/latest/dataframes-datasets/introduction-to-dataframes-python.html\n",
    "from pyspark.sql import *\n",
    "\n",
    "# Create Example Data - Departments and Employees\n",
    "\n",
    "# Create the Departments\n",
    "department1 = Row(id='123456', name='Computer Science')\n",
    "department2 = Row(id='789012', name='Mechanical Engineering')\n",
    "department3 = Row(id='345678', name='Theater and Drama')\n",
    "department4 = Row(id='901234', name='Indoor Recreation')\n",
    "\n",
    "# Create the Employees\n",
    "Employee = Row(\"firstName\", \"lastName\", \"email\", \"salary\")\n",
    "employee1 = Employee('michael', 'armbrust', 'no-reply@berkeley.edu', 100000)\n",
    "employee2 = Employee('xiangrui', 'meng', 'no-reply@stanford.edu', 120000)\n",
    "employee3 = Employee('matei', None, 'no-reply@waterloo.edu', 140000)\n",
    "employee4 = Employee(None, 'wendell', 'no-reply@berkeley.edu', 160000)\n",
    "\n",
    "# Create the DepartmentWithEmployees instances from Departments and Employees\n",
    "departmentWithEmployees1 = Row(department=department1, employees=[employee1, employee2])\n",
    "departmentWithEmployees2 = Row(department=department2, employees=[employee3, employee4])\n",
    "departmentWithEmployees3 = Row(department=department3, employees=[employee1, employee4])\n",
    "departmentWithEmployees4 = Row(department=department4, employees=[employee2, employee3])\n",
    "\n",
    "print(\"department1\")\n",
    "print (department1)\n",
    "print(\"employee2\")\n",
    "print (employee2)\n",
    "print(\"email\")\n",
    "print (departmentWithEmployees1.employees[0].email)\n",
    "\n",
    "departmentsWithEmployeesSeq1 = [departmentWithEmployees1, departmentWithEmployees2]\n",
    "df1 = sqlContext.createDataFrame(departmentsWithEmployeesSeq1)\n",
    "print(\"df1\")\n",
    "display(df1)\n",
    "\n",
    "departmentsWithEmployeesSeq2 = [departmentWithEmployees3, departmentWithEmployees4]\n",
    "df2 = sqlContext.createDataFrame(departmentsWithEmployeesSeq2)\n",
    "print(\"df2\")\n",
    "display(df2)\n",
    "\n",
    "# 1. write code to output the first row of df1\n",
    "print(\"first\")\n",
    "\n",
    "# 2. write code to calculate the union of df1 and df2\n",
    "print(\"union\")\n",
    "\n",
    "# 3. write code to select the department column from df1\n",
    "print(\"department column\")\n",
    "\n",
    "# 4. write code to output df1 sorted by department name (in ascending order)\n",
    "print(\"orderBy\")\n",
    "\n",
    "# 5. write code to select employees.firstName\n",
    "print(\"first name\")\n"
   ]
  },
  {
   "cell_type": "markdown",
   "metadata": {},
   "source": [
    "--------------------------\n",
    "\n",
    "### graph\n",
    "\n",
    "Calculate single source shortest distances in O(V+E) time for DAGs using Topological Sorting.\n",
    "\n",
    "Initialize distances to all vertices as infinite and distance to source as 0, then find a topological sorting of the graph. Topological Sorting of a graph represents a linear ordering of the graph. Once a topological order is established, process each vertex in topological order. For every vertex processed, update distances of its adjacent using distance of current vertex.\n",
    "\n",
    "How is the graph represented in the shortest path program?\n",
    "\n",
    "The graph is represented using an adjacency list. Each node of adjacency list contains vertex number of the vertex to which edge connects. It also contains weight of the edge\n"
   ]
  },
  {
   "cell_type": "code",
   "execution_count": 40,
   "metadata": {
    "collapsed": true
   },
   "outputs": [],
   "source": [
    "# graph - find shortest distance\n",
    "from collections import defaultdict\n",
    "\n",
    "\n",
    "class Graph:\n",
    "    def __init__(self,vertices):\n",
    "        self.V = vertices\n",
    "        self.graph = defaultdict(list)\n",
    "        \n",
    "    def addEdge(self,u,v,w):\n",
    "        self.graph[u].append((v,w))\n",
    " \n",
    "    def topologicalSortUtil(self,v,visited,stack):\n",
    "        visited[v] = True\n",
    " \n",
    "        if v in self.graph.keys():\n",
    "            for node,weight in self.graph[v]:\n",
    "                if visited[node] == False:\n",
    "                    self.topologicalSortUtil(node,visited,stack)\n",
    " \n",
    "        stack.append(v)\n",
    " \n",
    "    def shortestPath(self, s): \n",
    "        visited = [False]*self.V\n",
    "        stack =[]\n",
    "\n",
    "        for i in range(self.V):\n",
    "            if visited[i] == False:\n",
    "                self.topologicalSortUtil(s,visited,stack)\n",
    "        \n",
    "        dist = [float(\"Inf\")] * (self.V)\n",
    "        dist[s] = 0\n",
    " \n",
    "        while stack:\n",
    "            i = stack.pop()\n",
    "            for node,weight in self.graph[i]:\n",
    "                if dist[node] > dist[i] + weight:\n",
    "                    dist[node] = dist[i] + weight\n",
    "        \n",
    "        for i in range(self.V):\n",
    "            if dist[i] == float(\"Inf\"):\n",
    "                print(str(i) + \" : Inf\")\n",
    "            else:\n",
    "                print(str(i) + \" : \" + str(dist[i]))\n",
    "\n",
    "g = Graph(6)\n",
    "g.addEdge(0, 1, 5)\n",
    "g.addEdge(0, 2, 3)\n",
    "g.addEdge(1, 3, 6)\n",
    "g.addEdge(1, 2, 2)\n",
    "g.addEdge(2, 4, 4)\n",
    "g.addEdge(2, 5, 2)\n",
    "g.addEdge(2, 3, 7)\n",
    "g.addEdge(3, 4, -1)\n",
    "g.addEdge(4, 5, -2)\n",
    " \n"
   ]
  },
  {
   "cell_type": "markdown",
   "metadata": {},
   "source": [
    "** Question 9. Write code (using the python class above) to find the shortest path distances from vertex 1 to other nodes;  output each node and distance. **"
   ]
  },
  {
   "cell_type": "markdown",
   "metadata": {},
   "source": [
    "--------\n",
    "\n",
    "ONLY FOR YOUR INTEREST. NO NEED TO DO ANYTHING FOR THE LAB HERE. ** WARNING: ADVANCED EXAMPLE ** <br>\n",
    "If you are interested in seeing an application of the concepts in this lab, take a look at: <br>\n",
    "https://blogs.msdn.microsoft.com/data_insights_global_practice/2017/02/16/scaling-up-scikit-learns-random-projection-using-apache-spark/"
   ]
  }
 ],
 "metadata": {
  "kernelspec": {
   "display_name": "Python 3",
   "language": "python",
   "name": "python3"
  },
  "language_info": {
   "codemirror_mode": {
    "name": "ipython",
    "version": 3
   },
   "file_extension": ".py",
   "mimetype": "text/x-python",
   "name": "python",
   "nbconvert_exporter": "python",
   "pygments_lexer": "ipython3",
   "version": "3.6.3"
  }
 },
 "nbformat": 4,
 "nbformat_minor": 2
}
