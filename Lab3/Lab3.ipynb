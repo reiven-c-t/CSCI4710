{
 "cells": [
  {
   "cell_type": "markdown",
   "metadata": {},
   "source": [
    "# INET4710 Lab3 Homework\n",
    "\n",
    "\n",
    "\n",
    "(often use print function due to my preference)"
   ]
  },
  {
   "cell_type": "markdown",
   "metadata": {},
   "source": [
    "## Question 1\n",
    "\n",
    "Write a lambda function to add two numbers together"
   ]
  },
  {
   "cell_type": "code",
   "execution_count": 21,
   "metadata": {
    "collapsed": true
   },
   "outputs": [],
   "source": [
    "# Question1 Write a lambda function to add two numbers together\n",
    "add_lambda = lambda x, y: x + y\n",
    "# Question \n",
    "\n",
    "add_test = add_lambda(1, 2)"
   ]
  },
  {
   "cell_type": "markdown",
   "metadata": {},
   "source": [
    "## Question 3\n",
    "\n",
    "Write code to use a regular expression to substitute the word \"pig\" to \"piiig\"."
   ]
  },
  {
   "cell_type": "code",
   "execution_count": 22,
   "metadata": {},
   "outputs": [
    {
     "name": "stdout",
     "output_type": "stream",
     "text": [
      "Joke: what do you call a piiig with three eyes? piiig!\n"
     ]
    }
   ],
   "source": [
    "# Question 3(regex)\n",
    "import re\n",
    "\n",
    "test = \"Joke: what do you call a pig with three eyes? piiig!\"\n",
    "test_re = re.sub(r'pig', r'piiig', test)\n",
    "print(test_re)"
   ]
  },
  {
   "cell_type": "markdown",
   "metadata": {},
   "source": [
    "## Question 4\n",
    "\n",
    "Create a 3 x 3 identity matrix."
   ]
  },
  {
   "cell_type": "code",
   "execution_count": 4,
   "metadata": {},
   "outputs": [
    {
     "name": "stdout",
     "output_type": "stream",
     "text": [
      "[[ 1.  0.  0.]\n [ 0.  1.  0.]\n [ 0.  0.  1.]]\n"
     ]
    }
   ],
   "source": [
    "# Question 4\n",
    "import numpy as np\n",
    "\n",
    "print(np.eye(3, 3))\n"
   ]
  },
  {
   "cell_type": "markdown",
   "metadata": {},
   "source": [
    "## Question 5. Write code \n",
    "### Question 5-1\n",
    "\n",
    "multiply the a matrix by 2 and then\n",
    "\n",
    "### Question 5-2\n",
    "\n",
    "add matrix a and matrix b together.\n",
    "Output the result of each operation."
   ]
  },
  {
   "cell_type": "code",
   "execution_count": 5,
   "metadata": {},
   "outputs": [
    {
     "name": "stdout",
     "output_type": "stream",
     "text": [
      "[[ 2.417022    2.72032449  2.00011437]\n [ 2.30233257  2.14675589  2.09233859]]\n"
     ]
    }
   ],
   "source": [
    "# Question 5\n",
    "a = np.ones((2, 3), dtype=int)\n",
    "np.random.seed(1)  # set seed to always generate same answer\n",
    "b = np.random.random((2, 3))\n",
    "print(a * 2 + b)"
   ]
  },
  {
   "cell_type": "markdown",
   "metadata": {},
   "source": [
    "## Question 6\n",
    "\n",
    "Write code\n",
    "\n",
    "### Question 6-1\n",
    "\n",
    "create a 3 by 4 matrix and initialize with random numbers between 0 and 1 \n",
    "\n",
    "### Question 6-2\n",
    "\n",
    "Calculate the mean of all the matrix elements."
   ]
  },
  {
   "cell_type": "code",
   "execution_count": 6,
   "metadata": {},
   "outputs": [
    {
     "name": "stdout",
     "output_type": "stream",
     "text": [
      "0.354225591053\n"
     ]
    }
   ],
   "source": [
    "# Question 6\n",
    "np.random.seed(1)  # set seed to always generate same answer\n",
    "q6 = np.random.rand(3, 4)  # omit init array procedure, cuz rand() could do it at the same time\n",
    "print(np.mean(q6))"
   ]
  },
  {
   "cell_type": "markdown",
   "metadata": {},
   "source": [
    "## Question 7\n",
    "\n",
    "### Question 7-1\n",
    "\n",
    "Sum each column\n",
    "\n",
    "### Question 7-2\n",
    "\n",
    "Find the minimum of each row\n",
    "\n",
    "### Question 7-3\n",
    "\n",
    "Calculate the cumulative sum along each row\n",
    "\n",
    "### Question 7-4\n",
    "\n",
    "Read the 3rd column of the 2nd row\n",
    "\n",
    "### Question 7-5\n",
    "\n",
    "Read the last row"
   ]
  },
  {
   "cell_type": "code",
   "execution_count": 7,
   "metadata": {},
   "outputs": [
    {
     "name": "stdout",
     "output_type": "stream",
     "text": [
      "[[ 0  1  2  3]\n [ 4  5  6  7]\n [ 8  9 10 11]]\n[12 15 18 21]\n[0 4 8]\n[[ 0  1  3  6]\n [ 4  9 15 22]\n [ 8 17 27 38]]\n9\n[ 8  9 10 11]\n"
     ]
    }
   ],
   "source": [
    "# Question 7\n",
    "a = np.arange(12).reshape(3, 4)\n",
    "print(a)\n",
    "# Q 7-1\n",
    "print(np.sum(a, axis=0))\n",
    "# Q 7-2\n",
    "print(np.min(a, axis=1))\n",
    "# Q 7-3\n",
    "print(np.cumsum(a, axis=1))\n",
    "# Q 7_4\n",
    "print(a[2, 1])\n",
    "# Q 7_5\n",
    "print(a[-1, :])"
   ]
  },
  {
   "cell_type": "markdown",
   "metadata": {},
   "source": [
    "## Question 8\n",
    "\n",
    "### Question 8-1\n",
    "create a boolean index that is true if a < 5. Then use the boolean matrix to\n",
    "\n",
    "### Question 8-2\n",
    "\n",
    "select elements in matrix a that are less than five.\n",
    "### Question 8-3\n",
    "\n",
    "Output the resulting matrix.\n",
    "### Question 8-4\n",
    "\n",
    "What are the dimensions of the final matrix?"
   ]
  },
  {
   "cell_type": "code",
   "execution_count": 8,
   "metadata": {},
   "outputs": [
    {
     "name": "stdout",
     "output_type": "stream",
     "text": [
      "[0 1 2 3 4]\nthe dimensions of the final matrix is 1\n"
     ]
    }
   ],
   "source": [
    "# Question 8\n",
    "a = np.arange(12).reshape(3, 4)\n",
    "# Q 8-1\n",
    "a_bool = a < 5\n",
    "# Q 8-2\n",
    "a_bool_filtered = a[a_bool]\n",
    "# Q 8-3\n",
    "print(a_bool_filtered)\n",
    "# Q 8-4\n",
    "print(\"the dimensions of the final matrix is\", a_bool_filtered.ndim)"
   ]
  },
  {
   "cell_type": "markdown",
   "metadata": {},
   "source": [
    "# Question 9\n",
    "\n",
    "Using matrix given, write code to copy the matrix into a separate matrix\n",
    "with its own data (i.e., the variable is not a reference to matrix a)."
   ]
  },
  {
   "cell_type": "code",
   "execution_count": 9,
   "metadata": {},
   "outputs": [
    {
     "name": "stdout",
     "output_type": "stream",
     "text": [
      "Memory address of a:  4421031616\nMemory address of a_copy:  4421029936\n"
     ]
    }
   ],
   "source": [
    "import copy\n",
    "# Q 9\n",
    "a = np.arange(12).reshape(3,4)\n",
    "print(\"Memory address of a: \",id(a))\n",
    "a_copy = copy.deepcopy(a)\n",
    "print(\"Memory address of a_copy: \", id(a_copy))\n",
    "# a_address_copy = a\n",
    "# print(\"a_address_copy,Referenced,(not copy) of a: \", id(a_address_copy))\n"
   ]
  },
  {
   "cell_type": "markdown",
   "metadata": {},
   "source": [
    "## Question 10\n",
    "\n",
    "Using matrices x and y given, write code to\n",
    "\n",
    "### Question 10-1\n",
    "\n",
    "Calculate the transpose of x\n",
    "\n",
    "### Question 10-2\n",
    "\n",
    "Multiple matrix x by y (using the dot operator) and save the result in z \n",
    "\n",
    "### Question 10-3\n",
    "\n",
    "Calculate the inverse of z\n"
   ]
  },
  {
   "cell_type": "code",
   "execution_count": 10,
   "metadata": {},
   "outputs": [
    {
     "name": "stdout",
     "output_type": "stream",
     "text": [
      "[[ 1.  4.]\n [ 2.  5.]\n [ 3.  6.]]\n[[  28.   64.]\n [  67.  181.]]\n[[ 0.23205128 -0.08205128]\n [-0.08589744  0.03589744]]\n"
     ]
    }
   ],
   "source": [
    "# Question 10\n",
    "x = np.array([[1., 2., 3.], [4., 5., 6.]])\n",
    "y = np.array([[6., 23.], [-1, 7], [8, 9]])\n",
    "# Q 10-1\n",
    "print(x.transpose())\n",
    "# Q 10-2\n",
    "z = x.dot(y)\n",
    "print(z)\n",
    "# Q 10-3\n",
    "print(np.linalg.inv(z))\n",
    "# print(z.dot(np.linalg.inv(z))) # confirm to generate inverse\n"
   ]
  },
  {
   "cell_type": "markdown",
   "metadata": {},
   "source": [
    "## Question  11\n",
    "\n",
    "Execute the code given to display the plot."
   ]
  },
  {
   "cell_type": "code",
   "execution_count": 11,
   "metadata": {},
   "outputs": [
    {
     "data": {
      "image/png": "[encoded data removed]",
      "text/plain": [
       "<matplotlib.figure.Figure at 0x107836cc0>"
      ]
     },
     "metadata": {},
     "output_type": "display_data"
    }
   ],
   "source": [
    "# Question 11\n",
    "import matplotlib.pyplot as plt\n",
    "\n",
    "x = np.linspace(0, 2, 100)\n",
    "plt.plot(x, x, label='linear')\n",
    "plt.plot(x, x ** 2, label='quadratic')\n",
    "plt.plot(x, x ** 3, label='cubic')\n",
    "plt.xlabel('x label')\n",
    "plt.ylabel('y label')\n",
    "plt.title(\"Simple Plot\")\n",
    "plt.legend()\n",
    "plt.show()"
   ]
  },
  {
   "cell_type": "markdown",
   "metadata": {},
   "source": [
    "## Question  12\n",
    "\n",
    "Include the code above and add code to output the bar chart."
   ]
  },
  {
   "cell_type": "code",
   "execution_count": 15,
   "metadata": {},
   "outputs": [
    {
     "name": "stdout",
     "output_type": "stream",
     "text": [
      "       name sex  births  year\n0      Emma   F   19414  2016\n1    Olivia   F   19246  2016\n2       Ava   F   16237  2016\n3    Sophia   F   16070  2016\n4  Isabella   F   14722  2016\nsex\nF    7061742\nM    7587002\nName: births, dtype: int64\n<class 'pandas.core.frame.DataFrame'>\nRangeIndex(start=0, stop=132390, step=1)\n<class 'pandas.core.series.Series'>\nIndex(['Aaban', 'Aabha', 'Aabid', 'Aabir', 'Aabriella', 'Aada', 'Aadam',\n       'Aadan', 'Aadarsh', 'Aaden',\n       ...\n       'Zyrion', 'Zyriyah', 'Zyron', 'Zyrus', 'Zyshawn', 'Zytaveon', 'Zyus',\n       'Zyva', 'Zyvon', 'Zyyon'],\n      dtype='object', name='name', length=42990)\n13088        Emma\n31944      Olivia\n31467        Noah\n37352      Sophia\n25765        Liam\n28312       Mason\n17336       Jacob\n16827    Isabella\n40689     William\n5224          Ava\nName: name, dtype: object\n<class 'pandas.core.series.Series'>\n['Emma', 'Olivia', 'Noah', 'Sophia', 'Liam', 'Mason', 'Jacob', 'Isabella', 'William', 'Ava']\n"
     ]
    },
    {
     "data": {
      "image/png": "[encoded data removed]",
      "text/plain": [
       "<matplotlib.figure.Figure at 0x103d09080>"
      ]
     },
     "metadata": {},
     "output_type": "display_data"
    }
   ],
   "source": [
    "# Question 12\n",
    "import pandas as pd\n",
    "import matplotlib.pyplot as plt\n",
    "\n",
    "df_pieces = []\n",
    "path = \"/Users/reiven/Documents/Python/CSCI4710/Lab3/names/\"\n",
    "\n",
    "years = range(2013, 2017)\n",
    "for year in years:\n",
    "    df_year = pd.read_csv(path + \"yob\" + str(year) + \".txt\", names=[\"name\", \"sex\", \"births\"])\n",
    "    df_year[\"year\"] = year\n",
    "    df_pieces.append(df_year)\n",
    "\n",
    "names = pd.concat(df_pieces, ignore_index=True)\n",
    "\n",
    "# output a few lines of one of the data frames\n",
    "print(df_year.head())\n",
    "\n",
    "\n",
    "# sum births by gender\n",
    "print(names.groupby(\"sex\")[\"births\"].sum())\n",
    "\n",
    "print(type(names))\n",
    "print(names.index)\n",
    "n = names.groupby(\"name\")[\"births\"].sum()\n",
    "print(type(n))\n",
    "#note a hierarchical index was created\n",
    "print(n.index)\n",
    "n1 = n.reset_index(name=\"birthcount\")\n",
    "\n",
    "# top 10 birth names\n",
    "top10 = n1.sort_values(by='birthcount', ascending=False)[:10]\n",
    "# select the name column converts the dataframe to a series\n",
    "# which can be converted to a list\n",
    "print(top10['name'])\n",
    "print(type(top10['name']))\n",
    "l_top10 = top10['name'].tolist()\n",
    "print(l_top10)\n",
    "\n",
    "# select the births for names in the top 10 list\n",
    "df_top10 = names[names['name'].isin(l_top10)]\n",
    "# select name and birth count columns\n",
    "df_top10births = df_top10[['name','births']]\n",
    "# sum births for each name\n",
    "df_top10sum = df_top10.groupby('name')['births'].sum()\n",
    "df_top10sum = df_top10sum.reset_index(name='births')\n",
    "\n",
    "# create bar chart\n",
    "plt.style.use('ggplot')\n",
    "df_top10sum.plot(kind=\"bar\",x=df_top10sum[\"name\"],\n",
    "                              title=\"Birth Names\",\n",
    "                              legend=False)\n",
    "plt.gcf().subplots_adjust(bottom=0.2)\n",
    "plt.show()"
   ]
  },
  {
   "cell_type": "markdown",
   "metadata": {},
   "source": [
    "## Question 13~15\n",
    "\n",
    "Run the given code and excercise spark.\n",
    "\n",
    "### Question 13\n",
    "\n",
    "Run the given code\n",
    "\n",
    "### Question 14\n",
    "\n",
    "Add code to select the count of unique names in spark_df data frame\n",
    "\n",
    "### Question 15\n",
    "\n",
    "Add code to count the names born in 2016 in spark_df data frame"
   ]
  },
  {
   "cell_type": "code",
   "execution_count": 18,
   "metadata": {},
   "outputs": [
    {
     "name": "stdout",
     "output_type": "stream",
     "text": [
      "root\n |-- name: string (nullable = true)\n |-- sex: string (nullable = true)\n |-- births: long (nullable = true)\n |-- year: long (nullable = true)\n\n+----+---+------+----+\n|name|sex|births|year|\n+----+---+------+----+\n|Emma|  F| 20921|2013|\n|Emma|  M|    18|2013|\n|Emma|  F| 20912|2014|\n|Emma|  M|    12|2014|\n|Emma|  F| 20415|2015|\n|Emma|  M|    10|2015|\n|Emma|  F| 19414|2016|\n|Emma|  M|    18|2016|\n+----+---+------+----+\n\n"
     ]
    },
    {
     "name": "stdout",
     "output_type": "stream",
     "text": [
      "+--------+-----------+\n|    name|sum(births)|\n+--------+-----------+\n|    Emma|      81720|\n|  Olivia|      77142|\n|    Noah|      76551|\n|  Sophia|      73301|\n|    Liam|      73123|\n|   Mason|      66970|\n|   Jacob|      65377|\n|Isabella|      65037|\n| William|      65012|\n|     Ava|      63554|\n+--------+-----------+\n\n"
     ]
    },
    {
     "name": "stdout",
     "output_type": "stream",
     "text": [
      "count of distinct name: 42990\n"
     ]
    },
    {
     "name": "stdout",
     "output_type": "stream",
     "text": [
      "count the names born in 2016: 30294\n"
     ]
    }
   ],
   "source": [
    "import pyspark\n",
    "import pyspark.sql\n",
    "from pyspark.sql import SparkSession\n",
    "\n",
    "spark = SparkSession.builder.master(\"local[*]\").appName(\"lab3\").getOrCreate()\n",
    "sc = spark.sparkContext\n",
    "\n",
    "# Question 12\n",
    "import pandas as pd\n",
    "import matplotlib.pyplot as plt\n",
    "\n",
    "df_pieces = []\n",
    "path = \"/Users/reiven/Documents/Python/CSCI4710/Lab3/names/\"\n",
    "\n",
    "years = range(2013, 2017)\n",
    "for year in years:\n",
    "    df_year = pd.read_csv(path + \"yob\" + str(year) + \".txt\", names=[\"name\", \"sex\", \"births\"])\n",
    "    df_year[\"year\"] = year\n",
    "    df_pieces.append(df_year)\n",
    "\n",
    "names = pd.concat(df_pieces, ignore_index=True)\n",
    "\n",
    "spark_df = spark.createDataFrame(names)\n",
    "\n",
    "cached = spark_df.persist()\n",
    "spark_df.count()\n",
    "spark_df.first()\n",
    "\n",
    "names.shape\n",
    "\n",
    "spark_df.columns\n",
    "\n",
    "spark_df.printSchema()\n",
    "# find Emma names\n",
    "n = spark_df.filter(cached.name == 'Emma')\n",
    "n.show()\n",
    "# top 10\n",
    "# returns a list type\n",
    "from pyspark.sql.functions import col\n",
    "\n",
    "# Question 13\n",
    "top10 = spark_df[['name', 'births']].groupBy('name').sum().sort(col('sum(births)').desc()).limit(10).show()\n",
    "\n",
    "# Question 14\n",
    "print(\"count of distinct name:\", spark_df.select(\"name\").distinct().count())\n",
    "\n",
    "# Question 15\n",
    "print(\"count the names born in 2016:\", spark_df.filter(col(\"year\") == \"2016\").select(\"name\").distinct().count())\n"
   ]
  }
 ],
 "metadata": {
  "kernelspec": {
   "display_name": "Python 2",
   "language": "python",
   "name": "python2"
  },
  "language_info": {
   "codemirror_mode": {
    "name": "ipython",
    "version": 2
   },
   "file_extension": ".py",
   "mimetype": "text/x-python",
   "name": "python",
   "nbconvert_exporter": "python",
   "pygments_lexer": "ipython2",
   "version": "2.7.6"
  }
 },
 "nbformat": 4,
 "nbformat_minor": 0
}
