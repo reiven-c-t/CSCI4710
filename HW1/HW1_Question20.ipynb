{
 "cells": [
  {
   "cell_type": "markdown",
   "metadata": {
    "collapsed": true
   },
   "source": [
    "# HW1 Question 20"
   ]
  },
  {
   "cell_type": "markdown",
   "metadata": {},
   "source": [
    "\n",
    "\n",
    "## Problem\n",
    "\n",
    "Modify the MapReduce code below to find the count of the number of distinct integers in the input.\n",
    "\n",
    "\n",
    "- Create a Jupyter notebook\n",
    "- Add the starting code below\n",
    "- Write the mapper and reducer for this problem\n",
    "- Create a small file with test data\n",
    "- Print the file contents (so I know what data you used to run the program)\n",
    "- Run the Jupyter notebook on your test file\n"
   ]
  },
  {
   "cell_type": "markdown",
   "metadata": {},
   "source": [
    "## Solution"
   ]
  },
  {
   "cell_type": "code",
   "execution_count": 2,
   "metadata": {},
   "outputs": [
    {
     "name": "stdout",
     "output_type": "stream",
     "text": [
      "Below is the test file\n----------\n1 10 9 1\n\n3\n\n5\n\n10 9 4\n----------\n('1', 2)\n('10', 2)\n('3', 1)\n('4', 1)\n('5', 1)\n('9', 2)\n----------\nthe number of distinct integer in a file: 6\n"
     ]
    }
   ],
   "source": [
    "import sys\n",
    "import io\n",
    "import string\n",
    "import re\n",
    "\n",
    "\n",
    "class MapReduce:\n",
    "    def __init__(self):\n",
    "        self.intermediate = dict()\n",
    "        self.result = []\n",
    "\n",
    "    def emitIntermediate(self, key, value):\n",
    "        self.intermediate.setdefault(key, [])\n",
    "        self.intermediate[key].append(value)\n",
    "\n",
    "    def emit(self, value):\n",
    "        self.result.append(value)\n",
    "\n",
    "    def execute(self, data, mapper, reducer):\n",
    "        for record in data:\n",
    "            mapper(record)\n",
    "\n",
    "        for key in sorted(self.intermediate.keys()):\n",
    "            # print(key, self.intermediate[key])\n",
    "            reducer(key, self.intermediate[key])\n",
    "\n",
    "        self.result.sort()\n",
    "        for item in self.result:\n",
    "            print(item)\n",
    "        print(\"-\" * 10)\n",
    "        print(\"the number of distinct integer in a file:\",len(self.result))\n",
    "\n",
    "\n",
    "mapReducer = MapReduce()\n",
    "\n",
    "\n",
    "def mapper(line):\n",
    "    \"\"\"\n",
    "    split line to word here and return (word, 1)\n",
    "    :param line:\n",
    "    :return:\n",
    "    \"\"\"\n",
    "    words = line.split()\n",
    "    for word in words:\n",
    "        mapReducer.emitIntermediate(word, \"dummy\")  # don't need word as value I think\n",
    "\n",
    "\n",
    "def reducer(key, list_of_values):\n",
    "    \"\"\"\n",
    "    :param key:\n",
    "    :param list_of_values:\n",
    "    :return:\n",
    "    \"\"\"\n",
    "    mapReducer.emit((key, len(list_of_values)))\n",
    "\n",
    "\n",
    "if __name__ == '__main__':\n",
    "    inputData = []\n",
    "    file = open(\"/Users/reiven/Documents/Python/CSCI4710/HW1/test.txt\", \"r\")\n",
    "    print(\"Below is the test file\")\n",
    "    print(\"-\" * 10)\n",
    "    for line in file:\n",
    "        print(line)\n",
    "        inputData.append(line)\n",
    "    print(\"-\" * 10)\n",
    "    mapReducer.execute(inputData, mapper, reducer)\n"
   ]
  },
  {
   "cell_type": "code",
   "execution_count": null,
   "metadata": {},
   "outputs": [],
   "source": []
  }
 ],
 "metadata": {
  "kernelspec": {
   "display_name": "Python 2",
   "language": "python",
   "name": "python2"
  },
  "language_info": {
   "codemirror_mode": {
    "name": "ipython",
    "version": 2
   },
   "file_extension": ".py",
   "mimetype": "text/x-python",
   "name": "python",
   "nbconvert_exporter": "python",
   "pygments_lexer": "ipython2",
   "version": "2.7.6"
  }
 },
 "nbformat": 4,
 "nbformat_minor": 0
}
