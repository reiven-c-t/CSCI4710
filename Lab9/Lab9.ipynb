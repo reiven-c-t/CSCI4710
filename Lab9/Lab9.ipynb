{
 "cells": [
  {
   "cell_type": "markdown",
   "metadata": {
    "collapsed": true
   },
   "source": [
    "# Lab9\n",
    "\n"
   ]
  },
  {
   "cell_type": "markdown",
   "metadata": {},
   "source": [
    "The purpose of this lab is to analysis Quakers data set.\n",
    "\n",
    "Quakers is religious community's data found in\n",
    " England in the mid-seventheenth century."
   ]
  },
  {
   "cell_type": "code",
   "execution_count": 1,
   "metadata": {},
   "outputs": [],
   "source": [
    "import csv\n",
    "import networkx as nx\n",
    "from operator import itemgetter\n",
    "import community\n"
   ]
  },
  {
   "cell_type": "code",
   "execution_count": 5,
   "metadata": {},
   "outputs": [],
   "source": [
    "# load data\n",
    "node_list_path = '/Users/reiven/Documents/Python/CSCI4710/Lab9/quakers_nodelist.csv';\n",
    "edge_list_path = '/Users/reiven/Documents/Python/CSCI4710/Lab9/quakers_edgelist.csv'\n",
    "\n",
    "with open(node_list_path, 'r') as nodecsv:\n",
    "    nodereader = csv.reader(nodecsv)\n",
    "\n",
    "    nodes = [n for n in nodereader][1:]\n",
    "\n",
    "node_names = [n[0] for n in nodes]\n",
    "\n",
    "with open(edge_list_path, 'r') as edgecsv:\n",
    "    edgereader = csv.reader(edgecsv)\n",
    "    edges = [tuple(e) for e in edgereader][1:]"
   ]
  },
  {
   "cell_type": "code",
   "execution_count": 4,
   "metadata": {},
   "outputs": [
    {
     "name": "stdout",
     "output_type": "stream",
     "text": [
      "number of nodes 119\nnumber of edges 174\n"
     ]
    }
   ],
   "source": [
    "print('number of nodes',len(node_names))\n",
    "print('number of edges',len(edges))"
   ]
  },
  {
   "cell_type": "code",
   "execution_count": 15,
   "metadata": {},
   "outputs": [
    {
     "name": "stdout",
     "output_type": "stream",
     "text": [
      "# top 5 item of G\n----------\nJoseph Wyeth 1663\nAlexander Skene of Newtyle 1621\nJames Logan 1674\nDorcas Erbery 1656\nLilias Skene 1626\n"
     ]
    }
   ],
   "source": [
    "# create graph\n",
    "G = nx.Graph()\n",
    "G.add_nodes_from(node_names)\n",
    "G.add_edges_from(edges)\n",
    "\n",
    "# print(nx.info(G))\n",
    "\n",
    "# add attribute\n",
    "hist_sig_dict = {}\n",
    "gender_dict = {}\n",
    "birth_dict = {}\n",
    "death_dict = {}\n",
    "id_dict = {}\n",
    "\n",
    "for node in nodes:\n",
    "    hist_sig_dict[node[0]] = node[1]\n",
    "    gender_dict[node[0]] = node[2]\n",
    "    birth_dict[node[0]] = node[3]\n",
    "    death_dict[node[0]] = node[4]\n",
    "    id_dict[node[0]] = node[5]\n",
    "\n",
    "nx.set_node_attributes(G, hist_sig_dict, 'historical_significance')\n",
    "nx.set_node_attributes(G, gender_dict, 'gender')\n",
    "nx.set_node_attributes(G, birth_dict, 'birth_year')\n",
    "nx.set_node_attributes(G, death_dict, 'death_year')\n",
    "nx.set_node_attributes(G, id_dict, 'sdfb_id')\n",
    "\n",
    "print('# head 5 item of G')\n",
    "print('-'*10)\n",
    "print('name, birth_year')\n",
    "count = 0\n",
    "for n in G.nodes():  # Loop through every node, in our data \"n\" will be the name of the person\n",
    "    print(n, G.node[n]['birth_year'])  # Access every node by its name, and then by the attribute \"birth_year\"\n",
    "    if count > 3:\n",
    "        break\n",
    "    else:\n",
    "        count += 1\n",
    "\n",
    "# Network density(need definition)\n"
   ]
  },
  {
   "cell_type": "markdown",
   "metadata": {},
   "source": [
    "## Network density\n",
    "\n",
    "Network density is the ratio of actual edges in the networks to all possible edges in the network.\n",
    "\n",
    "- $|N(G)|$: number of nodes in graph G\n",
    "- $|E(G)|$: number of edges in graph G\n",
    "- $K(N)$: Complete graph of N edges\n",
    "\n",
    "Network density = $\\frac{|E(G)|}{|E(K(|N(G|))|}$"
   ]
  },
  {
   "cell_type": "code",
   "execution_count": 19,
   "metadata": {},
   "outputs": [
    {
     "name": "stdout",
     "output_type": "stream",
     "text": [
      "Network density: 0.02478279447372169\nName: \nType: Graph\nNumber of nodes: 119\nNumber of edges: 174\nAverage degree:   2.9244\nNetwork density: 0.02478279447372169\n"
     ]
    }
   ],
   "source": [
    "density =  nx.density(G)\n",
    "print(\"Network density:\", density)\n",
    "\n",
    "print(nx.info(G))\n",
    "density_by_my_own_calc = 174 / (119 * 118 / 2)\n",
    "print(\"Network density:\", density_by_my_own_calc)"
   ]
  },
  {
   "cell_type": "markdown",
   "metadata": {},
   "source": [
    "## Shortest path between Margaret Fell and George Whitehead\n",
    "\n",
    "Shortest path in undirected graph is following.\n",
    "Suppose there is connection between $A,B\\in G$ with some edges($\\{e_1,e_2,\\cdots,\\e_n\\}$).\n",
    "\n",
    "If there are some connection's edge sets, the smallest components edge sets is shortest path."
   ]
  },
  {
   "cell_type": "code",
   "execution_count": 23,
   "metadata": {},
   "outputs": [
    {
     "name": "stdout",
     "output_type": "stream",
     "text": [
      "Shortest path between Fell and Whitehead: ['Margaret Fell', 'George Fox', 'George Whitehead']\nLength of that path: 2\n"
     ]
    }
   ],
   "source": [
    "fell_whitehead_path = nx.shortest_path(G, source=\"Margaret Fell\", target=\"George Whitehead\")\n",
    "print(\"Shortest path between Fell and Whitehead:\", fell_whitehead_path)\n",
    "print(\"Length of that path:\", len(fell_whitehead_path)-1)\n",
    "\n"
   ]
  },
  {
   "cell_type": "markdown",
   "metadata": {},
   "source": [
    "## Diameter of largest connected subgraph\n",
    "\n",
    " Diameter is the longest of all shortest paths."
   ]
  },
  {
   "cell_type": "code",
   "execution_count": 24,
   "metadata": {},
   "outputs": [
    {
     "name": "stdout",
     "output_type": "stream",
     "text": [
      "False\nNetwork diameter of largest component: 8\n"
     ]
    }
   ],
   "source": [
    "# If your Graph has more than one component, this will return False:\n",
    "print(nx.is_connected(G))\n",
    "\n",
    "# Next, use nx.connected_components to get the list of components,\n",
    "# then use the max() command to find the largest one:\n",
    "components = nx.connected_components(G)\n",
    "largest_component = max(components, key=len)\n",
    "\n",
    "# Create a \"subgraph\" of just the largest component\n",
    "# Then calculate the diameter of the subgraph, just like you did with density.\n",
    "#\n",
    "\n",
    "subgraph = G.subgraph(largest_component)\n",
    "diameter = nx.diameter(subgraph)\n",
    "print(\"Network diameter of largest component:\", diameter)"
   ]
  },
  {
   "cell_type": "markdown",
   "metadata": {},
   "source": [
    "## Transitivity\n",
    "\n",
    "Transitivity is the ratio of all triangles over all possible triangles. It is similar meaning to density."
   ]
  },
  {
   "cell_type": "code",
   "execution_count": 25,
   "metadata": {},
   "outputs": [
    {
     "name": "stdout",
     "output_type": "stream",
     "text": [
      "Triadic closure: 0.16937799043062202\n"
     ]
    }
   ],
   "source": [
    "triadic_closure = nx.transitivity(G)\n",
    "print(\"Triadic closure:\", triadic_closure)\n"
   ]
  },
  {
   "cell_type": "markdown",
   "metadata": {},
   "source": [
    "##  Top 5 nodes with highest Betweenness Centrality\n",
    "\n",
    "Betweenness centrality is calculated in each edge with counting the number of edge sets of all the shortest path in graph G.\n",
    "\n",
    "It suggest higher betweeness centrality, more huge difference between 2 node in the edge. It sometimes use to cut graph to separate cluster."
   ]
  },
  {
   "cell_type": "code",
   "execution_count": 28,
   "metadata": {},
   "outputs": [
    {
     "name": "stdout",
     "output_type": "stream",
     "text": [
      "Top 20 nodes by betweenness centrality:\n('William Penn', 0.23999456006192205)\n('George Fox', 0.23683257726065216)\n('George Whitehead', 0.12632024847366005)\n('Margaret Fell', 0.12106792237170329)\n('James Nayler', 0.10446026280446098)\n"
     ]
    }
   ],
   "source": [
    "betweenness_dict = nx.betweenness_centrality(G)\n",
    "nx.set_node_attributes(G, betweenness_dict, 'betweenness')\n",
    "\n",
    "sorted_betweenness = sorted(betweenness_dict.items(), key=itemgetter(1), reverse=True)\n",
    "\n",
    "print(\"Top 5 nodes by betweenness centrality:\")\n",
    "for b in sorted_betweenness[:5]:\n",
    "    print(b)\n"
   ]
  },
  {
   "cell_type": "markdown",
   "metadata": {},
   "source": [
    "##  Number of cliques\n",
    "\n",
    "Clique is $K(N) \\subset G(V,E)$."
   ]
  },
  {
   "cell_type": "code",
   "execution_count": 31,
   "metadata": {},
   "outputs": [
    {
     "data": {
      "text/plain": [
       "360"
      ]
     },
     "execution_count": 31,
     "metadata": {},
     "output_type": "execute_result"
    }
   ],
   "source": [
    "len(list(nx.enumerate_all_cliques(G)))"
   ]
  },
  {
   "cell_type": "markdown",
   "metadata": {},
   "source": [
    "## First row of an adjacency matrix for the graph\n",
    "\n",
    " "
   ]
  },
  {
   "cell_type": "code",
   "execution_count": 39,
   "metadata": {},
   "outputs": [
    {
     "name": "stdout",
     "output_type": "stream",
     "text": [
      "[[0 0 0 0 0 0 0 0 0 0 0 0 0 0 0 0 0 0 0 0 0 0 0 0 0 0 0 0 0 0 0 0 0 0 0 0 0\n  0 0 0 0 0 0 0 0 0 0 0 0 0 0 0 0 0 0 0 0 0 0 0 0 0 0 0 0 0 0 0 0 0 0 0 0 0\n  0 0 0 0 0 0 0 0 0 0 0 0 0 0 0 0 0 0 0 0 0 0 0 0 0 0 0 0 0 0 0 0 0 0 0 0 0\n  0 0 0 1 0 0 0 0]]\n"
     ]
    }
   ],
   "source": [
    "adjacency_matrix = nx.adjacency_matrix(G)\n",
    "print(adjacency_matrix.todense()[0,:])\n",
    "# print(adjacency_matrix[0,:])"
   ]
  },
  {
   "cell_type": "code",
   "execution_count": null,
   "metadata": {},
   "outputs": [],
   "source": []
  }
 ],
 "metadata": {
  "kernelspec": {
   "display_name": "Python 2",
   "language": "python",
   "name": "python2"
  },
  "language_info": {
   "codemirror_mode": {
    "name": "ipython",
    "version": 2
   },
   "file_extension": ".py",
   "mimetype": "text/x-python",
   "name": "python",
   "nbconvert_exporter": "python",
   "pygments_lexer": "ipython2",
   "version": "2.7.6"
  }
 },
 "nbformat": 4,
 "nbformat_minor": 0
}
